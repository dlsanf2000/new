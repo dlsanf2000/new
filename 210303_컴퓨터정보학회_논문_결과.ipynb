{
  "nbformat": 4,
  "nbformat_minor": 0,
  "metadata": {
    "colab": {
      "name": "컴퓨터정보학회 논문 결과.ipynb",
      "provenance": [],
      "collapsed_sections": [],
      "authorship_tag": "ABX9TyMJ0YI6/VhUQa/YZnlWHrgJ",
      "include_colab_link": true
    },
    "kernelspec": {
      "name": "python3",
      "display_name": "Python 3"
    },
    "accelerator": "GPU"
  },
  "cells": [
    {
      "cell_type": "markdown",
      "metadata": {
        "id": "view-in-github",
        "colab_type": "text"
      },
      "source": [
        "<a href=\"https://colab.research.google.com/github/dlsanf2000/new/blob/master/210303_%EC%BB%B4%ED%93%A8%ED%84%B0%EC%A0%95%EB%B3%B4%ED%95%99%ED%9A%8C_%EB%85%BC%EB%AC%B8_%EA%B2%B0%EA%B3%BC.ipynb\" target=\"_parent\"><img src=\"https://colab.research.google.com/assets/colab-badge.svg\" alt=\"Open In Colab\"/></a>"
      ]
    },
    {
      "cell_type": "code",
      "metadata": {
        "id": "PQAl3uZWzAk3",
        "colab": {
          "base_uri": "https://localhost:8080/"
        },
        "outputId": "1866f61f-59a6-4e43-ae5e-db42923053d1"
      },
      "source": [
        "import numpy as np\r\n",
        "import pandas as pd\r\n",
        "from sklearn.preprocessing import StandardScaler\r\n",
        "!pip install -U -q PyDrive \r\n",
        "from pydrive.auth import GoogleAuth \r\n",
        "from pydrive.drive import GoogleDrive \r\n",
        "from google.colab import auth\r\n",
        "from oauth2client.client import GoogleCredentials\r\n",
        "from google.colab import drive\r\n",
        "drive.mount('/content/drive/')"
      ],
      "execution_count": 1,
      "outputs": [
        {
          "output_type": "stream",
          "text": [
            "Mounted at /content/drive/\n"
          ],
          "name": "stdout"
        }
      ]
    },
    {
      "cell_type": "code",
      "metadata": {
        "id": "L-o3BkyqzK8f"
      },
      "source": [
        "df_raw = pd.read_excel('/content/drive/MyDrive/Colab Notebooks/real data.xlsx', header = 2)\r\n",
        "df_raw.head()\r\n",
        "df_raw = df_raw.drop([0,1])\r\n",
        "df1 = df_raw[['Age', 'Sex', 'ASA', 'BMI', 'DM_history', 'Pulmonary_disease',\r\n",
        "        'Liver_disease', 'Kidney_disease', 'Smoking_history',\r\n",
        "        'Prior_Dx_cancer','pT','pM', 'pTNM', 'K-ras', 'N-ras', 'BRAF', 'LVI', 'PNI', 'pN', 'Harvested_LN','Positive_LN','Postop_Chemo_Regimen']]\r\n",
        "df = df1.copy()\r\n"
      ],
      "execution_count": 2,
      "outputs": []
    },
    {
      "cell_type": "code",
      "metadata": {
        "id": "8o4Uos_W-Or7",
        "colab": {
          "base_uri": "https://localhost:8080/"
        },
        "outputId": "fa4cafab-f399-4ceb-b6c4-12c2369c797d"
      },
      "source": [
        "# df = df.dropna()\r\n",
        "\r\n",
        "df.isna().sum()"
      ],
      "execution_count": 3,
      "outputs": [
        {
          "output_type": "execute_result",
          "data": {
            "text/plain": [
              "Age                        0\n",
              "Sex                        0\n",
              "ASA                        0\n",
              "BMI                        0\n",
              "DM_history                 0\n",
              "Pulmonary_disease          0\n",
              "Liver_disease              0\n",
              "Kidney_disease             0\n",
              "Smoking_history            0\n",
              "Prior_Dx_cancer            0\n",
              "pT                         8\n",
              "pM                         6\n",
              "pTNM                       8\n",
              "K-ras                      0\n",
              "N-ras                      0\n",
              "BRAF                       0\n",
              "LVI                       48\n",
              "PNI                       46\n",
              "pN                         4\n",
              "Harvested_LN              59\n",
              "Positive_LN               56\n",
              "Postop_Chemo_Regimen    1385\n",
              "dtype: int64"
            ]
          },
          "metadata": {
            "tags": []
          },
          "execution_count": 3
        }
      ]
    },
    {
      "cell_type": "code",
      "metadata": {
        "colab": {
          "base_uri": "https://localhost:8080/"
        },
        "id": "D3rcwlOCcDjy",
        "outputId": "6378f0aa-5976-4a06-ad44-1496ad4e99ac"
      },
      "source": [
        "print(df['LVI'].value_counts())\r\n",
        "df['LVI']=df['LVI'].fillna(32)\r\n",
        "df['LVI'].isna().sum()"
      ],
      "execution_count": 4,
      "outputs": [
        {
          "output_type": "stream",
          "text": [
            "32    1763\n",
            "31    1121\n",
            "11     282\n",
            "4       51\n",
            "12      20\n",
            "21      19\n",
            "42      10\n",
            "41       5\n",
            "22       1\n",
            "3        1\n",
            "Name: LVI, dtype: int64\n"
          ],
          "name": "stdout"
        },
        {
          "output_type": "execute_result",
          "data": {
            "text/plain": [
              "0"
            ]
          },
          "metadata": {
            "tags": []
          },
          "execution_count": 4
        }
      ]
    },
    {
      "cell_type": "code",
      "metadata": {
        "colab": {
          "base_uri": "https://localhost:8080/"
        },
        "id": "8BcWXX2odCmg",
        "outputId": "da039ad1-a247-4b90-e685-c58d4fb43003"
      },
      "source": [
        "print(df['PNI'].value_counts())\r\n",
        "df['PNI']=df['PNI'].fillna(2)\r\n",
        "df['PNI'].isna().sum()"
      ],
      "execution_count": 5,
      "outputs": [
        {
          "output_type": "stream",
          "text": [
            "2    2045\n",
            "1     724\n",
            "3     506\n",
            "Name: PNI, dtype: int64\n"
          ],
          "name": "stdout"
        },
        {
          "output_type": "execute_result",
          "data": {
            "text/plain": [
              "0"
            ]
          },
          "metadata": {
            "tags": []
          },
          "execution_count": 5
        }
      ]
    },
    {
      "cell_type": "code",
      "metadata": {
        "colab": {
          "base_uri": "https://localhost:8080/"
        },
        "id": "I0GsRBBldJIR",
        "outputId": "1046fe58-058f-4ec3-e789-0ef86f887e32"
      },
      "source": [
        "print(df['pN'].value_counts())\r\n",
        "df['pN']=df['pN'].fillna(2)\r\n",
        "df['pN'].isna().sum()"
      ],
      "execution_count": 6,
      "outputs": [
        {
          "output_type": "stream",
          "text": [
            "2       1872\n",
            "32       413\n",
            "31       387\n",
            "42       310\n",
            "41       290\n",
            "3         24\n",
            "4         14\n",
            "33         4\n",
            "9999       3\n",
            "Name: pN, dtype: int64\n"
          ],
          "name": "stdout"
        },
        {
          "output_type": "execute_result",
          "data": {
            "text/plain": [
              "0"
            ]
          },
          "metadata": {
            "tags": []
          },
          "execution_count": 6
        }
      ]
    },
    {
      "cell_type": "code",
      "metadata": {
        "colab": {
          "base_uri": "https://localhost:8080/"
        },
        "id": "pogJk_tCdLvs",
        "outputId": "3f6a14de-3bef-43da-bd80-5b85c59319c9"
      },
      "source": [
        "print(df['Harvested_LN'].value_counts())\r\n",
        "df['Harvested_LN']=df['Harvested_LN'].fillna(df['Harvested_LN'].mean())\r\n",
        "df['Harvested_LN'].isna().sum()"
      ],
      "execution_count": 7,
      "outputs": [
        {
          "output_type": "stream",
          "text": [
            "12    210\n",
            "14    163\n",
            "13    161\n",
            "20    151\n",
            "15    151\n",
            "     ... \n",
            "72      1\n",
            "71      1\n",
            "69      1\n",
            "67      1\n",
            "0       1\n",
            "Name: Harvested_LN, Length: 97, dtype: int64\n"
          ],
          "name": "stdout"
        },
        {
          "output_type": "execute_result",
          "data": {
            "text/plain": [
              "0"
            ]
          },
          "metadata": {
            "tags": []
          },
          "execution_count": 7
        }
      ]
    },
    {
      "cell_type": "code",
      "metadata": {
        "colab": {
          "base_uri": "https://localhost:8080/"
        },
        "id": "p9BVrdYEeCis",
        "outputId": "e83d4f1a-c3dd-4f2c-d13f-ea1a64b31fb3"
      },
      "source": [
        "print(df['Positive_LN'].value_counts())\r\n",
        "df['Positive_LN']=df['Positive_LN'].fillna(df['Positive_LN'].mean())\r\n",
        "df['Positive_LN'].isna().sum()"
      ],
      "execution_count": 8,
      "outputs": [
        {
          "output_type": "stream",
          "text": [
            "0       1840\n",
            "1        395\n",
            "2        250\n",
            "3        166\n",
            "4        122\n",
            "5        103\n",
            "6         67\n",
            "7         60\n",
            "8         41\n",
            "9         34\n",
            "10        24\n",
            "11        20\n",
            "12        19\n",
            "14        17\n",
            "15        12\n",
            "13         8\n",
            "19         7\n",
            "24         7\n",
            "18         7\n",
            "22         7\n",
            "17         6\n",
            "16         5\n",
            "9999       5\n",
            "20         4\n",
            "28         4\n",
            "32         4\n",
            "21         4\n",
            "23         4\n",
            "33         3\n",
            "46         2\n",
            "36         2\n",
            "27         2\n",
            "26         2\n",
            "25         2\n",
            "88         1\n",
            "34         1\n",
            "31         1\n",
            "29         1\n",
            "39         1\n",
            "40         1\n",
            "54         1\n",
            "64         1\n",
            "72         1\n",
            "35         1\n",
            "Name: Positive_LN, dtype: int64\n"
          ],
          "name": "stdout"
        },
        {
          "output_type": "execute_result",
          "data": {
            "text/plain": [
              "0"
            ]
          },
          "metadata": {
            "tags": []
          },
          "execution_count": 8
        }
      ]
    },
    {
      "cell_type": "code",
      "metadata": {
        "colab": {
          "base_uri": "https://localhost:8080/"
        },
        "id": "KYqTEc91eHmE",
        "outputId": "11f4d09f-cd46-4516-8642-62ca1337b098"
      },
      "source": [
        "df.isna().sum()"
      ],
      "execution_count": 9,
      "outputs": [
        {
          "output_type": "execute_result",
          "data": {
            "text/plain": [
              "Age                        0\n",
              "Sex                        0\n",
              "ASA                        0\n",
              "BMI                        0\n",
              "DM_history                 0\n",
              "Pulmonary_disease          0\n",
              "Liver_disease              0\n",
              "Kidney_disease             0\n",
              "Smoking_history            0\n",
              "Prior_Dx_cancer            0\n",
              "pT                         8\n",
              "pM                         6\n",
              "pTNM                       8\n",
              "K-ras                      0\n",
              "N-ras                      0\n",
              "BRAF                       0\n",
              "LVI                        0\n",
              "PNI                        0\n",
              "pN                         0\n",
              "Harvested_LN               0\n",
              "Positive_LN                0\n",
              "Postop_Chemo_Regimen    1385\n",
              "dtype: int64"
            ]
          },
          "metadata": {
            "tags": []
          },
          "execution_count": 9
        }
      ]
    },
    {
      "cell_type": "code",
      "metadata": {
        "id": "jN_0ZXn9HVt5",
        "colab": {
          "base_uri": "https://localhost:8080/",
          "height": 453
        },
        "outputId": "743a499d-6ed9-4fa9-d161-c2befba30d49"
      },
      "source": [
        "df"
      ],
      "execution_count": 10,
      "outputs": [
        {
          "output_type": "execute_result",
          "data": {
            "text/html": [
              "<div>\n",
              "<style scoped>\n",
              "    .dataframe tbody tr th:only-of-type {\n",
              "        vertical-align: middle;\n",
              "    }\n",
              "\n",
              "    .dataframe tbody tr th {\n",
              "        vertical-align: top;\n",
              "    }\n",
              "\n",
              "    .dataframe thead th {\n",
              "        text-align: right;\n",
              "    }\n",
              "</style>\n",
              "<table border=\"1\" class=\"dataframe\">\n",
              "  <thead>\n",
              "    <tr style=\"text-align: right;\">\n",
              "      <th></th>\n",
              "      <th>Age</th>\n",
              "      <th>Sex</th>\n",
              "      <th>ASA</th>\n",
              "      <th>BMI</th>\n",
              "      <th>DM_history</th>\n",
              "      <th>Pulmonary_disease</th>\n",
              "      <th>Liver_disease</th>\n",
              "      <th>Kidney_disease</th>\n",
              "      <th>Smoking_history</th>\n",
              "      <th>Prior_Dx_cancer</th>\n",
              "      <th>pT</th>\n",
              "      <th>pM</th>\n",
              "      <th>pTNM</th>\n",
              "      <th>K-ras</th>\n",
              "      <th>N-ras</th>\n",
              "      <th>BRAF</th>\n",
              "      <th>LVI</th>\n",
              "      <th>PNI</th>\n",
              "      <th>pN</th>\n",
              "      <th>Harvested_LN</th>\n",
              "      <th>Positive_LN</th>\n",
              "      <th>Postop_Chemo_Regimen</th>\n",
              "    </tr>\n",
              "  </thead>\n",
              "  <tbody>\n",
              "    <tr>\n",
              "      <th>2</th>\n",
              "      <td>73</td>\n",
              "      <td>2</td>\n",
              "      <td>3</td>\n",
              "      <td>16.25</td>\n",
              "      <td>0</td>\n",
              "      <td>0</td>\n",
              "      <td>0</td>\n",
              "      <td>0</td>\n",
              "      <td>2</td>\n",
              "      <td>0</td>\n",
              "      <td>6</td>\n",
              "      <td>1</td>\n",
              "      <td>32</td>\n",
              "      <td>1</td>\n",
              "      <td>1</td>\n",
              "      <td>1</td>\n",
              "      <td>11</td>\n",
              "      <td>3</td>\n",
              "      <td>31</td>\n",
              "      <td>23.0</td>\n",
              "      <td>1.0</td>\n",
              "      <td>1</td>\n",
              "    </tr>\n",
              "    <tr>\n",
              "      <th>3</th>\n",
              "      <td>63</td>\n",
              "      <td>1</td>\n",
              "      <td>2</td>\n",
              "      <td>23.88</td>\n",
              "      <td>0</td>\n",
              "      <td>0</td>\n",
              "      <td>0</td>\n",
              "      <td>0</td>\n",
              "      <td>2</td>\n",
              "      <td>0</td>\n",
              "      <td>6</td>\n",
              "      <td>1</td>\n",
              "      <td>33</td>\n",
              "      <td>1</td>\n",
              "      <td>1</td>\n",
              "      <td>1</td>\n",
              "      <td>32</td>\n",
              "      <td>3</td>\n",
              "      <td>41</td>\n",
              "      <td>10.0</td>\n",
              "      <td>4.0</td>\n",
              "      <td>NaN</td>\n",
              "    </tr>\n",
              "    <tr>\n",
              "      <th>4</th>\n",
              "      <td>45</td>\n",
              "      <td>2</td>\n",
              "      <td>2</td>\n",
              "      <td>21.83</td>\n",
              "      <td>0</td>\n",
              "      <td>0</td>\n",
              "      <td>0</td>\n",
              "      <td>0</td>\n",
              "      <td>2</td>\n",
              "      <td>0</td>\n",
              "      <td>4</td>\n",
              "      <td>1</td>\n",
              "      <td>1</td>\n",
              "      <td>1</td>\n",
              "      <td>1</td>\n",
              "      <td>1</td>\n",
              "      <td>32</td>\n",
              "      <td>3</td>\n",
              "      <td>2</td>\n",
              "      <td>56.0</td>\n",
              "      <td>0.0</td>\n",
              "      <td>NaN</td>\n",
              "    </tr>\n",
              "    <tr>\n",
              "      <th>5</th>\n",
              "      <td>69</td>\n",
              "      <td>1</td>\n",
              "      <td>3</td>\n",
              "      <td>22.86</td>\n",
              "      <td>1</td>\n",
              "      <td>0</td>\n",
              "      <td>0</td>\n",
              "      <td>0</td>\n",
              "      <td>2</td>\n",
              "      <td>1</td>\n",
              "      <td>6</td>\n",
              "      <td>1</td>\n",
              "      <td>32</td>\n",
              "      <td>1</td>\n",
              "      <td>1</td>\n",
              "      <td>1</td>\n",
              "      <td>32</td>\n",
              "      <td>3</td>\n",
              "      <td>31</td>\n",
              "      <td>33.0</td>\n",
              "      <td>1.0</td>\n",
              "      <td>1</td>\n",
              "    </tr>\n",
              "    <tr>\n",
              "      <th>6</th>\n",
              "      <td>69</td>\n",
              "      <td>1</td>\n",
              "      <td>2</td>\n",
              "      <td>20.81</td>\n",
              "      <td>0</td>\n",
              "      <td>0</td>\n",
              "      <td>0</td>\n",
              "      <td>0</td>\n",
              "      <td>2</td>\n",
              "      <td>0</td>\n",
              "      <td>6</td>\n",
              "      <td>1</td>\n",
              "      <td>32</td>\n",
              "      <td>1</td>\n",
              "      <td>1</td>\n",
              "      <td>1</td>\n",
              "      <td>21</td>\n",
              "      <td>3</td>\n",
              "      <td>31</td>\n",
              "      <td>25.0</td>\n",
              "      <td>1.0</td>\n",
              "      <td>1</td>\n",
              "    </tr>\n",
              "    <tr>\n",
              "      <th>...</th>\n",
              "      <td>...</td>\n",
              "      <td>...</td>\n",
              "      <td>...</td>\n",
              "      <td>...</td>\n",
              "      <td>...</td>\n",
              "      <td>...</td>\n",
              "      <td>...</td>\n",
              "      <td>...</td>\n",
              "      <td>...</td>\n",
              "      <td>...</td>\n",
              "      <td>...</td>\n",
              "      <td>...</td>\n",
              "      <td>...</td>\n",
              "      <td>...</td>\n",
              "      <td>...</td>\n",
              "      <td>...</td>\n",
              "      <td>...</td>\n",
              "      <td>...</td>\n",
              "      <td>...</td>\n",
              "      <td>...</td>\n",
              "      <td>...</td>\n",
              "      <td>...</td>\n",
              "    </tr>\n",
              "    <tr>\n",
              "      <th>3318</th>\n",
              "      <td>77</td>\n",
              "      <td>2</td>\n",
              "      <td>2</td>\n",
              "      <td>23.55</td>\n",
              "      <td>0</td>\n",
              "      <td>0</td>\n",
              "      <td>0</td>\n",
              "      <td>0</td>\n",
              "      <td>0</td>\n",
              "      <td>0</td>\n",
              "      <td>6</td>\n",
              "      <td>1</td>\n",
              "      <td>32</td>\n",
              "      <td>22</td>\n",
              "      <td>1</td>\n",
              "      <td>1</td>\n",
              "      <td>31</td>\n",
              "      <td>1</td>\n",
              "      <td>32</td>\n",
              "      <td>6.0</td>\n",
              "      <td>3.0</td>\n",
              "      <td>3</td>\n",
              "    </tr>\n",
              "    <tr>\n",
              "      <th>3319</th>\n",
              "      <td>77</td>\n",
              "      <td>2</td>\n",
              "      <td>2</td>\n",
              "      <td>21.7</td>\n",
              "      <td>0</td>\n",
              "      <td>0</td>\n",
              "      <td>0</td>\n",
              "      <td>0</td>\n",
              "      <td>0</td>\n",
              "      <td>0</td>\n",
              "      <td>6</td>\n",
              "      <td>21</td>\n",
              "      <td>41</td>\n",
              "      <td>1</td>\n",
              "      <td>22</td>\n",
              "      <td>1</td>\n",
              "      <td>31</td>\n",
              "      <td>1</td>\n",
              "      <td>2</td>\n",
              "      <td>39.0</td>\n",
              "      <td>0.0</td>\n",
              "      <td>3</td>\n",
              "    </tr>\n",
              "    <tr>\n",
              "      <th>3320</th>\n",
              "      <td>66</td>\n",
              "      <td>1</td>\n",
              "      <td>2</td>\n",
              "      <td>31.81</td>\n",
              "      <td>1</td>\n",
              "      <td>0</td>\n",
              "      <td>0</td>\n",
              "      <td>1</td>\n",
              "      <td>1</td>\n",
              "      <td>0</td>\n",
              "      <td>6</td>\n",
              "      <td>21</td>\n",
              "      <td>41</td>\n",
              "      <td>1</td>\n",
              "      <td>1</td>\n",
              "      <td>1</td>\n",
              "      <td>31</td>\n",
              "      <td>1</td>\n",
              "      <td>42</td>\n",
              "      <td>15.0</td>\n",
              "      <td>7.0</td>\n",
              "      <td>3 + 7</td>\n",
              "    </tr>\n",
              "    <tr>\n",
              "      <th>3321</th>\n",
              "      <td>69</td>\n",
              "      <td>2</td>\n",
              "      <td>2</td>\n",
              "      <td>26.77</td>\n",
              "      <td>1</td>\n",
              "      <td>0</td>\n",
              "      <td>0</td>\n",
              "      <td>0</td>\n",
              "      <td>0</td>\n",
              "      <td>0</td>\n",
              "      <td>6</td>\n",
              "      <td>1</td>\n",
              "      <td>21</td>\n",
              "      <td>22</td>\n",
              "      <td>1</td>\n",
              "      <td>1</td>\n",
              "      <td>31</td>\n",
              "      <td>1</td>\n",
              "      <td>2</td>\n",
              "      <td>16.0</td>\n",
              "      <td>0.0</td>\n",
              "      <td>NaN</td>\n",
              "    </tr>\n",
              "    <tr>\n",
              "      <th>3322</th>\n",
              "      <td>61</td>\n",
              "      <td>1</td>\n",
              "      <td>3</td>\n",
              "      <td>23.71</td>\n",
              "      <td>1</td>\n",
              "      <td>0</td>\n",
              "      <td>0</td>\n",
              "      <td>0</td>\n",
              "      <td>1</td>\n",
              "      <td>0</td>\n",
              "      <td>71</td>\n",
              "      <td>22</td>\n",
              "      <td>42</td>\n",
              "      <td>22</td>\n",
              "      <td>1</td>\n",
              "      <td>1</td>\n",
              "      <td>31</td>\n",
              "      <td>1</td>\n",
              "      <td>42</td>\n",
              "      <td>20.0</td>\n",
              "      <td>19.0</td>\n",
              "      <td>NaN</td>\n",
              "    </tr>\n",
              "  </tbody>\n",
              "</table>\n",
              "<p>3321 rows × 22 columns</p>\n",
              "</div>"
            ],
            "text/plain": [
              "     Age Sex ASA    BMI  ...  pN Harvested_LN Positive_LN Postop_Chemo_Regimen\n",
              "2     73   2   3  16.25  ...  31         23.0         1.0                    1\n",
              "3     63   1   2  23.88  ...  41         10.0         4.0                  NaN\n",
              "4     45   2   2  21.83  ...   2         56.0         0.0                  NaN\n",
              "5     69   1   3  22.86  ...  31         33.0         1.0                    1\n",
              "6     69   1   2  20.81  ...  31         25.0         1.0                    1\n",
              "...   ..  ..  ..    ...  ...  ..          ...         ...                  ...\n",
              "3318  77   2   2  23.55  ...  32          6.0         3.0                    3\n",
              "3319  77   2   2   21.7  ...   2         39.0         0.0                    3\n",
              "3320  66   1   2  31.81  ...  42         15.0         7.0                3 + 7\n",
              "3321  69   2   2  26.77  ...   2         16.0         0.0                  NaN\n",
              "3322  61   1   3  23.71  ...  42         20.0        19.0                  NaN\n",
              "\n",
              "[3321 rows x 22 columns]"
            ]
          },
          "metadata": {
            "tags": []
          },
          "execution_count": 10
        }
      ]
    },
    {
      "cell_type": "code",
      "metadata": {
        "colab": {
          "base_uri": "https://localhost:8080/"
        },
        "id": "VYoezwfoikqu",
        "outputId": "66299fb7-9737-46f7-abe5-83e0c3831999"
      },
      "source": [
        "df['Postop_Chemo_Regimen']=df['Postop_Chemo_Regimen'].fillna(0)\r\n",
        "df['Postop_Chemo_Regimen'].isna().sum()"
      ],
      "execution_count": 11,
      "outputs": [
        {
          "output_type": "execute_result",
          "data": {
            "text/plain": [
              "0"
            ]
          },
          "metadata": {
            "tags": []
          },
          "execution_count": 11
        }
      ]
    },
    {
      "cell_type": "code",
      "metadata": {
        "colab": {
          "base_uri": "https://localhost:8080/"
        },
        "id": "14Una6B0gBGl",
        "outputId": "e5af2567-2e16-482b-b590-5126602b2ce5"
      },
      "source": [
        "print(df['Postop_Chemo_Regimen'].value_counts())"
      ],
      "execution_count": 12,
      "outputs": [
        {
          "output_type": "stream",
          "text": [
            "0                   1385\n",
            "3                    846\n",
            "1                    593\n",
            "2                    162\n",
            "5 + 7                 66\n",
            "4                     57\n",
            "8                     53\n",
            "5 + 6                 49\n",
            "5                     43\n",
            "3 + 7                 34\n",
            "3 + 6                 13\n",
            "8 (D-F cap)            7\n",
            "2 + 8                  4\n",
            "3+7                    3\n",
            "8(UFT)                 1\n",
            "1 + 8(MMC)             1\n",
            "7                      1\n",
            "8 (Helixor only)       1\n",
            "5+7                    1\n",
            "8 (Teroful)            1\n",
            "Name: Postop_Chemo_Regimen, dtype: int64\n"
          ],
          "name": "stdout"
        }
      ]
    },
    {
      "cell_type": "code",
      "metadata": {
        "id": "vCAAk4I8x0Ip",
        "colab": {
          "base_uri": "https://localhost:8080/",
          "height": 453
        },
        "outputId": "472596f6-9460-4668-ecab-2c819a49ee19"
      },
      "source": [
        "df = df[df['Postop_Chemo_Regimen'] != '5 + 7']\r\n",
        "df = df[df['Postop_Chemo_Regimen'] != '5 + 6']\r\n",
        "df = df[df['Postop_Chemo_Regimen'] != '8']\r\n",
        "df = df[df['Postop_Chemo_Regimen'] != '3 + 7']\r\n",
        "df = df[df['Postop_Chemo_Regimen'] != '3 + 6']\r\n",
        "df = df[df['Postop_Chemo_Regimen'] != '8 (D-F cap)']\r\n",
        "df = df[df['Postop_Chemo_Regimen'] != '2 + 8']\r\n",
        "df = df[df['Postop_Chemo_Regimen'] != '3+7']\r\n",
        "df = df[df['Postop_Chemo_Regimen'] != '1 + 8(MMC)']\r\n",
        "df = df[df['Postop_Chemo_Regimen'] != '8 (Teroful)']\r\n",
        "df = df[df['Postop_Chemo_Regimen'] != '8(UFT)']\r\n",
        "df = df[df['Postop_Chemo_Regimen'] != '8 (Helixor only)']\r\n",
        "df = df[df['Postop_Chemo_Regimen'] != 7]\r\n",
        "df = df[df['Postop_Chemo_Regimen'] != 8]\r\n",
        "\r\n",
        "df = df[df['Postop_Chemo_Regimen'] != '5+7']\r\n",
        "df"
      ],
      "execution_count": 13,
      "outputs": [
        {
          "output_type": "execute_result",
          "data": {
            "text/html": [
              "<div>\n",
              "<style scoped>\n",
              "    .dataframe tbody tr th:only-of-type {\n",
              "        vertical-align: middle;\n",
              "    }\n",
              "\n",
              "    .dataframe tbody tr th {\n",
              "        vertical-align: top;\n",
              "    }\n",
              "\n",
              "    .dataframe thead th {\n",
              "        text-align: right;\n",
              "    }\n",
              "</style>\n",
              "<table border=\"1\" class=\"dataframe\">\n",
              "  <thead>\n",
              "    <tr style=\"text-align: right;\">\n",
              "      <th></th>\n",
              "      <th>Age</th>\n",
              "      <th>Sex</th>\n",
              "      <th>ASA</th>\n",
              "      <th>BMI</th>\n",
              "      <th>DM_history</th>\n",
              "      <th>Pulmonary_disease</th>\n",
              "      <th>Liver_disease</th>\n",
              "      <th>Kidney_disease</th>\n",
              "      <th>Smoking_history</th>\n",
              "      <th>Prior_Dx_cancer</th>\n",
              "      <th>pT</th>\n",
              "      <th>pM</th>\n",
              "      <th>pTNM</th>\n",
              "      <th>K-ras</th>\n",
              "      <th>N-ras</th>\n",
              "      <th>BRAF</th>\n",
              "      <th>LVI</th>\n",
              "      <th>PNI</th>\n",
              "      <th>pN</th>\n",
              "      <th>Harvested_LN</th>\n",
              "      <th>Positive_LN</th>\n",
              "      <th>Postop_Chemo_Regimen</th>\n",
              "    </tr>\n",
              "  </thead>\n",
              "  <tbody>\n",
              "    <tr>\n",
              "      <th>2</th>\n",
              "      <td>73</td>\n",
              "      <td>2</td>\n",
              "      <td>3</td>\n",
              "      <td>16.25</td>\n",
              "      <td>0</td>\n",
              "      <td>0</td>\n",
              "      <td>0</td>\n",
              "      <td>0</td>\n",
              "      <td>2</td>\n",
              "      <td>0</td>\n",
              "      <td>6</td>\n",
              "      <td>1</td>\n",
              "      <td>32</td>\n",
              "      <td>1</td>\n",
              "      <td>1</td>\n",
              "      <td>1</td>\n",
              "      <td>11</td>\n",
              "      <td>3</td>\n",
              "      <td>31</td>\n",
              "      <td>23.0</td>\n",
              "      <td>1.0</td>\n",
              "      <td>1</td>\n",
              "    </tr>\n",
              "    <tr>\n",
              "      <th>3</th>\n",
              "      <td>63</td>\n",
              "      <td>1</td>\n",
              "      <td>2</td>\n",
              "      <td>23.88</td>\n",
              "      <td>0</td>\n",
              "      <td>0</td>\n",
              "      <td>0</td>\n",
              "      <td>0</td>\n",
              "      <td>2</td>\n",
              "      <td>0</td>\n",
              "      <td>6</td>\n",
              "      <td>1</td>\n",
              "      <td>33</td>\n",
              "      <td>1</td>\n",
              "      <td>1</td>\n",
              "      <td>1</td>\n",
              "      <td>32</td>\n",
              "      <td>3</td>\n",
              "      <td>41</td>\n",
              "      <td>10.0</td>\n",
              "      <td>4.0</td>\n",
              "      <td>0</td>\n",
              "    </tr>\n",
              "    <tr>\n",
              "      <th>4</th>\n",
              "      <td>45</td>\n",
              "      <td>2</td>\n",
              "      <td>2</td>\n",
              "      <td>21.83</td>\n",
              "      <td>0</td>\n",
              "      <td>0</td>\n",
              "      <td>0</td>\n",
              "      <td>0</td>\n",
              "      <td>2</td>\n",
              "      <td>0</td>\n",
              "      <td>4</td>\n",
              "      <td>1</td>\n",
              "      <td>1</td>\n",
              "      <td>1</td>\n",
              "      <td>1</td>\n",
              "      <td>1</td>\n",
              "      <td>32</td>\n",
              "      <td>3</td>\n",
              "      <td>2</td>\n",
              "      <td>56.0</td>\n",
              "      <td>0.0</td>\n",
              "      <td>0</td>\n",
              "    </tr>\n",
              "    <tr>\n",
              "      <th>5</th>\n",
              "      <td>69</td>\n",
              "      <td>1</td>\n",
              "      <td>3</td>\n",
              "      <td>22.86</td>\n",
              "      <td>1</td>\n",
              "      <td>0</td>\n",
              "      <td>0</td>\n",
              "      <td>0</td>\n",
              "      <td>2</td>\n",
              "      <td>1</td>\n",
              "      <td>6</td>\n",
              "      <td>1</td>\n",
              "      <td>32</td>\n",
              "      <td>1</td>\n",
              "      <td>1</td>\n",
              "      <td>1</td>\n",
              "      <td>32</td>\n",
              "      <td>3</td>\n",
              "      <td>31</td>\n",
              "      <td>33.0</td>\n",
              "      <td>1.0</td>\n",
              "      <td>1</td>\n",
              "    </tr>\n",
              "    <tr>\n",
              "      <th>6</th>\n",
              "      <td>69</td>\n",
              "      <td>1</td>\n",
              "      <td>2</td>\n",
              "      <td>20.81</td>\n",
              "      <td>0</td>\n",
              "      <td>0</td>\n",
              "      <td>0</td>\n",
              "      <td>0</td>\n",
              "      <td>2</td>\n",
              "      <td>0</td>\n",
              "      <td>6</td>\n",
              "      <td>1</td>\n",
              "      <td>32</td>\n",
              "      <td>1</td>\n",
              "      <td>1</td>\n",
              "      <td>1</td>\n",
              "      <td>21</td>\n",
              "      <td>3</td>\n",
              "      <td>31</td>\n",
              "      <td>25.0</td>\n",
              "      <td>1.0</td>\n",
              "      <td>1</td>\n",
              "    </tr>\n",
              "    <tr>\n",
              "      <th>...</th>\n",
              "      <td>...</td>\n",
              "      <td>...</td>\n",
              "      <td>...</td>\n",
              "      <td>...</td>\n",
              "      <td>...</td>\n",
              "      <td>...</td>\n",
              "      <td>...</td>\n",
              "      <td>...</td>\n",
              "      <td>...</td>\n",
              "      <td>...</td>\n",
              "      <td>...</td>\n",
              "      <td>...</td>\n",
              "      <td>...</td>\n",
              "      <td>...</td>\n",
              "      <td>...</td>\n",
              "      <td>...</td>\n",
              "      <td>...</td>\n",
              "      <td>...</td>\n",
              "      <td>...</td>\n",
              "      <td>...</td>\n",
              "      <td>...</td>\n",
              "      <td>...</td>\n",
              "    </tr>\n",
              "    <tr>\n",
              "      <th>3317</th>\n",
              "      <td>75</td>\n",
              "      <td>1</td>\n",
              "      <td>2</td>\n",
              "      <td>18.52</td>\n",
              "      <td>0</td>\n",
              "      <td>1</td>\n",
              "      <td>0</td>\n",
              "      <td>0</td>\n",
              "      <td>0</td>\n",
              "      <td>0</td>\n",
              "      <td>71</td>\n",
              "      <td>23</td>\n",
              "      <td>43</td>\n",
              "      <td>22</td>\n",
              "      <td>1</td>\n",
              "      <td>1</td>\n",
              "      <td>31</td>\n",
              "      <td>2</td>\n",
              "      <td>42</td>\n",
              "      <td>40.0</td>\n",
              "      <td>28.0</td>\n",
              "      <td>0</td>\n",
              "    </tr>\n",
              "    <tr>\n",
              "      <th>3318</th>\n",
              "      <td>77</td>\n",
              "      <td>2</td>\n",
              "      <td>2</td>\n",
              "      <td>23.55</td>\n",
              "      <td>0</td>\n",
              "      <td>0</td>\n",
              "      <td>0</td>\n",
              "      <td>0</td>\n",
              "      <td>0</td>\n",
              "      <td>0</td>\n",
              "      <td>6</td>\n",
              "      <td>1</td>\n",
              "      <td>32</td>\n",
              "      <td>22</td>\n",
              "      <td>1</td>\n",
              "      <td>1</td>\n",
              "      <td>31</td>\n",
              "      <td>1</td>\n",
              "      <td>32</td>\n",
              "      <td>6.0</td>\n",
              "      <td>3.0</td>\n",
              "      <td>3</td>\n",
              "    </tr>\n",
              "    <tr>\n",
              "      <th>3319</th>\n",
              "      <td>77</td>\n",
              "      <td>2</td>\n",
              "      <td>2</td>\n",
              "      <td>21.7</td>\n",
              "      <td>0</td>\n",
              "      <td>0</td>\n",
              "      <td>0</td>\n",
              "      <td>0</td>\n",
              "      <td>0</td>\n",
              "      <td>0</td>\n",
              "      <td>6</td>\n",
              "      <td>21</td>\n",
              "      <td>41</td>\n",
              "      <td>1</td>\n",
              "      <td>22</td>\n",
              "      <td>1</td>\n",
              "      <td>31</td>\n",
              "      <td>1</td>\n",
              "      <td>2</td>\n",
              "      <td>39.0</td>\n",
              "      <td>0.0</td>\n",
              "      <td>3</td>\n",
              "    </tr>\n",
              "    <tr>\n",
              "      <th>3321</th>\n",
              "      <td>69</td>\n",
              "      <td>2</td>\n",
              "      <td>2</td>\n",
              "      <td>26.77</td>\n",
              "      <td>1</td>\n",
              "      <td>0</td>\n",
              "      <td>0</td>\n",
              "      <td>0</td>\n",
              "      <td>0</td>\n",
              "      <td>0</td>\n",
              "      <td>6</td>\n",
              "      <td>1</td>\n",
              "      <td>21</td>\n",
              "      <td>22</td>\n",
              "      <td>1</td>\n",
              "      <td>1</td>\n",
              "      <td>31</td>\n",
              "      <td>1</td>\n",
              "      <td>2</td>\n",
              "      <td>16.0</td>\n",
              "      <td>0.0</td>\n",
              "      <td>0</td>\n",
              "    </tr>\n",
              "    <tr>\n",
              "      <th>3322</th>\n",
              "      <td>61</td>\n",
              "      <td>1</td>\n",
              "      <td>3</td>\n",
              "      <td>23.71</td>\n",
              "      <td>1</td>\n",
              "      <td>0</td>\n",
              "      <td>0</td>\n",
              "      <td>0</td>\n",
              "      <td>1</td>\n",
              "      <td>0</td>\n",
              "      <td>71</td>\n",
              "      <td>22</td>\n",
              "      <td>42</td>\n",
              "      <td>22</td>\n",
              "      <td>1</td>\n",
              "      <td>1</td>\n",
              "      <td>31</td>\n",
              "      <td>1</td>\n",
              "      <td>42</td>\n",
              "      <td>20.0</td>\n",
              "      <td>19.0</td>\n",
              "      <td>0</td>\n",
              "    </tr>\n",
              "  </tbody>\n",
              "</table>\n",
              "<p>3086 rows × 22 columns</p>\n",
              "</div>"
            ],
            "text/plain": [
              "     Age Sex ASA    BMI  ...  pN Harvested_LN Positive_LN Postop_Chemo_Regimen\n",
              "2     73   2   3  16.25  ...  31         23.0         1.0                    1\n",
              "3     63   1   2  23.88  ...  41         10.0         4.0                    0\n",
              "4     45   2   2  21.83  ...   2         56.0         0.0                    0\n",
              "5     69   1   3  22.86  ...  31         33.0         1.0                    1\n",
              "6     69   1   2  20.81  ...  31         25.0         1.0                    1\n",
              "...   ..  ..  ..    ...  ...  ..          ...         ...                  ...\n",
              "3317  75   1   2  18.52  ...  42         40.0        28.0                    0\n",
              "3318  77   2   2  23.55  ...  32          6.0         3.0                    3\n",
              "3319  77   2   2   21.7  ...   2         39.0         0.0                    3\n",
              "3321  69   2   2  26.77  ...   2         16.0         0.0                    0\n",
              "3322  61   1   3  23.71  ...  42         20.0        19.0                    0\n",
              "\n",
              "[3086 rows x 22 columns]"
            ]
          },
          "metadata": {
            "tags": []
          },
          "execution_count": 13
        }
      ]
    },
    {
      "cell_type": "code",
      "metadata": {
        "colab": {
          "base_uri": "https://localhost:8080/"
        },
        "id": "BtTMy0CKi3xe",
        "outputId": "ffbe7e51-29f4-474f-82a9-78116c87404b"
      },
      "source": [
        "print(df['Postop_Chemo_Regimen'].value_counts())"
      ],
      "execution_count": 14,
      "outputs": [
        {
          "output_type": "stream",
          "text": [
            "0    1385\n",
            "3     846\n",
            "1     593\n",
            "2     162\n",
            "4      57\n",
            "5      43\n",
            "Name: Postop_Chemo_Regimen, dtype: int64\n"
          ],
          "name": "stdout"
        }
      ]
    },
    {
      "cell_type": "code",
      "metadata": {
        "colab": {
          "base_uri": "https://localhost:8080/"
        },
        "id": "eusjX7Ykj7sG",
        "outputId": "8cde77c0-f767-4f7f-c8f5-5ab846656a52"
      },
      "source": [
        "print(df['pT'].value_counts())\r\n",
        "df['pT']=df['pT'].fillna(6)\r\n",
        "df['pT'].isna().sum()"
      ],
      "execution_count": 15,
      "outputs": [
        {
          "output_type": "stream",
          "text": [
            "6     1779\n",
            "5      469\n",
            "4      354\n",
            "71     244\n",
            "72     124\n",
            "3       54\n",
            "2       42\n",
            "7       11\n",
            "1        1\n",
            "Name: pT, dtype: int64\n"
          ],
          "name": "stdout"
        },
        {
          "output_type": "execute_result",
          "data": {
            "text/plain": [
              "0"
            ]
          },
          "metadata": {
            "tags": []
          },
          "execution_count": 15
        }
      ]
    },
    {
      "cell_type": "code",
      "metadata": {
        "colab": {
          "base_uri": "https://localhost:8080/"
        },
        "id": "KqbqkD8hkHLN",
        "outputId": "d3c6250d-c0f5-488d-9448-45318cf4dd08"
      },
      "source": [
        "print(df['pM'].value_counts())\r\n",
        "df['pM']=df['pM'].fillna(1)\r\n",
        "df['pM'].isna().sum()"
      ],
      "execution_count": 16,
      "outputs": [
        {
          "output_type": "stream",
          "text": [
            "1     2807\n",
            "21     204\n",
            "22      52\n",
            "2       15\n",
            "42       1\n",
            "23       1\n",
            "Name: pM, dtype: int64\n"
          ],
          "name": "stdout"
        },
        {
          "output_type": "execute_result",
          "data": {
            "text/plain": [
              "0"
            ]
          },
          "metadata": {
            "tags": []
          },
          "execution_count": 16
        }
      ]
    },
    {
      "cell_type": "code",
      "metadata": {
        "colab": {
          "base_uri": "https://localhost:8080/"
        },
        "id": "eYnPN5L-kQqL",
        "outputId": "6b53dd6f-a67d-4c61-b7ff-f9cec9173ffd"
      },
      "source": [
        "print(df['pTNM'].value_counts())\r\n",
        "df['pTNM']=df['pTNM'].fillna(21)\r\n",
        "df['pTNM'].isna().sum()"
      ],
      "execution_count": 17,
      "outputs": [
        {
          "output_type": "stream",
          "text": [
            "21    861\n",
            "1     681\n",
            "32    646\n",
            "33    293\n",
            "4     167\n",
            "31    115\n",
            "0      91\n",
            "22     79\n",
            "41     71\n",
            "42     39\n",
            "23     31\n",
            "2       2\n",
            "43      1\n",
            "3       1\n",
            "Name: pTNM, dtype: int64\n"
          ],
          "name": "stdout"
        },
        {
          "output_type": "execute_result",
          "data": {
            "text/plain": [
              "0"
            ]
          },
          "metadata": {
            "tags": []
          },
          "execution_count": 17
        }
      ]
    },
    {
      "cell_type": "code",
      "metadata": {
        "id": "kBWJoAHSzNCc",
        "colab": {
          "base_uri": "https://localhost:8080/"
        },
        "outputId": "6b97522d-9082-4a43-89b0-921d467e8620"
      },
      "source": [
        "df.isnull().sum()"
      ],
      "execution_count": 18,
      "outputs": [
        {
          "output_type": "execute_result",
          "data": {
            "text/plain": [
              "Age                     0\n",
              "Sex                     0\n",
              "ASA                     0\n",
              "BMI                     0\n",
              "DM_history              0\n",
              "Pulmonary_disease       0\n",
              "Liver_disease           0\n",
              "Kidney_disease          0\n",
              "Smoking_history         0\n",
              "Prior_Dx_cancer         0\n",
              "pT                      0\n",
              "pM                      0\n",
              "pTNM                    0\n",
              "K-ras                   0\n",
              "N-ras                   0\n",
              "BRAF                    0\n",
              "LVI                     0\n",
              "PNI                     0\n",
              "pN                      0\n",
              "Harvested_LN            0\n",
              "Positive_LN             0\n",
              "Postop_Chemo_Regimen    0\n",
              "dtype: int64"
            ]
          },
          "metadata": {
            "tags": []
          },
          "execution_count": 18
        }
      ]
    },
    {
      "cell_type": "code",
      "metadata": {
        "id": "eY4VJ1wUytHh",
        "colab": {
          "base_uri": "https://localhost:8080/"
        },
        "outputId": "a05b5456-a2c9-42a1-ff28-f4137f0fac1e"
      },
      "source": [
        "from scipy import stats\r\n",
        "corr = stats.pointbiserialr(df['Age'], df['Postop_Chemo_Regimen'])\r\n",
        "corr"
      ],
      "execution_count": 19,
      "outputs": [
        {
          "output_type": "execute_result",
          "data": {
            "text/plain": [
              "PointbiserialrResult(correlation=-0.24952860726160803, pvalue=5.08189704914789e-45)"
            ]
          },
          "metadata": {
            "tags": []
          },
          "execution_count": 19
        }
      ]
    },
    {
      "cell_type": "code",
      "metadata": {
        "colab": {
          "base_uri": "https://localhost:8080/"
        },
        "id": "PikM22Wmcxww",
        "outputId": "597fe614-c4b4-4ca9-e8db-ce7dc32f5e0e"
      },
      "source": [
        "corr = stats.pointbiserialr(df['BMI'], df['Postop_Chemo_Regimen'])\r\n",
        "corr"
      ],
      "execution_count": 20,
      "outputs": [
        {
          "output_type": "execute_result",
          "data": {
            "text/plain": [
              "PointbiserialrResult(correlation=0.012023915191846098, pvalue=0.5043229448947895)"
            ]
          },
          "metadata": {
            "tags": []
          },
          "execution_count": 20
        }
      ]
    },
    {
      "cell_type": "code",
      "metadata": {
        "colab": {
          "base_uri": "https://localhost:8080/"
        },
        "id": "gz0XrFpVc8yV",
        "outputId": "e3c16043-d044-43ea-9826-2f54b37cf01e"
      },
      "source": [
        "corr = stats.pointbiserialr(df['Harvested_LN'], df['Postop_Chemo_Regimen'])\r\n",
        "corr"
      ],
      "execution_count": 21,
      "outputs": [
        {
          "output_type": "execute_result",
          "data": {
            "text/plain": [
              "PointbiserialrResult(correlation=-0.005927263211354275, pvalue=0.7420502481140275)"
            ]
          },
          "metadata": {
            "tags": []
          },
          "execution_count": 21
        }
      ]
    },
    {
      "cell_type": "code",
      "metadata": {
        "colab": {
          "base_uri": "https://localhost:8080/"
        },
        "id": "dxXKewC-dCbc",
        "outputId": "4d3335e8-eca2-49b9-dd43-4eeeb607e001"
      },
      "source": [
        "corr = stats.pointbiserialr(df['Positive_LN'], df['Postop_Chemo_Regimen'])\r\n",
        "corr"
      ],
      "execution_count": 22,
      "outputs": [
        {
          "output_type": "execute_result",
          "data": {
            "text/plain": [
              "PointbiserialrResult(correlation=-0.00949123487469133, pvalue=0.5981566223857933)"
            ]
          },
          "metadata": {
            "tags": []
          },
          "execution_count": 22
        }
      ]
    },
    {
      "cell_type": "code",
      "metadata": {
        "colab": {
          "base_uri": "https://localhost:8080/"
        },
        "id": "ZJtiWV4iIMcp",
        "outputId": "60ebf018-545b-4f75-f5e4-0df63be9d2bc"
      },
      "source": [
        "from scipy.stats import chi2_contingency\r\n",
        "chi = chi2_contingency(pd.crosstab(df['ASA'],df['Postop_Chemo_Regimen']))\r\n",
        "print('Chi2 Statistic: {}, p-value: {}'.format(chi[0], chi[1]))"
      ],
      "execution_count": 23,
      "outputs": [
        {
          "output_type": "stream",
          "text": [
            "Chi2 Statistic: 77.95861918626396, p-value: 8.69475632913345e-09\n"
          ],
          "name": "stdout"
        }
      ]
    },
    {
      "cell_type": "code",
      "metadata": {
        "colab": {
          "base_uri": "https://localhost:8080/"
        },
        "id": "fFWgrffldIOi",
        "outputId": "27935214-9cce-4f61-a3fe-b43c6439c174"
      },
      "source": [
        "chi = chi2_contingency(pd.crosstab(df['Sex'],df['Postop_Chemo_Regimen']))\r\n",
        "print('Chi2 Statistic: {}, p-value: {}'.format(chi[0], chi[1]))"
      ],
      "execution_count": 24,
      "outputs": [
        {
          "output_type": "stream",
          "text": [
            "Chi2 Statistic: 16.835237007373454, p-value: 0.0048231103592514795\n"
          ],
          "name": "stdout"
        }
      ]
    },
    {
      "cell_type": "code",
      "metadata": {
        "colab": {
          "base_uri": "https://localhost:8080/"
        },
        "id": "Z5jhp976IntI",
        "outputId": "c75c97ff-79a3-469b-8742-6056dee0d97e"
      },
      "source": [
        "chi = chi2_contingency(pd.crosstab(df['DM_history'],df['Postop_Chemo_Regimen']))\r\n",
        "print('Chi2 Statistic: {}, p-value: {}'.format(chi[0], chi[1]))"
      ],
      "execution_count": 25,
      "outputs": [
        {
          "output_type": "stream",
          "text": [
            "Chi2 Statistic: 22.34348322729227, p-value: 0.00045044163155467525\n"
          ],
          "name": "stdout"
        }
      ]
    },
    {
      "cell_type": "code",
      "metadata": {
        "colab": {
          "base_uri": "https://localhost:8080/"
        },
        "id": "KT0HlNEpIuey",
        "outputId": "dfb7af2c-1888-402b-fc62-45d75a58a20b"
      },
      "source": [
        "chi = chi2_contingency(pd.crosstab(df['Pulmonary_disease'],df['Postop_Chemo_Regimen']))\r\n",
        "print('Chi2 Statistic: {}, p-value: {}'.format(chi[0], chi[1]))"
      ],
      "execution_count": 26,
      "outputs": [
        {
          "output_type": "stream",
          "text": [
            "Chi2 Statistic: 13.511012916489411, p-value: 0.019032815410021556\n"
          ],
          "name": "stdout"
        }
      ]
    },
    {
      "cell_type": "code",
      "metadata": {
        "colab": {
          "base_uri": "https://localhost:8080/"
        },
        "id": "zSlxVDN9IxS9",
        "outputId": "88e7d689-71a1-44c3-ebf0-45fce3ff253c"
      },
      "source": [
        "chi = chi2_contingency(pd.crosstab(df['Liver_disease'],df['Postop_Chemo_Regimen']))\r\n",
        "print('Chi2 Statistic: {}, p-value: {}'.format(chi[0], chi[1]))"
      ],
      "execution_count": 27,
      "outputs": [
        {
          "output_type": "stream",
          "text": [
            "Chi2 Statistic: 5.873778706885569, p-value: 0.31869522655634414\n"
          ],
          "name": "stdout"
        }
      ]
    },
    {
      "cell_type": "code",
      "metadata": {
        "colab": {
          "base_uri": "https://localhost:8080/"
        },
        "id": "ZEoVzcE8I1VS",
        "outputId": "7fb6b9cf-c75c-4b02-aaac-0ca20a8f1bcd"
      },
      "source": [
        "chi = chi2_contingency(pd.crosstab(df['Kidney_disease'],df['Postop_Chemo_Regimen']))\r\n",
        "print('Chi2 Statistic: {}, p-value: {}'.format(chi[0], chi[1]))"
      ],
      "execution_count": 28,
      "outputs": [
        {
          "output_type": "stream",
          "text": [
            "Chi2 Statistic: 17.398021926838805, p-value: 0.06600779363906797\n"
          ],
          "name": "stdout"
        }
      ]
    },
    {
      "cell_type": "code",
      "metadata": {
        "colab": {
          "base_uri": "https://localhost:8080/"
        },
        "id": "ws6IssZmI36z",
        "outputId": "4335c1ca-0733-4377-d5cd-98ad803168b4"
      },
      "source": [
        "chi = chi2_contingency(pd.crosstab(df['Smoking_history'],df['Postop_Chemo_Regimen']))\r\n",
        "print('Chi2 Statistic: {}, p-value: {}'.format(chi[0], chi[1]))"
      ],
      "execution_count": 29,
      "outputs": [
        {
          "output_type": "stream",
          "text": [
            "Chi2 Statistic: 236.7288948264025, p-value: 3.330023294853697e-45\n"
          ],
          "name": "stdout"
        }
      ]
    },
    {
      "cell_type": "code",
      "metadata": {
        "colab": {
          "base_uri": "https://localhost:8080/"
        },
        "id": "57Qd2yq4I7D4",
        "outputId": "791855f1-4396-4076-f9f2-a6844a78c4c1"
      },
      "source": [
        "chi = chi2_contingency(pd.crosstab(df['Prior_Dx_cancer'],df['Postop_Chemo_Regimen']))\r\n",
        "print('Chi2 Statistic: {}, p-value: {}'.format(chi[0], chi[1]))"
      ],
      "execution_count": 30,
      "outputs": [
        {
          "output_type": "stream",
          "text": [
            "Chi2 Statistic: 231.13434126506115, p-value: 4.967103696902852e-44\n"
          ],
          "name": "stdout"
        }
      ]
    },
    {
      "cell_type": "code",
      "metadata": {
        "colab": {
          "base_uri": "https://localhost:8080/"
        },
        "id": "mK1sD3XUI9oj",
        "outputId": "29c0da41-2abf-4158-9e32-7ce5fafd09f6"
      },
      "source": [
        "chi = chi2_contingency(pd.crosstab(df['pT'],df['Postop_Chemo_Regimen']))\r\n",
        "print('Chi2 Statistic: {}, p-value: {}'.format(chi[0], chi[1]))"
      ],
      "execution_count": 31,
      "outputs": [
        {
          "output_type": "stream",
          "text": [
            "Chi2 Statistic: 731.8940770234074, p-value: 5.177967322233318e-128\n"
          ],
          "name": "stdout"
        }
      ]
    },
    {
      "cell_type": "code",
      "metadata": {
        "colab": {
          "base_uri": "https://localhost:8080/"
        },
        "id": "fBBeOIR0JDjM",
        "outputId": "b7aca170-4a3f-4626-f573-617b31e54d20"
      },
      "source": [
        "chi = chi2_contingency(pd.crosstab(df['pM'],df['Postop_Chemo_Regimen']))\r\n",
        "print('Chi2 Statistic: {}, p-value: {}'.format(chi[0], chi[1]))"
      ],
      "execution_count": 32,
      "outputs": [
        {
          "output_type": "stream",
          "text": [
            "Chi2 Statistic: 812.4060555973874, p-value: 2.9176275572949e-155\n"
          ],
          "name": "stdout"
        }
      ]
    },
    {
      "cell_type": "code",
      "metadata": {
        "colab": {
          "base_uri": "https://localhost:8080/"
        },
        "id": "CTi76yCDJFEl",
        "outputId": "3914523b-38e4-4864-ac68-ce33d511d185"
      },
      "source": [
        "chi = chi2_contingency(pd.crosstab(df['pTNM'],df['Postop_Chemo_Regimen']))\r\n",
        "print('Chi2 Statistic: {}, p-value: {}'.format(chi[0], chi[1]))"
      ],
      "execution_count": 33,
      "outputs": [
        {
          "output_type": "stream",
          "text": [
            "Chi2 Statistic: 1901.7706005298114, p-value: 0.0\n"
          ],
          "name": "stdout"
        }
      ]
    },
    {
      "cell_type": "code",
      "metadata": {
        "colab": {
          "base_uri": "https://localhost:8080/"
        },
        "id": "W6FUbtSAJHzC",
        "outputId": "e333711e-9b9d-4b07-c156-2ce4e3995104"
      },
      "source": [
        "chi = chi2_contingency(pd.crosstab(df['K-ras'],df['Postop_Chemo_Regimen']))\r\n",
        "print('Chi2 Statistic: {}, p-value: {}'.format(chi[0], chi[1]))"
      ],
      "execution_count": 34,
      "outputs": [
        {
          "output_type": "stream",
          "text": [
            "Chi2 Statistic: 247.81546560456712, p-value: 1.5626806013091122e-47\n"
          ],
          "name": "stdout"
        }
      ]
    },
    {
      "cell_type": "code",
      "metadata": {
        "colab": {
          "base_uri": "https://localhost:8080/"
        },
        "id": "78LRDScDJRkP",
        "outputId": "557df3ee-00cd-47f2-e1ab-4caab13b989d"
      },
      "source": [
        "chi = chi2_contingency(pd.crosstab(df['N-ras'],df['Postop_Chemo_Regimen']))\r\n",
        "print('Chi2 Statistic: {}, p-value: {}'.format(chi[0], chi[1]))"
      ],
      "execution_count": 35,
      "outputs": [
        {
          "output_type": "stream",
          "text": [
            "Chi2 Statistic: 112.42712430901472, p-value: 1.7272653313340734e-19\n"
          ],
          "name": "stdout"
        }
      ]
    },
    {
      "cell_type": "code",
      "metadata": {
        "colab": {
          "base_uri": "https://localhost:8080/"
        },
        "id": "7vywudssJXax",
        "outputId": "997535e0-b4fe-4aeb-8a72-45ad0e8e239c"
      },
      "source": [
        "chi = chi2_contingency(pd.crosstab(df['BRAF'],df['Postop_Chemo_Regimen']))\r\n",
        "print('Chi2 Statistic: {}, p-value: {}'.format(chi[0], chi[1]))"
      ],
      "execution_count": 36,
      "outputs": [
        {
          "output_type": "stream",
          "text": [
            "Chi2 Statistic: 90.7384344721815, p-value: 3.822548056130917e-15\n"
          ],
          "name": "stdout"
        }
      ]
    },
    {
      "cell_type": "code",
      "metadata": {
        "colab": {
          "base_uri": "https://localhost:8080/"
        },
        "id": "VUiS81rbJZUv",
        "outputId": "e24da4da-dbf5-4c56-efff-2ad328cae121"
      },
      "source": [
        "chi = chi2_contingency(pd.crosstab(df['LVI'],df['Postop_Chemo_Regimen']))\r\n",
        "print('Chi2 Statistic: {}, p-value: {}'.format(chi[0], chi[1]))"
      ],
      "execution_count": 37,
      "outputs": [
        {
          "output_type": "stream",
          "text": [
            "Chi2 Statistic: 582.499360463843, p-value: 1.411457147179848e-94\n"
          ],
          "name": "stdout"
        }
      ]
    },
    {
      "cell_type": "code",
      "metadata": {
        "colab": {
          "base_uri": "https://localhost:8080/"
        },
        "id": "yMyGBvIbbhrG",
        "outputId": "a1562ad0-2d42-48b9-a59f-13620f144933"
      },
      "source": [
        "chi = chi2_contingency(pd.crosstab(df['PNI'],df['Postop_Chemo_Regimen']))\r\n",
        "print('Chi2 Statistic: {}, p-value: {}'.format(chi[0], chi[1]))"
      ],
      "execution_count": 38,
      "outputs": [
        {
          "output_type": "stream",
          "text": [
            "Chi2 Statistic: 419.1558738673677, p-value: 7.851593724452786e-84\n"
          ],
          "name": "stdout"
        }
      ]
    },
    {
      "cell_type": "code",
      "metadata": {
        "colab": {
          "base_uri": "https://localhost:8080/"
        },
        "id": "7wa2P1j2boko",
        "outputId": "6966c478-378d-4114-dc5e-99ffdc3c76e0"
      },
      "source": [
        "chi = chi2_contingency(pd.crosstab(df['pN'],df['Postop_Chemo_Regimen']))\r\n",
        "print('Chi2 Statistic: {}, p-value: {}'.format(chi[0], chi[1]))"
      ],
      "execution_count": 39,
      "outputs": [
        {
          "output_type": "stream",
          "text": [
            "Chi2 Statistic: 858.0239594604764, p-value: 4.304402986582509e-154\n"
          ],
          "name": "stdout"
        }
      ]
    },
    {
      "cell_type": "code",
      "metadata": {
        "colab": {
          "base_uri": "https://localhost:8080/"
        },
        "id": "lslWkCacck8D",
        "outputId": "0503cf0d-06b7-4059-ecb3-d2ed42ae4e24"
      },
      "source": [
        "chi = chi2_contingency(pd.crosstab(df['BRAF'],df['Postop_Chemo_Regimen']))\r\n",
        "print('Chi2 Statistic: {}, p-value: {}'.format(chi[0], chi[1]))"
      ],
      "execution_count": 40,
      "outputs": [
        {
          "output_type": "stream",
          "text": [
            "Chi2 Statistic: 90.7384344721815, p-value: 3.822548056130917e-15\n"
          ],
          "name": "stdout"
        }
      ]
    },
    {
      "cell_type": "code",
      "metadata": {
        "id": "QJbRnKjPJIoS",
        "colab": {
          "base_uri": "https://localhost:8080/"
        },
        "outputId": "76fc19f6-8f74-4c18-d96c-ebdb9dfb82d4"
      },
      "source": [
        "target_col = 'Postop_Chemo_Regimen'\r\n",
        "target = df[target_col]\r\n",
        "# features = df[['Age', 'Sex', 'ASA', 'BMI', 'DM_history', 'Pulmonary_disease',\r\n",
        "#         'Liver_disease', 'Kidney_disease', 'Smoking_history',\r\n",
        "#         'Prior_Dx_cancer', 'Hereditary_colorectal_tumor',\r\n",
        "#         'Perforation', 'Obstruction', 'Emergency',\r\n",
        "#         'pT','pM', 'pTNM', 'K-ras', 'N-ras', 'BRAF']]\r\n",
        "# features = df[['Age', 'Sex', 'ASA', 'BMI', 'DM_history', 'Pulmonary_disease',\r\n",
        "#         'Liver_disease', 'Kidney_disease', 'Smoking_history',\r\n",
        "#         'Prior_Dx_cancer','pT','pM', 'pTNM', 'K-ras', 'N-ras', 'BRAF', 'LVI', 'PNI', 'pN', 'Harvested_LN','Positive_LN']]\r\n",
        "\r\n",
        "features = df[['Age', 'Sex', 'ASA', 'BMI', 'DM_history', 'Pulmonary_disease','Smoking_history',\r\n",
        "        'Prior_Dx_cancer','pT','pM', 'pTNM', 'K-ras', 'N-ras', 'BRAF', 'LVI', 'PNI', 'pN', 'Harvested_LN','Positive_LN']]\r\n",
        "target.value_counts()\r\n",
        "features.value_counts()"
      ],
      "execution_count": 41,
      "outputs": [
        {
          "output_type": "execute_result",
          "data": {
            "text/plain": [
              "Age  Sex  ASA   BMI    DM_history  Pulmonary_disease  Smoking_history  Prior_Dx_cancer  pT  pM  pTNM  K-ras  N-ras  BRAF  LVI  PNI  pN  Harvested_LN  Positive_LN\n",
              "93   1    3     19.14  0           0                  0                2                5   1   1     1      1      1     32   2    2   15.000000     0.000000       1\n",
              "58   1    2     22.37  0           0                  1                2                71  22  42    21     1      1     31   1    41  52.000000     4.000000       1\n",
              "     2    9999  24.97  0           0                  0                2                4   1   1     22     21     21    32   2    2   16.000000     0.000000       1\n",
              "                22.27  0           0                  1                2                6   1   32    21     1      1     31   1    32  14.000000     3.000000       1\n",
              "          3     24.54  0           0                  0                2                5   1   1     22     21     21    32   2    2   6.000000      0.000000       1\n",
              "                                                                                                                                                                    ..\n",
              "70   1    3     26.61  1           0                  2                0                4   1   1     1      1      1     32   2    2   6.000000      0.000000       1\n",
              "                26.43  1           0                  2                0                5   1   1     1      1      1     32   2    2   37.251686     17.525574      1\n",
              "                24.30  1           0                  1                2                71  1   33    21     1      1     31   2    42  20.000000     14.000000      1\n",
              "                22.50  1           0                  1                2                4   1   1     21     21     21    31   2    2   14.000000     0.000000       1\n",
              "13   2    2     13.54  0           0                  2                0                71  1   32    21     1      1     31   1    32  86.000000     2.000000       1\n",
              "Length: 3086, dtype: int64"
            ]
          },
          "metadata": {
            "tags": []
          },
          "execution_count": 41
        }
      ]
    },
    {
      "cell_type": "code",
      "metadata": {
        "id": "_N7pupcUxyfg"
      },
      "source": [
        ""
      ],
      "execution_count": 41,
      "outputs": []
    },
    {
      "cell_type": "code",
      "metadata": {
        "id": "Vdu3CxfaVHi_",
        "colab": {
          "base_uri": "https://localhost:8080/"
        },
        "outputId": "bc931476-bf40-4eb6-abcf-683432e4c590"
      },
      "source": [
        "features.isnull().sum()"
      ],
      "execution_count": 42,
      "outputs": [
        {
          "output_type": "execute_result",
          "data": {
            "text/plain": [
              "Age                  0\n",
              "Sex                  0\n",
              "ASA                  0\n",
              "BMI                  0\n",
              "DM_history           0\n",
              "Pulmonary_disease    0\n",
              "Smoking_history      0\n",
              "Prior_Dx_cancer      0\n",
              "pT                   0\n",
              "pM                   0\n",
              "pTNM                 0\n",
              "K-ras                0\n",
              "N-ras                0\n",
              "BRAF                 0\n",
              "LVI                  0\n",
              "PNI                  0\n",
              "pN                   0\n",
              "Harvested_LN         0\n",
              "Positive_LN          0\n",
              "dtype: int64"
            ]
          },
          "metadata": {
            "tags": []
          },
          "execution_count": 42
        }
      ]
    },
    {
      "cell_type": "code",
      "metadata": {
        "id": "8DctmKAT_MDc",
        "colab": {
          "base_uri": "https://localhost:8080/",
          "height": 453
        },
        "outputId": "e410787b-cd58-4a02-9782-6c48996a2f62"
      },
      "source": [
        "df"
      ],
      "execution_count": 43,
      "outputs": [
        {
          "output_type": "execute_result",
          "data": {
            "text/html": [
              "<div>\n",
              "<style scoped>\n",
              "    .dataframe tbody tr th:only-of-type {\n",
              "        vertical-align: middle;\n",
              "    }\n",
              "\n",
              "    .dataframe tbody tr th {\n",
              "        vertical-align: top;\n",
              "    }\n",
              "\n",
              "    .dataframe thead th {\n",
              "        text-align: right;\n",
              "    }\n",
              "</style>\n",
              "<table border=\"1\" class=\"dataframe\">\n",
              "  <thead>\n",
              "    <tr style=\"text-align: right;\">\n",
              "      <th></th>\n",
              "      <th>Age</th>\n",
              "      <th>Sex</th>\n",
              "      <th>ASA</th>\n",
              "      <th>BMI</th>\n",
              "      <th>DM_history</th>\n",
              "      <th>Pulmonary_disease</th>\n",
              "      <th>Liver_disease</th>\n",
              "      <th>Kidney_disease</th>\n",
              "      <th>Smoking_history</th>\n",
              "      <th>Prior_Dx_cancer</th>\n",
              "      <th>pT</th>\n",
              "      <th>pM</th>\n",
              "      <th>pTNM</th>\n",
              "      <th>K-ras</th>\n",
              "      <th>N-ras</th>\n",
              "      <th>BRAF</th>\n",
              "      <th>LVI</th>\n",
              "      <th>PNI</th>\n",
              "      <th>pN</th>\n",
              "      <th>Harvested_LN</th>\n",
              "      <th>Positive_LN</th>\n",
              "      <th>Postop_Chemo_Regimen</th>\n",
              "    </tr>\n",
              "  </thead>\n",
              "  <tbody>\n",
              "    <tr>\n",
              "      <th>2</th>\n",
              "      <td>73</td>\n",
              "      <td>2</td>\n",
              "      <td>3</td>\n",
              "      <td>16.25</td>\n",
              "      <td>0</td>\n",
              "      <td>0</td>\n",
              "      <td>0</td>\n",
              "      <td>0</td>\n",
              "      <td>2</td>\n",
              "      <td>0</td>\n",
              "      <td>6</td>\n",
              "      <td>1</td>\n",
              "      <td>32</td>\n",
              "      <td>1</td>\n",
              "      <td>1</td>\n",
              "      <td>1</td>\n",
              "      <td>11</td>\n",
              "      <td>3</td>\n",
              "      <td>31</td>\n",
              "      <td>23.0</td>\n",
              "      <td>1.0</td>\n",
              "      <td>1</td>\n",
              "    </tr>\n",
              "    <tr>\n",
              "      <th>3</th>\n",
              "      <td>63</td>\n",
              "      <td>1</td>\n",
              "      <td>2</td>\n",
              "      <td>23.88</td>\n",
              "      <td>0</td>\n",
              "      <td>0</td>\n",
              "      <td>0</td>\n",
              "      <td>0</td>\n",
              "      <td>2</td>\n",
              "      <td>0</td>\n",
              "      <td>6</td>\n",
              "      <td>1</td>\n",
              "      <td>33</td>\n",
              "      <td>1</td>\n",
              "      <td>1</td>\n",
              "      <td>1</td>\n",
              "      <td>32</td>\n",
              "      <td>3</td>\n",
              "      <td>41</td>\n",
              "      <td>10.0</td>\n",
              "      <td>4.0</td>\n",
              "      <td>0</td>\n",
              "    </tr>\n",
              "    <tr>\n",
              "      <th>4</th>\n",
              "      <td>45</td>\n",
              "      <td>2</td>\n",
              "      <td>2</td>\n",
              "      <td>21.83</td>\n",
              "      <td>0</td>\n",
              "      <td>0</td>\n",
              "      <td>0</td>\n",
              "      <td>0</td>\n",
              "      <td>2</td>\n",
              "      <td>0</td>\n",
              "      <td>4</td>\n",
              "      <td>1</td>\n",
              "      <td>1</td>\n",
              "      <td>1</td>\n",
              "      <td>1</td>\n",
              "      <td>1</td>\n",
              "      <td>32</td>\n",
              "      <td>3</td>\n",
              "      <td>2</td>\n",
              "      <td>56.0</td>\n",
              "      <td>0.0</td>\n",
              "      <td>0</td>\n",
              "    </tr>\n",
              "    <tr>\n",
              "      <th>5</th>\n",
              "      <td>69</td>\n",
              "      <td>1</td>\n",
              "      <td>3</td>\n",
              "      <td>22.86</td>\n",
              "      <td>1</td>\n",
              "      <td>0</td>\n",
              "      <td>0</td>\n",
              "      <td>0</td>\n",
              "      <td>2</td>\n",
              "      <td>1</td>\n",
              "      <td>6</td>\n",
              "      <td>1</td>\n",
              "      <td>32</td>\n",
              "      <td>1</td>\n",
              "      <td>1</td>\n",
              "      <td>1</td>\n",
              "      <td>32</td>\n",
              "      <td>3</td>\n",
              "      <td>31</td>\n",
              "      <td>33.0</td>\n",
              "      <td>1.0</td>\n",
              "      <td>1</td>\n",
              "    </tr>\n",
              "    <tr>\n",
              "      <th>6</th>\n",
              "      <td>69</td>\n",
              "      <td>1</td>\n",
              "      <td>2</td>\n",
              "      <td>20.81</td>\n",
              "      <td>0</td>\n",
              "      <td>0</td>\n",
              "      <td>0</td>\n",
              "      <td>0</td>\n",
              "      <td>2</td>\n",
              "      <td>0</td>\n",
              "      <td>6</td>\n",
              "      <td>1</td>\n",
              "      <td>32</td>\n",
              "      <td>1</td>\n",
              "      <td>1</td>\n",
              "      <td>1</td>\n",
              "      <td>21</td>\n",
              "      <td>3</td>\n",
              "      <td>31</td>\n",
              "      <td>25.0</td>\n",
              "      <td>1.0</td>\n",
              "      <td>1</td>\n",
              "    </tr>\n",
              "    <tr>\n",
              "      <th>...</th>\n",
              "      <td>...</td>\n",
              "      <td>...</td>\n",
              "      <td>...</td>\n",
              "      <td>...</td>\n",
              "      <td>...</td>\n",
              "      <td>...</td>\n",
              "      <td>...</td>\n",
              "      <td>...</td>\n",
              "      <td>...</td>\n",
              "      <td>...</td>\n",
              "      <td>...</td>\n",
              "      <td>...</td>\n",
              "      <td>...</td>\n",
              "      <td>...</td>\n",
              "      <td>...</td>\n",
              "      <td>...</td>\n",
              "      <td>...</td>\n",
              "      <td>...</td>\n",
              "      <td>...</td>\n",
              "      <td>...</td>\n",
              "      <td>...</td>\n",
              "      <td>...</td>\n",
              "    </tr>\n",
              "    <tr>\n",
              "      <th>3317</th>\n",
              "      <td>75</td>\n",
              "      <td>1</td>\n",
              "      <td>2</td>\n",
              "      <td>18.52</td>\n",
              "      <td>0</td>\n",
              "      <td>1</td>\n",
              "      <td>0</td>\n",
              "      <td>0</td>\n",
              "      <td>0</td>\n",
              "      <td>0</td>\n",
              "      <td>71</td>\n",
              "      <td>23</td>\n",
              "      <td>43</td>\n",
              "      <td>22</td>\n",
              "      <td>1</td>\n",
              "      <td>1</td>\n",
              "      <td>31</td>\n",
              "      <td>2</td>\n",
              "      <td>42</td>\n",
              "      <td>40.0</td>\n",
              "      <td>28.0</td>\n",
              "      <td>0</td>\n",
              "    </tr>\n",
              "    <tr>\n",
              "      <th>3318</th>\n",
              "      <td>77</td>\n",
              "      <td>2</td>\n",
              "      <td>2</td>\n",
              "      <td>23.55</td>\n",
              "      <td>0</td>\n",
              "      <td>0</td>\n",
              "      <td>0</td>\n",
              "      <td>0</td>\n",
              "      <td>0</td>\n",
              "      <td>0</td>\n",
              "      <td>6</td>\n",
              "      <td>1</td>\n",
              "      <td>32</td>\n",
              "      <td>22</td>\n",
              "      <td>1</td>\n",
              "      <td>1</td>\n",
              "      <td>31</td>\n",
              "      <td>1</td>\n",
              "      <td>32</td>\n",
              "      <td>6.0</td>\n",
              "      <td>3.0</td>\n",
              "      <td>3</td>\n",
              "    </tr>\n",
              "    <tr>\n",
              "      <th>3319</th>\n",
              "      <td>77</td>\n",
              "      <td>2</td>\n",
              "      <td>2</td>\n",
              "      <td>21.7</td>\n",
              "      <td>0</td>\n",
              "      <td>0</td>\n",
              "      <td>0</td>\n",
              "      <td>0</td>\n",
              "      <td>0</td>\n",
              "      <td>0</td>\n",
              "      <td>6</td>\n",
              "      <td>21</td>\n",
              "      <td>41</td>\n",
              "      <td>1</td>\n",
              "      <td>22</td>\n",
              "      <td>1</td>\n",
              "      <td>31</td>\n",
              "      <td>1</td>\n",
              "      <td>2</td>\n",
              "      <td>39.0</td>\n",
              "      <td>0.0</td>\n",
              "      <td>3</td>\n",
              "    </tr>\n",
              "    <tr>\n",
              "      <th>3321</th>\n",
              "      <td>69</td>\n",
              "      <td>2</td>\n",
              "      <td>2</td>\n",
              "      <td>26.77</td>\n",
              "      <td>1</td>\n",
              "      <td>0</td>\n",
              "      <td>0</td>\n",
              "      <td>0</td>\n",
              "      <td>0</td>\n",
              "      <td>0</td>\n",
              "      <td>6</td>\n",
              "      <td>1</td>\n",
              "      <td>21</td>\n",
              "      <td>22</td>\n",
              "      <td>1</td>\n",
              "      <td>1</td>\n",
              "      <td>31</td>\n",
              "      <td>1</td>\n",
              "      <td>2</td>\n",
              "      <td>16.0</td>\n",
              "      <td>0.0</td>\n",
              "      <td>0</td>\n",
              "    </tr>\n",
              "    <tr>\n",
              "      <th>3322</th>\n",
              "      <td>61</td>\n",
              "      <td>1</td>\n",
              "      <td>3</td>\n",
              "      <td>23.71</td>\n",
              "      <td>1</td>\n",
              "      <td>0</td>\n",
              "      <td>0</td>\n",
              "      <td>0</td>\n",
              "      <td>1</td>\n",
              "      <td>0</td>\n",
              "      <td>71</td>\n",
              "      <td>22</td>\n",
              "      <td>42</td>\n",
              "      <td>22</td>\n",
              "      <td>1</td>\n",
              "      <td>1</td>\n",
              "      <td>31</td>\n",
              "      <td>1</td>\n",
              "      <td>42</td>\n",
              "      <td>20.0</td>\n",
              "      <td>19.0</td>\n",
              "      <td>0</td>\n",
              "    </tr>\n",
              "  </tbody>\n",
              "</table>\n",
              "<p>3086 rows × 22 columns</p>\n",
              "</div>"
            ],
            "text/plain": [
              "     Age Sex ASA    BMI  ...  pN Harvested_LN Positive_LN Postop_Chemo_Regimen\n",
              "2     73   2   3  16.25  ...  31         23.0         1.0                    1\n",
              "3     63   1   2  23.88  ...  41         10.0         4.0                    0\n",
              "4     45   2   2  21.83  ...   2         56.0         0.0                    0\n",
              "5     69   1   3  22.86  ...  31         33.0         1.0                    1\n",
              "6     69   1   2  20.81  ...  31         25.0         1.0                    1\n",
              "...   ..  ..  ..    ...  ...  ..          ...         ...                  ...\n",
              "3317  75   1   2  18.52  ...  42         40.0        28.0                    0\n",
              "3318  77   2   2  23.55  ...  32          6.0         3.0                    3\n",
              "3319  77   2   2   21.7  ...   2         39.0         0.0                    3\n",
              "3321  69   2   2  26.77  ...   2         16.0         0.0                    0\n",
              "3322  61   1   3  23.71  ...  42         20.0        19.0                    0\n",
              "\n",
              "[3086 rows x 22 columns]"
            ]
          },
          "metadata": {
            "tags": []
          },
          "execution_count": 43
        }
      ]
    },
    {
      "cell_type": "code",
      "metadata": {
        "id": "xhH9D-ec_Qrn",
        "colab": {
          "base_uri": "https://localhost:8080/",
          "height": 453
        },
        "outputId": "d551cc2f-52e5-4b53-d596-2053a2bfb30c"
      },
      "source": [
        "features"
      ],
      "execution_count": 44,
      "outputs": [
        {
          "output_type": "execute_result",
          "data": {
            "text/html": [
              "<div>\n",
              "<style scoped>\n",
              "    .dataframe tbody tr th:only-of-type {\n",
              "        vertical-align: middle;\n",
              "    }\n",
              "\n",
              "    .dataframe tbody tr th {\n",
              "        vertical-align: top;\n",
              "    }\n",
              "\n",
              "    .dataframe thead th {\n",
              "        text-align: right;\n",
              "    }\n",
              "</style>\n",
              "<table border=\"1\" class=\"dataframe\">\n",
              "  <thead>\n",
              "    <tr style=\"text-align: right;\">\n",
              "      <th></th>\n",
              "      <th>Age</th>\n",
              "      <th>Sex</th>\n",
              "      <th>ASA</th>\n",
              "      <th>BMI</th>\n",
              "      <th>DM_history</th>\n",
              "      <th>Pulmonary_disease</th>\n",
              "      <th>Smoking_history</th>\n",
              "      <th>Prior_Dx_cancer</th>\n",
              "      <th>pT</th>\n",
              "      <th>pM</th>\n",
              "      <th>pTNM</th>\n",
              "      <th>K-ras</th>\n",
              "      <th>N-ras</th>\n",
              "      <th>BRAF</th>\n",
              "      <th>LVI</th>\n",
              "      <th>PNI</th>\n",
              "      <th>pN</th>\n",
              "      <th>Harvested_LN</th>\n",
              "      <th>Positive_LN</th>\n",
              "    </tr>\n",
              "  </thead>\n",
              "  <tbody>\n",
              "    <tr>\n",
              "      <th>2</th>\n",
              "      <td>73</td>\n",
              "      <td>2</td>\n",
              "      <td>3</td>\n",
              "      <td>16.25</td>\n",
              "      <td>0</td>\n",
              "      <td>0</td>\n",
              "      <td>2</td>\n",
              "      <td>0</td>\n",
              "      <td>6</td>\n",
              "      <td>1</td>\n",
              "      <td>32</td>\n",
              "      <td>1</td>\n",
              "      <td>1</td>\n",
              "      <td>1</td>\n",
              "      <td>11</td>\n",
              "      <td>3</td>\n",
              "      <td>31</td>\n",
              "      <td>23.0</td>\n",
              "      <td>1.0</td>\n",
              "    </tr>\n",
              "    <tr>\n",
              "      <th>3</th>\n",
              "      <td>63</td>\n",
              "      <td>1</td>\n",
              "      <td>2</td>\n",
              "      <td>23.88</td>\n",
              "      <td>0</td>\n",
              "      <td>0</td>\n",
              "      <td>2</td>\n",
              "      <td>0</td>\n",
              "      <td>6</td>\n",
              "      <td>1</td>\n",
              "      <td>33</td>\n",
              "      <td>1</td>\n",
              "      <td>1</td>\n",
              "      <td>1</td>\n",
              "      <td>32</td>\n",
              "      <td>3</td>\n",
              "      <td>41</td>\n",
              "      <td>10.0</td>\n",
              "      <td>4.0</td>\n",
              "    </tr>\n",
              "    <tr>\n",
              "      <th>4</th>\n",
              "      <td>45</td>\n",
              "      <td>2</td>\n",
              "      <td>2</td>\n",
              "      <td>21.83</td>\n",
              "      <td>0</td>\n",
              "      <td>0</td>\n",
              "      <td>2</td>\n",
              "      <td>0</td>\n",
              "      <td>4</td>\n",
              "      <td>1</td>\n",
              "      <td>1</td>\n",
              "      <td>1</td>\n",
              "      <td>1</td>\n",
              "      <td>1</td>\n",
              "      <td>32</td>\n",
              "      <td>3</td>\n",
              "      <td>2</td>\n",
              "      <td>56.0</td>\n",
              "      <td>0.0</td>\n",
              "    </tr>\n",
              "    <tr>\n",
              "      <th>5</th>\n",
              "      <td>69</td>\n",
              "      <td>1</td>\n",
              "      <td>3</td>\n",
              "      <td>22.86</td>\n",
              "      <td>1</td>\n",
              "      <td>0</td>\n",
              "      <td>2</td>\n",
              "      <td>1</td>\n",
              "      <td>6</td>\n",
              "      <td>1</td>\n",
              "      <td>32</td>\n",
              "      <td>1</td>\n",
              "      <td>1</td>\n",
              "      <td>1</td>\n",
              "      <td>32</td>\n",
              "      <td>3</td>\n",
              "      <td>31</td>\n",
              "      <td>33.0</td>\n",
              "      <td>1.0</td>\n",
              "    </tr>\n",
              "    <tr>\n",
              "      <th>6</th>\n",
              "      <td>69</td>\n",
              "      <td>1</td>\n",
              "      <td>2</td>\n",
              "      <td>20.81</td>\n",
              "      <td>0</td>\n",
              "      <td>0</td>\n",
              "      <td>2</td>\n",
              "      <td>0</td>\n",
              "      <td>6</td>\n",
              "      <td>1</td>\n",
              "      <td>32</td>\n",
              "      <td>1</td>\n",
              "      <td>1</td>\n",
              "      <td>1</td>\n",
              "      <td>21</td>\n",
              "      <td>3</td>\n",
              "      <td>31</td>\n",
              "      <td>25.0</td>\n",
              "      <td>1.0</td>\n",
              "    </tr>\n",
              "    <tr>\n",
              "      <th>...</th>\n",
              "      <td>...</td>\n",
              "      <td>...</td>\n",
              "      <td>...</td>\n",
              "      <td>...</td>\n",
              "      <td>...</td>\n",
              "      <td>...</td>\n",
              "      <td>...</td>\n",
              "      <td>...</td>\n",
              "      <td>...</td>\n",
              "      <td>...</td>\n",
              "      <td>...</td>\n",
              "      <td>...</td>\n",
              "      <td>...</td>\n",
              "      <td>...</td>\n",
              "      <td>...</td>\n",
              "      <td>...</td>\n",
              "      <td>...</td>\n",
              "      <td>...</td>\n",
              "      <td>...</td>\n",
              "    </tr>\n",
              "    <tr>\n",
              "      <th>3317</th>\n",
              "      <td>75</td>\n",
              "      <td>1</td>\n",
              "      <td>2</td>\n",
              "      <td>18.52</td>\n",
              "      <td>0</td>\n",
              "      <td>1</td>\n",
              "      <td>0</td>\n",
              "      <td>0</td>\n",
              "      <td>71</td>\n",
              "      <td>23</td>\n",
              "      <td>43</td>\n",
              "      <td>22</td>\n",
              "      <td>1</td>\n",
              "      <td>1</td>\n",
              "      <td>31</td>\n",
              "      <td>2</td>\n",
              "      <td>42</td>\n",
              "      <td>40.0</td>\n",
              "      <td>28.0</td>\n",
              "    </tr>\n",
              "    <tr>\n",
              "      <th>3318</th>\n",
              "      <td>77</td>\n",
              "      <td>2</td>\n",
              "      <td>2</td>\n",
              "      <td>23.55</td>\n",
              "      <td>0</td>\n",
              "      <td>0</td>\n",
              "      <td>0</td>\n",
              "      <td>0</td>\n",
              "      <td>6</td>\n",
              "      <td>1</td>\n",
              "      <td>32</td>\n",
              "      <td>22</td>\n",
              "      <td>1</td>\n",
              "      <td>1</td>\n",
              "      <td>31</td>\n",
              "      <td>1</td>\n",
              "      <td>32</td>\n",
              "      <td>6.0</td>\n",
              "      <td>3.0</td>\n",
              "    </tr>\n",
              "    <tr>\n",
              "      <th>3319</th>\n",
              "      <td>77</td>\n",
              "      <td>2</td>\n",
              "      <td>2</td>\n",
              "      <td>21.7</td>\n",
              "      <td>0</td>\n",
              "      <td>0</td>\n",
              "      <td>0</td>\n",
              "      <td>0</td>\n",
              "      <td>6</td>\n",
              "      <td>21</td>\n",
              "      <td>41</td>\n",
              "      <td>1</td>\n",
              "      <td>22</td>\n",
              "      <td>1</td>\n",
              "      <td>31</td>\n",
              "      <td>1</td>\n",
              "      <td>2</td>\n",
              "      <td>39.0</td>\n",
              "      <td>0.0</td>\n",
              "    </tr>\n",
              "    <tr>\n",
              "      <th>3321</th>\n",
              "      <td>69</td>\n",
              "      <td>2</td>\n",
              "      <td>2</td>\n",
              "      <td>26.77</td>\n",
              "      <td>1</td>\n",
              "      <td>0</td>\n",
              "      <td>0</td>\n",
              "      <td>0</td>\n",
              "      <td>6</td>\n",
              "      <td>1</td>\n",
              "      <td>21</td>\n",
              "      <td>22</td>\n",
              "      <td>1</td>\n",
              "      <td>1</td>\n",
              "      <td>31</td>\n",
              "      <td>1</td>\n",
              "      <td>2</td>\n",
              "      <td>16.0</td>\n",
              "      <td>0.0</td>\n",
              "    </tr>\n",
              "    <tr>\n",
              "      <th>3322</th>\n",
              "      <td>61</td>\n",
              "      <td>1</td>\n",
              "      <td>3</td>\n",
              "      <td>23.71</td>\n",
              "      <td>1</td>\n",
              "      <td>0</td>\n",
              "      <td>1</td>\n",
              "      <td>0</td>\n",
              "      <td>71</td>\n",
              "      <td>22</td>\n",
              "      <td>42</td>\n",
              "      <td>22</td>\n",
              "      <td>1</td>\n",
              "      <td>1</td>\n",
              "      <td>31</td>\n",
              "      <td>1</td>\n",
              "      <td>42</td>\n",
              "      <td>20.0</td>\n",
              "      <td>19.0</td>\n",
              "    </tr>\n",
              "  </tbody>\n",
              "</table>\n",
              "<p>3086 rows × 19 columns</p>\n",
              "</div>"
            ],
            "text/plain": [
              "     Age Sex ASA    BMI DM_history  ... LVI PNI  pN  Harvested_LN  Positive_LN\n",
              "2     73   2   3  16.25          0  ...  11   3  31          23.0          1.0\n",
              "3     63   1   2  23.88          0  ...  32   3  41          10.0          4.0\n",
              "4     45   2   2  21.83          0  ...  32   3   2          56.0          0.0\n",
              "5     69   1   3  22.86          1  ...  32   3  31          33.0          1.0\n",
              "6     69   1   2  20.81          0  ...  21   3  31          25.0          1.0\n",
              "...   ..  ..  ..    ...        ...  ...  ..  ..  ..           ...          ...\n",
              "3317  75   1   2  18.52          0  ...  31   2  42          40.0         28.0\n",
              "3318  77   2   2  23.55          0  ...  31   1  32           6.0          3.0\n",
              "3319  77   2   2   21.7          0  ...  31   1   2          39.0          0.0\n",
              "3321  69   2   2  26.77          1  ...  31   1   2          16.0          0.0\n",
              "3322  61   1   3  23.71          1  ...  31   1  42          20.0         19.0\n",
              "\n",
              "[3086 rows x 19 columns]"
            ]
          },
          "metadata": {
            "tags": []
          },
          "execution_count": 44
        }
      ]
    },
    {
      "cell_type": "code",
      "metadata": {
        "id": "p8dd88qqWwa3"
      },
      "source": [
        "from sklearn.preprocessing import StandardScaler\r\n",
        "standardScaler = StandardScaler()\r\n",
        "standardScaler.fit(df[['Age']])\r\n",
        "df[['Age']] = standardScaler.transform(df[['Age']])\r\n",
        "standardScaler.fit(df[['BMI']])\r\n",
        "df[['BMI']] = standardScaler.transform(df[['BMI']])\r\n",
        "\r\n"
      ],
      "execution_count": 45,
      "outputs": []
    },
    {
      "cell_type": "code",
      "metadata": {
        "id": "9REylpRVmhQx",
        "colab": {
          "base_uri": "https://localhost:8080/",
          "height": 415
        },
        "outputId": "e5b55515-2ef1-434f-ea9f-eb0948e66339"
      },
      "source": [
        "pd.get_dummies(df['pT'])\r\n",
        "pd.get_dummies(df['BRAF'])\r\n",
        "pd.get_dummies(df['N-ras'])\r\n",
        "pd.get_dummies(df['K-ras'])\r\n",
        "pd.get_dummies(df['pTNM'])\r\n",
        "pd.get_dummies(df['pM'])\r\n",
        "pd.get_dummies(df['Prior_Dx_cancer'])\r\n",
        "pd.get_dummies(df['Smoking_history'])\r\n",
        "pd.get_dummies(df['ASA'])\r\n"
      ],
      "execution_count": 46,
      "outputs": [
        {
          "output_type": "execute_result",
          "data": {
            "text/html": [
              "<div>\n",
              "<style scoped>\n",
              "    .dataframe tbody tr th:only-of-type {\n",
              "        vertical-align: middle;\n",
              "    }\n",
              "\n",
              "    .dataframe tbody tr th {\n",
              "        vertical-align: top;\n",
              "    }\n",
              "\n",
              "    .dataframe thead th {\n",
              "        text-align: right;\n",
              "    }\n",
              "</style>\n",
              "<table border=\"1\" class=\"dataframe\">\n",
              "  <thead>\n",
              "    <tr style=\"text-align: right;\">\n",
              "      <th></th>\n",
              "      <th>1</th>\n",
              "      <th>2</th>\n",
              "      <th>3</th>\n",
              "      <th>4</th>\n",
              "      <th>9999</th>\n",
              "    </tr>\n",
              "  </thead>\n",
              "  <tbody>\n",
              "    <tr>\n",
              "      <th>2</th>\n",
              "      <td>0</td>\n",
              "      <td>0</td>\n",
              "      <td>1</td>\n",
              "      <td>0</td>\n",
              "      <td>0</td>\n",
              "    </tr>\n",
              "    <tr>\n",
              "      <th>3</th>\n",
              "      <td>0</td>\n",
              "      <td>1</td>\n",
              "      <td>0</td>\n",
              "      <td>0</td>\n",
              "      <td>0</td>\n",
              "    </tr>\n",
              "    <tr>\n",
              "      <th>4</th>\n",
              "      <td>0</td>\n",
              "      <td>1</td>\n",
              "      <td>0</td>\n",
              "      <td>0</td>\n",
              "      <td>0</td>\n",
              "    </tr>\n",
              "    <tr>\n",
              "      <th>5</th>\n",
              "      <td>0</td>\n",
              "      <td>0</td>\n",
              "      <td>1</td>\n",
              "      <td>0</td>\n",
              "      <td>0</td>\n",
              "    </tr>\n",
              "    <tr>\n",
              "      <th>6</th>\n",
              "      <td>0</td>\n",
              "      <td>1</td>\n",
              "      <td>0</td>\n",
              "      <td>0</td>\n",
              "      <td>0</td>\n",
              "    </tr>\n",
              "    <tr>\n",
              "      <th>...</th>\n",
              "      <td>...</td>\n",
              "      <td>...</td>\n",
              "      <td>...</td>\n",
              "      <td>...</td>\n",
              "      <td>...</td>\n",
              "    </tr>\n",
              "    <tr>\n",
              "      <th>3317</th>\n",
              "      <td>0</td>\n",
              "      <td>1</td>\n",
              "      <td>0</td>\n",
              "      <td>0</td>\n",
              "      <td>0</td>\n",
              "    </tr>\n",
              "    <tr>\n",
              "      <th>3318</th>\n",
              "      <td>0</td>\n",
              "      <td>1</td>\n",
              "      <td>0</td>\n",
              "      <td>0</td>\n",
              "      <td>0</td>\n",
              "    </tr>\n",
              "    <tr>\n",
              "      <th>3319</th>\n",
              "      <td>0</td>\n",
              "      <td>1</td>\n",
              "      <td>0</td>\n",
              "      <td>0</td>\n",
              "      <td>0</td>\n",
              "    </tr>\n",
              "    <tr>\n",
              "      <th>3321</th>\n",
              "      <td>0</td>\n",
              "      <td>1</td>\n",
              "      <td>0</td>\n",
              "      <td>0</td>\n",
              "      <td>0</td>\n",
              "    </tr>\n",
              "    <tr>\n",
              "      <th>3322</th>\n",
              "      <td>0</td>\n",
              "      <td>0</td>\n",
              "      <td>1</td>\n",
              "      <td>0</td>\n",
              "      <td>0</td>\n",
              "    </tr>\n",
              "  </tbody>\n",
              "</table>\n",
              "<p>3086 rows × 5 columns</p>\n",
              "</div>"
            ],
            "text/plain": [
              "      1     2     3     4     9999\n",
              "2        0     0     1     0     0\n",
              "3        0     1     0     0     0\n",
              "4        0     1     0     0     0\n",
              "5        0     0     1     0     0\n",
              "6        0     1     0     0     0\n",
              "...    ...   ...   ...   ...   ...\n",
              "3317     0     1     0     0     0\n",
              "3318     0     1     0     0     0\n",
              "3319     0     1     0     0     0\n",
              "3321     0     1     0     0     0\n",
              "3322     0     0     1     0     0\n",
              "\n",
              "[3086 rows x 5 columns]"
            ]
          },
          "metadata": {
            "tags": []
          },
          "execution_count": 46
        }
      ]
    },
    {
      "cell_type": "code",
      "metadata": {
        "colab": {
          "base_uri": "https://localhost:8080/"
        },
        "id": "z85cCZiGywFL",
        "outputId": "71652111-1a3a-4644-9c7c-66d8a1bb464b"
      },
      "source": [
        "import scipy.stats as stats\r\n",
        "\r\n",
        "corr = stats.spearmanr(df['Age'], df['Postop_Chemo_Regimen'])\r\n",
        "corr"
      ],
      "execution_count": 47,
      "outputs": [
        {
          "output_type": "execute_result",
          "data": {
            "text/plain": [
              "SpearmanrResult(correlation=-0.26901470727909815, pvalue=2.6211401495273534e-52)"
            ]
          },
          "metadata": {
            "tags": []
          },
          "execution_count": 47
        }
      ]
    },
    {
      "cell_type": "code",
      "metadata": {
        "colab": {
          "base_uri": "https://localhost:8080/"
        },
        "id": "H1NwjP1wzB8O",
        "outputId": "562ed302-0b72-4ec5-eb49-0b90b9ab0413"
      },
      "source": [
        "import matplotlib.pyplot as plt \r\n",
        "import seaborn as sns\r\n",
        "\r\n",
        "df_1 = df[['Age', 'BMI', 'Harvested_LN', 'Positive_LN']]\r\n",
        "corr1 = stats.spearmanr(df_1['Harvested_LN'], df_1['BMI'])\r\n",
        "corr1"
      ],
      "execution_count": 48,
      "outputs": [
        {
          "output_type": "execute_result",
          "data": {
            "text/plain": [
              "SpearmanrResult(correlation=-0.14730207337958393, pvalue=1.960440139418787e-16)"
            ]
          },
          "metadata": {
            "tags": []
          },
          "execution_count": 48
        }
      ]
    },
    {
      "cell_type": "code",
      "metadata": {
        "id": "X09Lu3cIYlEi"
      },
      "source": [
        "from sklearn.model_selection import train_test_split\r\n",
        "X_train, X_test, y_train, y_test = train_test_split(\r\n",
        "    features, target, test_size = 0.3, random_state=3\r\n",
        ")"
      ],
      "execution_count": 49,
      "outputs": []
    },
    {
      "cell_type": "code",
      "metadata": {
        "id": "yqfGiLLIYofg",
        "colab": {
          "base_uri": "https://localhost:8080/"
        },
        "outputId": "e38e0fdc-dc44-401c-cfc8-7065dd7520f6"
      },
      "source": [
        "#kNN\r\n",
        "\r\n",
        "\r\n",
        "from sklearn.neighbors import KNeighborsClassifier\r\n",
        "from sklearn.model_selection import cross_val_score\r\n",
        "knn = KNeighborsClassifier()\r\n",
        "y_train = y_train.astype('int')\r\n",
        "y_test=y_test.astype('int')\r\n",
        "\r\n",
        "knn.fit(X_train, y_train)\r\n",
        "print(\"테스트 세트 정확도 : {:.2f}\".format(knn.score(X_test, y_test)))\r\n",
        "\r\n",
        "from sklearn.metrics import accuracy_score, f1_score, precision_score, recall_score, classification_report\r\n",
        "\r\n",
        "y_pred = knn.predict(X_test)\r\n",
        "\r\n",
        "print(classification_report(y_test,y_pred))\r\n",
        "\r\n",
        "print(precision_score(y_test, y_pred,average='macro'))\r\n",
        "print(recall_score(y_test, y_pred,average='macro'))\r\n",
        "print(f1_score(y_test, y_pred,average='macro'))\r\n",
        "print(accuracy_score(y_test, y_pred))\r\n",
        "\r\n",
        "from sklearn.metrics import confusion_matrix\r\n",
        "print(confusion_matrix(y_test, y_pred))"
      ],
      "execution_count": 50,
      "outputs": [
        {
          "output_type": "stream",
          "text": [
            "테스트 세트 정확도 : 0.61\n",
            "              precision    recall  f1-score   support\n",
            "\n",
            "           0       0.70      0.82      0.75       424\n",
            "           1       0.46      0.47      0.47       167\n",
            "           2       0.17      0.04      0.06        57\n",
            "           3       0.58      0.56      0.57       250\n",
            "           4       0.00      0.00      0.00        14\n",
            "           5       0.29      0.14      0.19        14\n",
            "\n",
            "    accuracy                           0.61       926\n",
            "   macro avg       0.37      0.34      0.34       926\n",
            "weighted avg       0.57      0.61      0.59       926\n",
            "\n",
            "0.3659419024008035\n",
            "0.33696090789999894\n",
            "0.3394481404656804\n",
            "0.6144708423326134\n",
            "[[348  33   1  40   0   2]\n",
            " [ 57  78   2  30   0   0]\n",
            " [ 33   9   2  13   0   0]\n",
            " [ 54  46   7 139   1   3]\n",
            " [  1   2   0  11   0   0]\n",
            " [  6   0   0   6   0   2]]\n"
          ],
          "name": "stdout"
        }
      ]
    },
    {
      "cell_type": "code",
      "metadata": {
        "id": "Wqth6mjRBzO7"
      },
      "source": [
        "import warnings\r\n",
        "warnings.filterwarnings('ignore')\r\n",
        "from sklearn.model_selection import cross_validate"
      ],
      "execution_count": 51,
      "outputs": []
    },
    {
      "cell_type": "code",
      "metadata": {
        "colab": {
          "base_uri": "https://localhost:8080/"
        },
        "id": "LdrJ2hzLB22O",
        "outputId": "bbd8b0ad-1817-41ff-e1bb-132fe31fca4a"
      },
      "source": [
        "X = features\r\n",
        "y = target.astype(int)\r\n",
        "names = [\"KNN\", \"SVM_Linear\", \"SVM_rbf\", \"DecisionTree\", \"RandomForest\"]\r\n",
        "scoring = {'acc': 'accuracy',\r\n",
        "           'prec_macro': 'precision_macro',\r\n",
        "           'rec_macro': 'recall_macro',\r\n",
        "           'f1_macro' : 'f1_macro'}\r\n",
        "from sklearn.model_selection import StratifiedKFold\r\n",
        "cv = StratifiedKFold(n_splits=5, random_state=0, shuffle=True)\r\n",
        "accuracy_scores = []\r\n",
        "precision_scores = []\r\n",
        "recall_scores = []\r\n",
        "f1_scores = []\r\n",
        "for i, (train, test) in enumerate(cv.split(X, y)):\r\n",
        "    print(\"=================\", str(i) , \" Fold =================\")\r\n",
        "    X_train = X.iloc[train]\r\n",
        "    X_test = X.iloc[test]\r\n",
        "    y_train = y.iloc[train]\r\n",
        "    y_test = y.iloc[test]\r\n",
        "    model = knn\r\n",
        "    model.fit(X_train, y_train)\r\n",
        "    y_pred = knn.predict(X_test)\r\n",
        "    #print(classification_report(y_test,y_pred))\r\n",
        "    print(\"accuracy_score : \", accuracy_score(y_test, y_pred))\r\n",
        "    print(\"precision_macro : \", precision_score(y_test, y_pred,average='macro'))\r\n",
        "    print(\"recall_macro : \",recall_score(y_test, y_pred,average='macro'))\r\n",
        "    print(\"f1_macro : \",f1_score(y_test, y_pred,average='macro'))\r\n",
        "    accuracy_scores.append(accuracy_score(y_test, y_pred))\r\n",
        "    precision_scores.append(precision_score(y_test, y_pred,average='macro'))\r\n",
        "    recall_scores.append(recall_score(y_test, y_pred,average='macro'))\r\n",
        "    f1_scores.append(f1_score(y_test, y_pred,average='macro'))\r\n",
        "print(\"\")\r\n",
        "print(\"Acc 평균 : \", np.mean(accuracy_scores))\r\n",
        "print(\"prec 평균 : \", np.mean(precision_scores))\r\n",
        "print(\"Recall 평균 : \", np.mean(recall_scores))\r\n",
        "print(\"F1 평균 : \", np.mean(f1_scores))"
      ],
      "execution_count": 52,
      "outputs": [
        {
          "output_type": "stream",
          "text": [
            "================= 0  Fold =================\n",
            "accuracy_score :  0.5906148867313916\n",
            "precision_macro :  0.37742228835978836\n",
            "recall_macro :  0.33774391074038235\n",
            "f1_macro :  0.3458021848451793\n",
            "================= 1  Fold =================\n",
            "accuracy_score :  0.6094003241491086\n",
            "precision_macro :  0.4767750620236549\n",
            "recall_macro :  0.3266103144512124\n",
            "f1_macro :  0.3380459106420645\n",
            "================= 2  Fold =================\n",
            "accuracy_score :  0.6175040518638574\n",
            "precision_macro :  0.3627375094267977\n",
            "recall_macro :  0.3339677657948114\n",
            "f1_macro :  0.3347697337263007\n",
            "================= 3  Fold =================\n",
            "accuracy_score :  0.5980551053484603\n",
            "precision_macro :  0.34194565223241363\n",
            "recall_macro :  0.33367108195403095\n",
            "f1_macro :  0.33368360999287644\n",
            "================= 4  Fold =================\n",
            "accuracy_score :  0.593192868719611\n",
            "precision_macro :  0.4037756063228009\n",
            "recall_macro :  0.38706466197182055\n",
            "f1_macro :  0.38962043962699816\n",
            "\n",
            "Acc 평균 :  0.6017534473624858\n",
            "prec 평균 :  0.39253122367309107\n",
            "Recall 평균 :  0.34381154698245153\n",
            "F1 평균 :  0.3483843757666838\n"
          ],
          "name": "stdout"
        }
      ]
    },
    {
      "cell_type": "code",
      "metadata": {
        "id": "dWUPFFdixcgK"
      },
      "source": [
        "# #SVM_Linear\r\n",
        "# from sklearn import svm\r\n",
        "# svm_linear = svm.SVC(kernel='linear',random_state = 0)\r\n",
        "# svm_linear.fit(X_train, y_train)\r\n",
        "# print(svm_linear.score(X_test, y_test))\r\n",
        "\r\n",
        "# from sklearn.metrics import accuracy_score, f1_score, precision_score, recall_score, classification_report\r\n",
        "\r\n",
        "# y_pred = svm_linear.predict(X_test)\r\n",
        "\r\n",
        "# print(classification_report(y_test,y_pred))\r\n",
        "# print(precision_score(y_test, y_pred,average='macro'))\r\n",
        "# print(recall_score(y_test, y_pred,average='macro'))\r\n",
        "# print(f1_score(y_test, y_pred,average='macro'))\r\n",
        "# print(accuracy_score(y_test, y_pred))\r\n",
        "\r\n",
        "# from sklearn.metrics import confusion_matrix\r\n",
        "# print(confusion_matrix(y_test, y_pred))"
      ],
      "execution_count": 53,
      "outputs": []
    },
    {
      "cell_type": "code",
      "metadata": {
        "id": "T2uEf9MoEBRo"
      },
      "source": [
        "# X = features\r\n",
        "# y = target.astype(int)\r\n",
        "# names = [\"KNN\", \"SVM_Linear\", \"SVM_rbf\", \"DecisionTree\", \"RandomForest\"]\r\n",
        "# scoring = {'acc': 'accuracy',\r\n",
        "#            'prec_macro': 'precision_macro',\r\n",
        "#            'rec_macro': 'recall_macro',\r\n",
        "#            'f1_macro' : 'f1_macro'}\r\n",
        "# from sklearn.model_selection import StratifiedKFold\r\n",
        "# cv = StratifiedKFold(n_splits=5, random_state=0, shuffle=True)\r\n",
        "# accuracy_scores = []\r\n",
        "# precision_scores = []\r\n",
        "# recall_scores = []\r\n",
        "# f1_scores = []\r\n",
        "# for i, (train, test) in enumerate(cv.split(X, y)):\r\n",
        "#     print(\"=================\", str(i) , \" Fold =================\")\r\n",
        "#     X_train = X.iloc[train]\r\n",
        "#     X_test = X.iloc[test]\r\n",
        "#     y_train = y.iloc[train]\r\n",
        "#     y_test = y.iloc[test]\r\n",
        "#     model = svm_linear\r\n",
        "#     model.fit(X_train, y_train)\r\n",
        "#     y_pred = svm_linear.predict(X_test)\r\n",
        "#     #print(classification_report(y_test,y_pred))\r\n",
        "#     print(\"accuracy_score : \", accuracy_score(y_test, y_pred))\r\n",
        "#     print(\"precision_macro : \", precision_score(y_test, y_pred,average='macro'))\r\n",
        "#     print(\"recall_macro : \",recall_score(y_test, y_pred,average='macro'))\r\n",
        "#     print(\"f1_macro : \",f1_score(y_test, y_pred,average='macro'))\r\n",
        "#     accuracy_scores.append(accuracy_score(y_test, y_pred))\r\n",
        "#     precision_scores.append(precision_score(y_test, y_pred,average='macro'))\r\n",
        "#     recall_scores.append(recall_score(y_test, y_pred,average='macro'))\r\n",
        "#     f1_scores.append(f1_score(y_test, y_pred,average='macro'))\r\n",
        "# print(\"\")\r\n",
        "# print(\"Acc 평균 : \", np.mean(accuracy_scores))\r\n",
        "# print(\"prec 평균 : \", np.mean(precision_scores))\r\n",
        "# print(\"Recall 평균 : \", np.mean(recall_scores))\r\n",
        "# print(\"F1 평균 : \", np.mean(f1_scores))"
      ],
      "execution_count": 54,
      "outputs": []
    },
    {
      "cell_type": "code",
      "metadata": {
        "id": "IOAx9LKhdT98"
      },
      "source": [
        "# #SVM_rbf\r\n",
        "# from sklearn import svm\r\n",
        "# svm_rbf = svm.SVC(kernel='rbf',random_state = 0)\r\n",
        "# svm_rbf.fit(X_train, y_train)\r\n",
        "# print(svm_rbf.score(X_test, y_test))\r\n"
      ],
      "execution_count": 55,
      "outputs": []
    },
    {
      "cell_type": "code",
      "metadata": {
        "id": "uB4qqN2tKdiN"
      },
      "source": [
        ""
      ],
      "execution_count": 55,
      "outputs": []
    },
    {
      "cell_type": "code",
      "metadata": {
        "id": "4MlyJ_5qmQht"
      },
      "source": [
        ""
      ],
      "execution_count": 55,
      "outputs": []
    },
    {
      "cell_type": "code",
      "metadata": {
        "id": "Gmm956pe9rFS",
        "colab": {
          "base_uri": "https://localhost:8080/"
        },
        "outputId": "ce6d3b33-d89e-4d5c-c765-a45c7281f5f2"
      },
      "source": [
        "#Decision Tree\r\n",
        "from sklearn.tree import DecisionTreeClassifier\r\n",
        "DTree = DecisionTreeClassifier(random_state = 0)\r\n",
        "DTree.fit(X_train, y_train)\r\n",
        "print(DTree.score(X_test, y_test))\r\n",
        "\r\n",
        "from sklearn.metrics import accuracy_score, f1_score, precision_score, recall_score, classification_report\r\n",
        "\r\n",
        "y_pred = DTree.predict(X_test)\r\n",
        "\r\n",
        "print(classification_report(y_test,y_pred))\r\n",
        "\r\n",
        "print(precision_score(y_test, y_pred,average='macro'))\r\n",
        "print(recall_score(y_test, y_pred,average='macro'))\r\n",
        "print(f1_score(y_test, y_pred,average='macro'))\r\n",
        "print(accuracy_score(y_test, y_pred))\r\n",
        "\r\n",
        "from sklearn.metrics import confusion_matrix\r\n",
        "print(confusion_matrix(y_test, y_pred))"
      ],
      "execution_count": 56,
      "outputs": [
        {
          "output_type": "stream",
          "text": [
            "0.5996758508914101\n",
            "              precision    recall  f1-score   support\n",
            "\n",
            "           0       0.73      0.71      0.72       277\n",
            "           1       0.48      0.50      0.49       118\n",
            "           2       0.03      0.03      0.03        33\n",
            "           3       0.62      0.65      0.64       169\n",
            "           4       0.10      0.08      0.09        12\n",
            "           5       0.30      0.38      0.33         8\n",
            "\n",
            "    accuracy                           0.60       617\n",
            "   macro avg       0.38      0.39      0.38       617\n",
            "weighted avg       0.60      0.60      0.60       617\n",
            "\n",
            "0.3780304629778994\n",
            "0.39118419417294725\n",
            "0.38365900394382585\n",
            "0.5996758508914101\n",
            "[[196  38  14  24   3   2]\n",
            " [ 32  59   7  19   1   0]\n",
            " [ 14   5   1  13   0   0]\n",
            " [ 22  20   7 110   5   5]\n",
            " [  4   0   0   7   1   0]\n",
            " [  1   0   0   4   0   3]]\n"
          ],
          "name": "stdout"
        }
      ]
    },
    {
      "cell_type": "code",
      "metadata": {
        "colab": {
          "base_uri": "https://localhost:8080/"
        },
        "id": "0alBkgEoE_dY",
        "outputId": "98bea749-b206-49a5-e36c-2b0bebb5e505"
      },
      "source": [
        "X = features\r\n",
        "y = target.astype(int)\r\n",
        "names = [\"KNN\", \"SVM_Linear\", \"SVM_rbf\", \"DecisionTree\", \"RandomForest\"]\r\n",
        "scoring = {'acc': 'accuracy',\r\n",
        "           'prec_macro': 'precision_macro',\r\n",
        "           'rec_macro': 'recall_macro',\r\n",
        "           'f1_macro' : 'f1_macro'}\r\n",
        "from sklearn.model_selection import StratifiedKFold\r\n",
        "cv = StratifiedKFold(n_splits=5, random_state=0, shuffle=True)\r\n",
        "accuracy_scores = []\r\n",
        "precision_scores = []\r\n",
        "recall_scores = []\r\n",
        "f1_scores = []\r\n",
        "for i, (train, test) in enumerate(cv.split(X, y)):\r\n",
        "    print(\"=================\", str(i) , \" Fold =================\")\r\n",
        "    X_train = X.iloc[train]\r\n",
        "    X_test = X.iloc[test]\r\n",
        "    y_train = y.iloc[train]\r\n",
        "    y_test = y.iloc[test]\r\n",
        "    model = DTree\r\n",
        "    model.fit(X_train, y_train)\r\n",
        "    y_pred = DTree.predict(X_test)\r\n",
        "    #print(classification_report(y_test,y_pred))\r\n",
        "    print(\"accuracy_score : \", accuracy_score(y_test, y_pred))\r\n",
        "    print(\"precision_macro : \", precision_score(y_test, y_pred,average='macro'))\r\n",
        "    print(\"recall_macro : \",recall_score(y_test, y_pred,average='macro'))\r\n",
        "    print(\"f1_macro : \",f1_score(y_test, y_pred,average='macro'))\r\n",
        "    accuracy_scores.append(accuracy_score(y_test, y_pred))\r\n",
        "    precision_scores.append(precision_score(y_test, y_pred,average='macro'))\r\n",
        "    recall_scores.append(recall_score(y_test, y_pred,average='macro'))\r\n",
        "    f1_scores.append(f1_score(y_test, y_pred,average='macro'))\r\n",
        "print(\"\")\r\n",
        "print(\"Acc 평균 : \", np.mean(accuracy_scores))\r\n",
        "print(\"prec 평균 : \", np.mean(precision_scores))\r\n",
        "print(\"Recall 평균 : \", np.mean(recall_scores))\r\n",
        "print(\"F1 평균 : \", np.mean(f1_scores))"
      ],
      "execution_count": 57,
      "outputs": [
        {
          "output_type": "stream",
          "text": [
            "================= 0  Fold =================\n",
            "accuracy_score :  0.5307443365695793\n",
            "precision_macro :  0.30772032593199056\n",
            "recall_macro :  0.30142614986387956\n",
            "f1_macro :  0.30384653861544614\n",
            "================= 1  Fold =================\n",
            "accuracy_score :  0.5364667747163695\n",
            "precision_macro :  0.31286265047016254\n",
            "recall_macro :  0.31241738507387756\n",
            "f1_macro :  0.31218703713890467\n",
            "================= 2  Fold =================\n",
            "accuracy_score :  0.5737439222042139\n",
            "precision_macro :  0.425858905554791\n",
            "recall_macro :  0.36103330480683793\n",
            "f1_macro :  0.37990018866130976\n",
            "================= 3  Fold =================\n",
            "accuracy_score :  0.580226904376013\n",
            "precision_macro :  0.34644956697095736\n",
            "recall_macro :  0.35405185158190355\n",
            "f1_macro :  0.34898909176397647\n",
            "================= 4  Fold =================\n",
            "accuracy_score :  0.5996758508914101\n",
            "precision_macro :  0.3780304629778994\n",
            "recall_macro :  0.39118419417294725\n",
            "f1_macro :  0.38365900394382585\n",
            "\n",
            "Acc 평균 :  0.5641715577515172\n",
            "prec 평균 :  0.3541843823811602\n",
            "Recall 평균 :  0.34402257709988915\n",
            "F1 평균 :  0.3457163720246926\n"
          ],
          "name": "stdout"
        }
      ]
    },
    {
      "cell_type": "code",
      "metadata": {
        "id": "RRsc271wUquF",
        "colab": {
          "base_uri": "https://localhost:8080/"
        },
        "outputId": "e9a77f69-a6de-411b-9f50-cb057e0c7f01"
      },
      "source": [
        "#Random Forest\r\n",
        "from sklearn.ensemble import RandomForestClassifier\r\n",
        "RF = RandomForestClassifier(n_estimators=10)\r\n",
        "RF.fit(X_train, y_train)\r\n",
        "\r\n",
        "from sklearn.metrics import accuracy_score, f1_score, precision_score, recall_score, classification_report\r\n",
        "\r\n",
        "y_pred = RF.predict(X_test)\r\n",
        "\r\n",
        "print(precision_score(y_test, y_pred,average='macro'))\r\n",
        "print(recall_score(y_test, y_pred,average='macro'))\r\n",
        "print(f1_score(y_test, y_pred,average='macro'))\r\n",
        "print(accuracy_score(y_test, y_pred))\r\n",
        "\r\n",
        "\r\n",
        "from sklearn.metrics import confusion_matrix\r\n",
        "print(confusion_matrix(y_test, y_pred))"
      ],
      "execution_count": 58,
      "outputs": [
        {
          "output_type": "stream",
          "text": [
            "0.37853479150465247\n",
            "0.3732398715601357\n",
            "0.37200635920772446\n",
            "0.6499189627228525\n",
            "[[222  29   2  24   0   0]\n",
            " [ 44  55   0  19   0   0]\n",
            " [ 17   4   0  12   0   0]\n",
            " [ 23  19   1 122   1   3]\n",
            " [  2   0   1   9   0   0]\n",
            " [  1   0   0   5   0   2]]\n"
          ],
          "name": "stdout"
        }
      ]
    },
    {
      "cell_type": "code",
      "metadata": {
        "colab": {
          "base_uri": "https://localhost:8080/"
        },
        "id": "JIaq_2KwGzp4",
        "outputId": "76b27b1b-3572-43f5-d41a-6ca63fc2e646"
      },
      "source": [
        "X = features\r\n",
        "y = target.astype(int)\r\n",
        "names = [\"KNN\", \"SVM_Linear\", \"SVM_rbf\", \"DecisionTree\", \"RandomForest\"]\r\n",
        "scoring = {'acc': 'accuracy',\r\n",
        "           'prec_macro': 'precision_macro',\r\n",
        "           'rec_macro': 'recall_macro',\r\n",
        "           'f1_macro' : 'f1_macro'}\r\n",
        "from sklearn.model_selection import StratifiedKFold\r\n",
        "cv = StratifiedKFold(n_splits=5, random_state=0, shuffle=True)\r\n",
        "accuracy_scores = []\r\n",
        "precision_scores = []\r\n",
        "recall_scores = []\r\n",
        "f1_scores = []\r\n",
        "for i, (train, test) in enumerate(cv.split(X, y)):\r\n",
        "    print(\"=================\", str(i) , \" Fold =================\")\r\n",
        "    X_train = X.iloc[train]\r\n",
        "    X_test = X.iloc[test]\r\n",
        "    y_train = y.iloc[train]\r\n",
        "    y_test = y.iloc[test]\r\n",
        "    model = RF\r\n",
        "    model.fit(X_train, y_train)\r\n",
        "    y_pred = RF.predict(X_test)\r\n",
        "    #print(classification_report(y_test,y_pred))\r\n",
        "    print(\"accuracy_score : \", accuracy_score(y_test, y_pred))\r\n",
        "    print(\"precision_macro : \", precision_score(y_test, y_pred,average='macro'))\r\n",
        "    print(\"recall_macro : \",recall_score(y_test, y_pred,average='macro'))\r\n",
        "    print(\"f1_macro : \",f1_score(y_test, y_pred,average='macro'))\r\n",
        "    accuracy_scores.append(accuracy_score(y_test, y_pred))\r\n",
        "    precision_scores.append(precision_score(y_test, y_pred,average='macro'))\r\n",
        "    recall_scores.append(recall_score(y_test, y_pred,average='macro'))\r\n",
        "    f1_scores.append(f1_score(y_test, y_pred,average='macro'))\r\n",
        "print(\"\")\r\n",
        "print(\"Acc 평균 : \", np.mean(accuracy_scores))\r\n",
        "print(\"prec 평균 : \", np.mean(precision_scores))\r\n",
        "print(\"Recall 평균 : \", np.mean(recall_scores))\r\n",
        "print(\"F1 평균 : \", np.mean(f1_scores))"
      ],
      "execution_count": 59,
      "outputs": [
        {
          "output_type": "stream",
          "text": [
            "================= 0  Fold =================\n",
            "accuracy_score :  0.627831715210356\n",
            "precision_macro :  0.40141087034088957\n",
            "recall_macro :  0.35906747231420116\n",
            "f1_macro :  0.368226983281114\n",
            "================= 1  Fold =================\n",
            "accuracy_score :  0.646677471636953\n",
            "precision_macro :  0.3593982285097368\n",
            "recall_macro :  0.33400031543495573\n",
            "f1_macro :  0.33277180796143796\n",
            "================= 2  Fold =================\n",
            "accuracy_score :  0.6515397082658023\n",
            "precision_macro :  0.36504479192651235\n",
            "recall_macro :  0.3514934272620556\n",
            "f1_macro :  0.3506176317489473\n",
            "================= 3  Fold =================\n",
            "accuracy_score :  0.6677471636952999\n",
            "precision_macro :  0.46418955435983306\n",
            "recall_macro :  0.40083454343481123\n",
            "f1_macro :  0.4146067703554109\n",
            "================= 4  Fold =================\n",
            "accuracy_score :  0.653160453808752\n",
            "precision_macro :  0.4295159578380991\n",
            "recall_macro :  0.38410989881450064\n",
            "f1_macro :  0.392783111760939\n",
            "\n",
            "Acc 평균 :  0.6493913025234326\n",
            "prec 평균 :  0.40391188059501415\n",
            "Recall 평균 :  0.3659011314521049\n",
            "F1 평균 :  0.37180126102156985\n"
          ],
          "name": "stdout"
        }
      ]
    },
    {
      "cell_type": "code",
      "metadata": {
        "id": "DxqCFfbWS5Ez",
        "colab": {
          "base_uri": "https://localhost:8080/"
        },
        "outputId": "cbc7602b-ec5a-458a-8d17-3517baf5e0bc"
      },
      "source": [
        "print(recall_score(y_test, y_pred, average='weighted'))\r\n"
      ],
      "execution_count": 60,
      "outputs": [
        {
          "output_type": "stream",
          "text": [
            "0.653160453808752\n"
          ],
          "name": "stdout"
        }
      ]
    },
    {
      "cell_type": "code",
      "metadata": {
        "id": "wbb6yxCYBt7c"
      },
      "source": [
        ""
      ],
      "execution_count": 60,
      "outputs": []
    },
    {
      "cell_type": "code",
      "metadata": {
        "id": "IAq9uJoVy9g4"
      },
      "source": [
        "from lightgbm import LGBMClassifier\r\n",
        "from sklearn.metrics import roc_auc_score\r\n",
        "from sklearn.model_selection import GridSearchCV\r\n",
        "\r\n",
        "lgbm_wrapper = LGBMClassifier(n_estimators=400)\r\n"
      ],
      "execution_count": 61,
      "outputs": []
    },
    {
      "cell_type": "code",
      "metadata": {
        "id": "H1R1fYFp0wuA",
        "colab": {
          "base_uri": "https://localhost:8080/",
          "height": 111
        },
        "outputId": "98520dc3-073b-4813-e77d-d1ccb0830f96"
      },
      "source": [
        "'''\r\n",
        "# df['pT']= pd.to_numeric(df['pT'])\r\n",
        "# df['BRAF']= pd.to_numeric(df['BRAF'])\r\n",
        "# df['N-ras']= pd.to_numeric(df['N-ras'])\r\n",
        "# df['K-ras']= pd.to_numeric(df['K-ras'])\r\n",
        "# df['pTNM']= pd.to_numeric(df['pTNM'])\r\n",
        "# df['pM']= pd.to_numeric(df['pM'])\r\n",
        "# df['Prior_Dx_cancer']= pd.to_numeric(df['Prior_Dx_cancer'])\r\n",
        "# df['ASA']= pd.to_numeric(df['ASA'])\r\n",
        "df['Age']= pd.to_numeric(df['Age'])\r\n",
        "df['Harvested_LN']= pd.to_numeric(df['Harvested_LN'])\r\n",
        "df['Positive_LN']= pd.to_numeric(df['Positive_LN'])\r\n",
        "\r\n",
        "# df['Sex']= pd.to_numeric(df['Sex'])\r\n",
        "df['BMI']= pd.to_numeric(df['BMI'])\r\n",
        "# df['Pulmonary_disease']= pd.to_numeric(df['Pulmonary_disease'])\r\n",
        "# df['Liver_disease']= pd.to_numeric(df['Liver_disease'])\r\n",
        "# df['Kidney_disease']= pd.to_numeric(df['Kidney_disease'])\r\n",
        "'''"
      ],
      "execution_count": 62,
      "outputs": [
        {
          "output_type": "execute_result",
          "data": {
            "application/vnd.google.colaboratory.intrinsic+json": {
              "type": "string"
            },
            "text/plain": [
              "\"\\n# df['pT']= pd.to_numeric(df['pT'])\\n# df['BRAF']= pd.to_numeric(df['BRAF'])\\n# df['N-ras']= pd.to_numeric(df['N-ras'])\\n# df['K-ras']= pd.to_numeric(df['K-ras'])\\n# df['pTNM']= pd.to_numeric(df['pTNM'])\\n# df['pM']= pd.to_numeric(df['pM'])\\n# df['Prior_Dx_cancer']= pd.to_numeric(df['Prior_Dx_cancer'])\\n# df['ASA']= pd.to_numeric(df['ASA'])\\ndf['Age']= pd.to_numeric(df['Age'])\\ndf['Harvested_LN']= pd.to_numeric(df['Harvested_LN'])\\ndf['Positive_LN']= pd.to_numeric(df['Positive_LN'])\\n\\n# df['Sex']= pd.to_numeric(df['Sex'])\\ndf['BMI']= pd.to_numeric(df['BMI'])\\n# df['Pulmonary_disease']= pd.to_numeric(df['Pulmonary_disease'])\\n# df['Liver_disease']= pd.to_numeric(df['Liver_disease'])\\n# df['Kidney_disease']= pd.to_numeric(df['Kidney_disease'])\\n\""
            ]
          },
          "metadata": {
            "tags": []
          },
          "execution_count": 62
        }
      ]
    },
    {
      "cell_type": "code",
      "metadata": {
        "id": "DdUzBIKES6aU"
      },
      "source": [
        "# pd.get_dummies(df, columns = ['Sex', 'ASA', 'Pulmonary_disease','Liver_disease', 'Kidney_disease', 'Prior_Dx_cancer', 'pT', 'pM', 'pTNM', 'K-ras', 'N-ras', 'BRAF', 'LVI', 'PNI','pN'], drop_first = True)"
      ],
      "execution_count": 63,
      "outputs": []
    },
    {
      "cell_type": "code",
      "metadata": {
        "id": "lSDhiQSX1Fof"
      },
      "source": [
        "# from sklearn.model_selection import train_test_split\r\n",
        "# X_train, X_test, y_train, y_test = train_test_split(\r\n",
        "#     features, target, random_state=0\r\n",
        "# )"
      ],
      "execution_count": 64,
      "outputs": []
    },
    {
      "cell_type": "code",
      "metadata": {
        "id": "WUJsSaV_ZTv_"
      },
      "source": [
        "# list(df.columns.values)"
      ],
      "execution_count": 65,
      "outputs": []
    },
    {
      "cell_type": "code",
      "metadata": {
        "id": "pyl5N-2w0wgq",
        "colab": {
          "base_uri": "https://localhost:8080/",
          "height": 148
        },
        "outputId": "84912e39-e7ae-4c86-8195-0daacf206d62"
      },
      "source": [
        "'''\r\n",
        "# https://somjang.tistory.com/entry/LGBMClassifier-ValueError-DataFramedtypes-for-data-must-be-int-float-or-bool-Did-not-expect-the-data-types-in-the-following-fields-%ED%95%B4%EA%B2%B0%EB%B0%A9%EB%B2%95\r\n",
        "target_col = 'Postop_Chemo_Regimen'\r\n",
        "target = df[target_col]\r\n",
        "# features = df[['Age', 'Sex', 'ASA', 'BMI', 'DM_history', 'Pulmonary_disease',\r\n",
        "#         'Liver_disease', 'Kidney_disease', 'Smoking_history',\r\n",
        "#         'Prior_Dx_cancer', 'Hereditary_colorectal_tumor',\r\n",
        "#         'Perforation', 'Obstruction', 'Emergency',\r\n",
        "#         'pT','pM', 'pTNM', 'K-ras', 'N-ras', 'BRAF']]\r\n",
        "\r\n",
        "\r\n",
        "\r\n",
        "features = df[['Age',\r\n",
        " 'Sex',\r\n",
        " 'ASA',\r\n",
        " 'BMI',\r\n",
        " 'Pulmonary_disease',\r\n",
        "#  'Liver_disease',\r\n",
        "#  'Kidney_disease',\r\n",
        " 'Smoking_history',\r\n",
        " 'Prior_Dx_cancer',\r\n",
        " 'pT',\r\n",
        " 'pM',\r\n",
        " 'pTNM',\r\n",
        " 'K-ras',\r\n",
        " 'N-ras',\r\n",
        " 'BRAF',\r\n",
        " 'LVI',\r\n",
        " 'PNI',\r\n",
        " 'pN',\r\n",
        " 'Harvested_LN',\r\n",
        " 'Positive_LN']]\r\n",
        "features = features.astype(int)\r\n",
        "target.value_counts()\r\n",
        "features.value_counts()\r\n",
        "'''\r\n"
      ],
      "execution_count": 66,
      "outputs": [
        {
          "output_type": "execute_result",
          "data": {
            "application/vnd.google.colaboratory.intrinsic+json": {
              "type": "string"
            },
            "text/plain": [
              "\"\\n# https://somjang.tistory.com/entry/LGBMClassifier-ValueError-DataFramedtypes-for-data-must-be-int-float-or-bool-Did-not-expect-the-data-types-in-the-following-fields-%ED%95%B4%EA%B2%B0%EB%B0%A9%EB%B2%95\\ntarget_col = 'Postop_Chemo_Regimen'\\ntarget = df[target_col]\\n# features = df[['Age', 'Sex', 'ASA', 'BMI', 'DM_history', 'Pulmonary_disease',\\n#         'Liver_disease', 'Kidney_disease', 'Smoking_history',\\n#         'Prior_Dx_cancer', 'Hereditary_colorectal_tumor',\\n#         'Perforation', 'Obstruction', 'Emergency',\\n#         'pT','pM', 'pTNM', 'K-ras', 'N-ras', 'BRAF']]\\n\\n\\n\\nfeatures = df[['Age',\\n 'Sex',\\n 'ASA',\\n 'BMI',\\n 'Pulmonary_disease',\\n#  'Liver_disease',\\n#  'Kidney_disease',\\n 'Smoking_history',\\n 'Prior_Dx_cancer',\\n 'pT',\\n 'pM',\\n 'pTNM',\\n 'K-ras',\\n 'N-ras',\\n 'BRAF',\\n 'LVI',\\n 'PNI',\\n 'pN',\\n 'Harvested_LN',\\n 'Positive_LN']]\\nfeatures = features.astype(int)\\ntarget.value_counts()\\nfeatures.value_counts()\\n\""
            ]
          },
          "metadata": {
            "tags": []
          },
          "execution_count": 66
        }
      ]
    },
    {
      "cell_type": "code",
      "metadata": {
        "id": "bvdxib6SwaYZ",
        "colab": {
          "base_uri": "https://localhost:8080/"
        },
        "outputId": "2e48c269-6d1f-4e2a-eecc-7a359859aaa8"
      },
      "source": [
        "features.isnull().sum()"
      ],
      "execution_count": 67,
      "outputs": [
        {
          "output_type": "execute_result",
          "data": {
            "text/plain": [
              "Age                  0\n",
              "Sex                  0\n",
              "ASA                  0\n",
              "BMI                  0\n",
              "DM_history           0\n",
              "Pulmonary_disease    0\n",
              "Smoking_history      0\n",
              "Prior_Dx_cancer      0\n",
              "pT                   0\n",
              "pM                   0\n",
              "pTNM                 0\n",
              "K-ras                0\n",
              "N-ras                0\n",
              "BRAF                 0\n",
              "LVI                  0\n",
              "PNI                  0\n",
              "pN                   0\n",
              "Harvested_LN         0\n",
              "Positive_LN          0\n",
              "dtype: int64"
            ]
          },
          "metadata": {
            "tags": []
          },
          "execution_count": 67
        }
      ]
    },
    {
      "cell_type": "code",
      "metadata": {
        "id": "0NbJMcr3qZJM"
      },
      "source": [
        ""
      ],
      "execution_count": 67,
      "outputs": []
    },
    {
      "cell_type": "code",
      "metadata": {
        "id": "8xXEIGVO0wIs",
        "colab": {
          "base_uri": "https://localhost:8080/"
        },
        "outputId": "9a53013d-ae09-494c-969c-7e47e2c33297"
      },
      "source": [
        "#LGBM\r\n",
        "import lightgbm as lgb\r\n",
        "from sklearn.preprocessing import LabelEncoder\r\n",
        "\r\n",
        "\r\n",
        "for col in X_train.columns:\r\n",
        "  X_train[col] = X_train[col].astype(int)\r\n",
        "y_train = y_train.astype(int)\r\n",
        "\r\n",
        "for col in X_test.columns:\r\n",
        "  X_test[col] = X_test[col].astype(int)\r\n",
        "y_test = y_test.astype(int)\r\n",
        "\r\n",
        "lgbm_wrapper = LGBMClassifier(max_depth=100,\r\n",
        "                              objective='multiclass',\r\n",
        "                              # tweedie_variance_power = 1.1,\r\n",
        "                              # sub_row=0.75,\r\n",
        "                              # lambda_l2 = 0.1,\r\n",
        "                              boosting_type='goss',\r\n",
        "                              learning_rate=0.014,\r\n",
        "                              early_stopping_rounds=100,\r\n",
        "                              max_leaves = 100,\r\n",
        "                              min_data_in_leaf = 2,\r\n",
        "                              n_estimators = 200,\r\n",
        "                              # bagging_fraction = 0.6,\r\n",
        "                              # feature_fraction = 0.7,\r\n",
        "                              # bagging_freq = 1,\r\n",
        "                              # bagging_seed = 2018,\r\n",
        "                              # random_state = 95,\r\n",
        "                              )\r\n",
        "\r\n",
        "\r\n",
        "\r\n",
        "# lgbm_params = {'max_depth' : [300, 600, 1000],\r\n",
        "#                'objective' : ['multiclass'],\r\n",
        "#                'learning_rate' : [0.014, 0.07, 0.009],\r\n",
        "#                'num_iterations' : [100, 500, 1000],\r\n",
        "#                'boosting_type' : ['dart', 'goss'],\r\n",
        "#                'early_stopping_round' : [300],\r\n",
        "#                'n_estimators':[100, 500],\r\n",
        "#                'num_leaves' :[500],}\r\n",
        "# lgbm_wrapper = LGBMClassifier()\r\n",
        "# lgbm_go = GridSearchCV(lgbm_wrapper, param_grid = lgbm_params, cv=3, refit=True)\r\n",
        "# evals = [(X_test, y_test)]\r\n",
        "# lgbm_go.fit(X_train, y_train, eval_metric='multi_logloss',\r\n",
        "#             eval_set=[(X_test, y_test)], \r\n",
        "#             verbose=500)\r\n",
        "\r\n",
        "\r\n",
        "lgbm_wrapper.fit(X_train, y_train,\r\n",
        "                 eval_metric='multi_logloss',\r\n",
        "                 eval_set=[(X_test, y_test)],\r\n",
        "                 verbose=300)\r\n"
      ],
      "execution_count": 68,
      "outputs": [
        {
          "output_type": "stream",
          "text": [
            "Training until validation scores don't improve for 100 rounds.\n",
            "Did not meet early stopping. Best iteration is:\n",
            "[200]\tvalid_0's multi_logloss: 0.919233\tvalid_0's multi_logloss: 0.919233\n"
          ],
          "name": "stdout"
        },
        {
          "output_type": "execute_result",
          "data": {
            "text/plain": [
              "LGBMClassifier(boosting_type='goss', class_weight=None, colsample_bytree=1.0,\n",
              "               early_stopping_rounds=100, importance_type='split',\n",
              "               learning_rate=0.014, max_depth=100, max_leaves=100,\n",
              "               min_child_samples=20, min_child_weight=0.001, min_data_in_leaf=2,\n",
              "               min_split_gain=0.0, n_estimators=200, n_jobs=-1, num_leaves=31,\n",
              "               objective='multiclass', random_state=None, reg_alpha=0.0,\n",
              "               reg_lambda=0.0, silent=True, subsample=1.0,\n",
              "               subsample_for_bin=200000, subsample_freq=0)"
            ]
          },
          "metadata": {
            "tags": []
          },
          "execution_count": 68
        }
      ]
    },
    {
      "cell_type": "code",
      "metadata": {
        "id": "l1yJpjVaxleR"
      },
      "source": [
        ""
      ],
      "execution_count": 68,
      "outputs": []
    },
    {
      "cell_type": "code",
      "metadata": {
        "id": "AjRsVjMsMrwq",
        "colab": {
          "base_uri": "https://localhost:8080/",
          "height": 405
        },
        "outputId": "1d99f0c4-6238-47f0-ce1f-22de783cbbaf"
      },
      "source": [
        "from sklearn.feature_extraction.text import TfidfVectorizer\r\n",
        "\r\n",
        "# def top_n_accuracy(X, y,n,classifier):\r\n",
        "  # X_train, X_test, y_train, y_test = train_test_split(X, y, test_size=0.2)\r\n",
        "vectorizer = TfidfVectorizer(min_df=2)\r\n",
        "vectorizer.fit_transform(X_train)\r\n",
        "  # feature_names = vectorizer.get_feature_names()\r\n",
        "test = vectorizer.transform(X_test)\r\n",
        "  # clf = classifier\r\n",
        "  # clf.fit(X_train_sparse, y_train,\r\n",
        "  #                eval_metric='multi_logloss',\r\n",
        "  #                eval_set=[(X_test, y_test)],\r\n",
        "  #                verbose=300)\r\n",
        "  # # clf.fit(X_train,y_train)\r\n",
        "  # predictions = clf.predict(test)\r\n",
        "probs = lgbm_wrapper.predict_proba(test)\r\n",
        "topn = np.argsort(probs, axis = 1)[:,-n:]\r\n",
        "  # y_true = np.array(y_test)\r\n",
        "  # X_train, X_test, y_train, y_test = train_test_split(X, y, test_size=0.2)\r\n",
        "  # vectorizer = TfidfVectorizer(min_df=2)\r\n",
        "  # X_train_sparse = vectorizer.fit_transform(X_train)\r\n",
        "  # feature_names = vectorizer.get_feature_names()\r\n",
        "  # test = vectorizer.transform(X_test)\r\n",
        "  # clf = classifier\r\n",
        "  # clf.fit(X_train_sparse,y_train)\r\n",
        "  # predictions = clf.predict(test)\r\n",
        "  # probs = clf.predict_proba(test)\r\n",
        "  # topn = np.argsort(probs, axis = 1)[:,-n:]\r\n",
        "y_true = np.array(y_test)\r\n",
        "k = 2\r\n",
        "np.mean(np.array([1 if y_true[k] in topn[k] else 0 for k in range(len(topn))]))\r\n",
        "\r\n",
        "# top2 = top_n_accuracy(features,target, 2, lgbm_wrapper)"
      ],
      "execution_count": 77,
      "outputs": [
        {
          "output_type": "error",
          "ename": "ValueError",
          "evalue": "ignored",
          "traceback": [
            "\u001b[0;31m---------------------------------------------------------------------------\u001b[0m",
            "\u001b[0;31mValueError\u001b[0m                                Traceback (most recent call last)",
            "\u001b[0;32m<ipython-input-77-616bdb7b2d99>\u001b[0m in \u001b[0;36m<module>\u001b[0;34m()\u001b[0m\n\u001b[1;32m     14\u001b[0m   \u001b[0;31m# # clf.fit(X_train,y_train)\u001b[0m\u001b[0;34m\u001b[0m\u001b[0;34m\u001b[0m\u001b[0;34m\u001b[0m\u001b[0m\n\u001b[1;32m     15\u001b[0m   \u001b[0;31m# predictions = clf.predict(test)\u001b[0m\u001b[0;34m\u001b[0m\u001b[0;34m\u001b[0m\u001b[0;34m\u001b[0m\u001b[0m\n\u001b[0;32m---> 16\u001b[0;31m \u001b[0mprobs\u001b[0m \u001b[0;34m=\u001b[0m \u001b[0mlgbm_wrapper\u001b[0m\u001b[0;34m.\u001b[0m\u001b[0mpredict_proba\u001b[0m\u001b[0;34m(\u001b[0m\u001b[0mtest\u001b[0m\u001b[0;34m)\u001b[0m\u001b[0;34m\u001b[0m\u001b[0;34m\u001b[0m\u001b[0m\n\u001b[0m\u001b[1;32m     17\u001b[0m \u001b[0mtopn\u001b[0m \u001b[0;34m=\u001b[0m \u001b[0mnp\u001b[0m\u001b[0;34m.\u001b[0m\u001b[0margsort\u001b[0m\u001b[0;34m(\u001b[0m\u001b[0mprobs\u001b[0m\u001b[0;34m,\u001b[0m \u001b[0maxis\u001b[0m \u001b[0;34m=\u001b[0m \u001b[0;36m1\u001b[0m\u001b[0;34m)\u001b[0m\u001b[0;34m[\u001b[0m\u001b[0;34m:\u001b[0m\u001b[0;34m,\u001b[0m\u001b[0;34m-\u001b[0m\u001b[0mn\u001b[0m\u001b[0;34m:\u001b[0m\u001b[0;34m]\u001b[0m\u001b[0;34m\u001b[0m\u001b[0;34m\u001b[0m\u001b[0m\n\u001b[1;32m     18\u001b[0m   \u001b[0;31m# y_true = np.array(y_test)\u001b[0m\u001b[0;34m\u001b[0m\u001b[0;34m\u001b[0m\u001b[0;34m\u001b[0m\u001b[0m\n",
            "\u001b[0;32m/usr/local/lib/python3.7/dist-packages/lightgbm/sklearn.py\u001b[0m in \u001b[0;36mpredict_proba\u001b[0;34m(self, X, raw_score, num_iteration, pred_leaf, pred_contrib, **kwargs)\u001b[0m\n\u001b[1;32m    798\u001b[0m         \"\"\"\n\u001b[1;32m    799\u001b[0m         result = super(LGBMClassifier, self).predict(X, raw_score, num_iteration,\n\u001b[0;32m--> 800\u001b[0;31m                                                      pred_leaf, pred_contrib, **kwargs)\n\u001b[0m\u001b[1;32m    801\u001b[0m         \u001b[0;32mif\u001b[0m \u001b[0mself\u001b[0m\u001b[0;34m.\u001b[0m\u001b[0m_n_classes\u001b[0m \u001b[0;34m>\u001b[0m \u001b[0;36m2\u001b[0m \u001b[0;32mor\u001b[0m \u001b[0mraw_score\u001b[0m \u001b[0;32mor\u001b[0m \u001b[0mpred_leaf\u001b[0m \u001b[0;32mor\u001b[0m \u001b[0mpred_contrib\u001b[0m\u001b[0;34m:\u001b[0m\u001b[0;34m\u001b[0m\u001b[0;34m\u001b[0m\u001b[0m\n\u001b[1;32m    802\u001b[0m             \u001b[0;32mreturn\u001b[0m \u001b[0mresult\u001b[0m\u001b[0;34m\u001b[0m\u001b[0;34m\u001b[0m\u001b[0m\n",
            "\u001b[0;32m/usr/local/lib/python3.7/dist-packages/lightgbm/sklearn.py\u001b[0m in \u001b[0;36mpredict\u001b[0;34m(self, X, raw_score, num_iteration, pred_leaf, pred_contrib, **kwargs)\u001b[0m\n\u001b[1;32m    603\u001b[0m                              \u001b[0;34m\"match the input. Model n_features_ is %s and \"\u001b[0m\u001b[0;34m\u001b[0m\u001b[0;34m\u001b[0m\u001b[0m\n\u001b[1;32m    604\u001b[0m                              \u001b[0;34m\"input n_features is %s \"\u001b[0m\u001b[0;34m\u001b[0m\u001b[0;34m\u001b[0m\u001b[0m\n\u001b[0;32m--> 605\u001b[0;31m                              % (self._n_features, n_features))\n\u001b[0m\u001b[1;32m    606\u001b[0m         return self.booster_.predict(X, raw_score=raw_score, num_iteration=num_iteration,\n\u001b[1;32m    607\u001b[0m                                      pred_leaf=pred_leaf, pred_contrib=pred_contrib, **kwargs)\n",
            "\u001b[0;31mValueError\u001b[0m: Number of features of the model must match the input. Model n_features_ is 19 and input n_features is 1 "
          ]
        }
      ]
    },
    {
      "cell_type": "code",
      "metadata": {
        "id": "lJFuXYVH9tlp"
      },
      "source": [
        "from sklearn.metrics import accuracy_score, f1_score, precision_score, recall_score, classification_report\r\n",
        "\r\n",
        "# y_pred = lgbm_wrapper.predict(X_test)\r\n",
        "y_pred = lgbm_go.predict(X_test)\r\n",
        "\r\n",
        "print(classification_report(y_test,y_pred))\r\n",
        "\r\n",
        "print(precision_score(y_test, y_pred,average='macro'))\r\n",
        "print(recall_score(y_test, y_pred,average='macro'))\r\n",
        "print(f1_score(y_test, y_pred,average='macro'))\r\n",
        "print(accuracy_score(y_test, y_pred))\r\n",
        "\r\n",
        "from sklearn.metrics import confusion_matrix\r\n",
        "print(confusion_matrix(y_test, y_pred))"
      ],
      "execution_count": null,
      "outputs": []
    },
    {
      "cell_type": "code",
      "metadata": {
        "id": "TkjyEpG8H_1y"
      },
      "source": [
        "X = features\r\n",
        "y = target.astype(int)\r\n",
        "names = [\"KNN\", \"SVM_Linear\", \"SVM_rbf\", \"DecisionTree\", \"RandomForest\"]\r\n",
        "scoring = {'acc': 'accuracy',\r\n",
        "           'prec_macro': 'precision_macro',\r\n",
        "           'rec_macro': 'recall_macro',\r\n",
        "           'f1_macro' : 'f1_macro'}\r\n",
        "from sklearn.model_selection import StratifiedKFold\r\n",
        "cv = StratifiedKFold(n_splits=5, random_state=0, shuffle=True)\r\n",
        "accuracy_scores = []\r\n",
        "precision_scores = []\r\n",
        "recall_scores = []\r\n",
        "f1_scores = []\r\n",
        "for i, (train, test) in enumerate(cv.split(X, y)):\r\n",
        "    print(\"=================\", str(i) , \" Fold =================\")\r\n",
        "    X_train = X.iloc[train]\r\n",
        "    X_test = X.iloc[test]\r\n",
        "    y_train = y.iloc[train]\r\n",
        "    y_test = y.iloc[test]\r\n",
        "    for col in X_train.columns:\r\n",
        "      X_train[col] = X_train[col].astype(int)\r\n",
        "      y_train = y_train.astype(int)\r\n",
        "    for col in X_test.columns:\r\n",
        "      X_test[col] = X_test[col].astype(int)\r\n",
        "      y_test = y_test.astype(int)\r\n",
        "    model = lgbm_wrapper\r\n",
        "    model.fit(X_train, y_train,\r\n",
        "                 eval_metric='multiclass',\r\n",
        "                 eval_set=[(X_test, y_test)],\r\n",
        "                 verbose=250,)\r\n",
        "    y_pred = lgbm_wrapper.predict(X_test)\r\n",
        "    #print(classification_report(y_test,y_pred))\r\n",
        "    print(\"accuracy_score : \", accuracy_score(y_test, y_pred))\r\n",
        "    print(\"precision_macro : \", precision_score(y_test, y_pred,average='macro'))\r\n",
        "    print(\"recall_macro : \",recall_score(y_test, y_pred,average='macro'))\r\n",
        "    print(\"f1_macro : \",f1_score(y_test, y_pred,average='macro'))\r\n",
        "    accuracy_scores.append(accuracy_score(y_test, y_pred))\r\n",
        "    precision_scores.append(precision_score(y_test, y_pred,average='macro'))\r\n",
        "    recall_scores.append(recall_score(y_test, y_pred,average='macro'))\r\n",
        "    f1_scores.append(f1_score(y_test, y_pred,average='macro'))\r\n",
        "print(\"\")\r\n",
        "print(\"Acc 평균 : \", np.mean(accuracy_scores))\r\n",
        "print(\"prec 평균 : \", np.mean(precision_scores))\r\n",
        "print(\"Recall 평균 : \", np.mean(recall_scores))\r\n",
        "print(\"F1 평균 : \", np.mean(f1_scores))"
      ],
      "execution_count": null,
      "outputs": []
    },
    {
      "cell_type": "code",
      "metadata": {
        "id": "ZY55sgnvLwx8"
      },
      "source": [
        ""
      ],
      "execution_count": null,
      "outputs": []
    },
    {
      "cell_type": "code",
      "metadata": {
        "id": "UKMVjzJpQqte"
      },
      "source": [
        "import matplotlib.pyplot as plt\r\n",
        "\r\n",
        "lgbm_result = lgbm_wrapper.fit(X_train, y_train,\r\n",
        "                 eval_metric='multiclass',\r\n",
        "                 eval_set=[(X_test, y_test),(X_train, y_train)],\r\n",
        "                 verbose=100)\r\n",
        "print(classification_report(y_test,y_pred))\r\n",
        "\r\n",
        "\r\n",
        "lgb.plot_metric(lgbm_result,xlim=(0,200))\r\n",
        " "
      ],
      "execution_count": null,
      "outputs": []
    },
    {
      "cell_type": "code",
      "metadata": {
        "id": "33YVzADpLxnC"
      },
      "source": [
        "from matplotlib import pyplot as plt\r\n",
        "from lightgbm import plot_importance\r\n",
        "fig, ax = plt.subplots(figsize=(10,8))\r\n",
        "plot_importance(lgbm_wrapper, ax = ax)"
      ],
      "execution_count": null,
      "outputs": []
    }
  ]
}