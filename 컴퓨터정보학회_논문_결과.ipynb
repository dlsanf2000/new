{
  "nbformat": 4,
  "nbformat_minor": 0,
  "metadata": {
    "colab": {
      "name": "컴퓨터정보학회 논문 결과.ipynb",
      "provenance": [],
      "collapsed_sections": [],
      "authorship_tag": "ABX9TyPn3LsCmJFMknELXsFC0qvi",
      "include_colab_link": true
    },
    "kernelspec": {
      "name": "python3",
      "display_name": "Python 3"
    },
    "accelerator": "GPU"
  },
  "cells": [
    {
      "cell_type": "markdown",
      "metadata": {
        "id": "view-in-github",
        "colab_type": "text"
      },
      "source": [
        "<a href=\"https://colab.research.google.com/github/dlsanf2000/new/blob/master/%EC%BB%B4%ED%93%A8%ED%84%B0%EC%A0%95%EB%B3%B4%ED%95%99%ED%9A%8C_%EB%85%BC%EB%AC%B8_%EA%B2%B0%EA%B3%BC.ipynb\" target=\"_parent\"><img src=\"https://colab.research.google.com/assets/colab-badge.svg\" alt=\"Open In Colab\"/></a>"
      ]
    },
    {
      "cell_type": "code",
      "metadata": {
        "id": "PQAl3uZWzAk3",
        "colab": {
          "base_uri": "https://localhost:8080/"
        },
        "outputId": "6f5a070e-7088-42cf-c280-5a4f2457e57f"
      },
      "source": [
        "import numpy as np\r\n",
        "import pandas as pd\r\n",
        "from sklearn.preprocessing import StandardScaler\r\n",
        "!pip install -U -q PyDrive \r\n",
        "from pydrive.auth import GoogleAuth \r\n",
        "from pydrive.drive import GoogleDrive \r\n",
        "from google.colab import auth\r\n",
        "from oauth2client.client import GoogleCredentials\r\n",
        "from google.colab import drive\r\n",
        "drive.mount('/content/drive/')"
      ],
      "execution_count": 1,
      "outputs": [
        {
          "output_type": "stream",
          "text": [
            "Mounted at /content/drive/\n"
          ],
          "name": "stdout"
        }
      ]
    },
    {
      "cell_type": "code",
      "metadata": {
        "id": "L-o3BkyqzK8f"
      },
      "source": [
        "df_raw = pd.read_excel('/content/drive/MyDrive/Colab Notebooks/real data.xlsx', header = 2)\r\n",
        "df_raw.head()\r\n",
        "df_raw = df_raw.drop([0,1])\r\n",
        "df1 = df_raw[['Age', 'Sex', 'ASA', 'BMI', 'DM_history', 'Pulmonary_disease',\r\n",
        "        'Liver_disease', 'Kidney_disease', 'Smoking_history',\r\n",
        "        'Prior_Dx_cancer','pT','pM', 'pTNM', 'K-ras', 'N-ras', 'BRAF', 'LVI', 'PNI', 'pN', 'Harvested_LN','Positive_LN','Postop_Chemo_Regimen']]\r\n",
        "df = df1.copy()\r\n"
      ],
      "execution_count": 2,
      "outputs": []
    },
    {
      "cell_type": "code",
      "metadata": {
        "id": "8o4Uos_W-Or7",
        "colab": {
          "base_uri": "https://localhost:8080/"
        },
        "outputId": "42180fc6-1c66-4ac5-9ced-0a64c20137a3"
      },
      "source": [
        "# df = df.dropna()\r\n",
        "\r\n",
        "df.isna().sum()"
      ],
      "execution_count": 3,
      "outputs": [
        {
          "output_type": "execute_result",
          "data": {
            "text/plain": [
              "Age                        0\n",
              "Sex                        0\n",
              "ASA                        0\n",
              "BMI                        0\n",
              "DM_history                 0\n",
              "Pulmonary_disease          0\n",
              "Liver_disease              0\n",
              "Kidney_disease             0\n",
              "Smoking_history            0\n",
              "Prior_Dx_cancer            0\n",
              "pT                         8\n",
              "pM                         6\n",
              "pTNM                       8\n",
              "K-ras                      0\n",
              "N-ras                      0\n",
              "BRAF                       0\n",
              "LVI                       48\n",
              "PNI                       46\n",
              "pN                         4\n",
              "Harvested_LN              59\n",
              "Positive_LN               56\n",
              "Postop_Chemo_Regimen    1385\n",
              "dtype: int64"
            ]
          },
          "metadata": {
            "tags": []
          },
          "execution_count": 3
        }
      ]
    },
    {
      "cell_type": "code",
      "metadata": {
        "colab": {
          "base_uri": "https://localhost:8080/"
        },
        "id": "D3rcwlOCcDjy",
        "outputId": "44eb116e-c778-43c4-f3f9-0813fcfebf3f"
      },
      "source": [
        "print(df['LVI'].value_counts())\r\n",
        "df['LVI']=df['LVI'].fillna(32)\r\n",
        "df['LVI'].isna().sum()"
      ],
      "execution_count": 4,
      "outputs": [
        {
          "output_type": "stream",
          "text": [
            "32    1763\n",
            "31    1121\n",
            "11     282\n",
            "4       51\n",
            "12      20\n",
            "21      19\n",
            "42      10\n",
            "41       5\n",
            "22       1\n",
            "3        1\n",
            "Name: LVI, dtype: int64\n"
          ],
          "name": "stdout"
        },
        {
          "output_type": "execute_result",
          "data": {
            "text/plain": [
              "0"
            ]
          },
          "metadata": {
            "tags": []
          },
          "execution_count": 4
        }
      ]
    },
    {
      "cell_type": "code",
      "metadata": {
        "colab": {
          "base_uri": "https://localhost:8080/"
        },
        "id": "8BcWXX2odCmg",
        "outputId": "4c3f5cfd-f047-4d92-ce96-ba37e045b0f4"
      },
      "source": [
        "print(df['PNI'].value_counts())\r\n",
        "df['PNI']=df['PNI'].fillna(2)\r\n",
        "df['PNI'].isna().sum()"
      ],
      "execution_count": 5,
      "outputs": [
        {
          "output_type": "stream",
          "text": [
            "2    2045\n",
            "1     724\n",
            "3     506\n",
            "Name: PNI, dtype: int64\n"
          ],
          "name": "stdout"
        },
        {
          "output_type": "execute_result",
          "data": {
            "text/plain": [
              "0"
            ]
          },
          "metadata": {
            "tags": []
          },
          "execution_count": 5
        }
      ]
    },
    {
      "cell_type": "code",
      "metadata": {
        "colab": {
          "base_uri": "https://localhost:8080/"
        },
        "id": "I0GsRBBldJIR",
        "outputId": "22f98571-cc43-481d-f13f-a2ed3d1e3e0a"
      },
      "source": [
        "print(df['pN'].value_counts())\r\n",
        "df['pN']=df['pN'].fillna(2)\r\n",
        "df['pN'].isna().sum()"
      ],
      "execution_count": 6,
      "outputs": [
        {
          "output_type": "stream",
          "text": [
            "2       1872\n",
            "32       413\n",
            "31       387\n",
            "42       310\n",
            "41       290\n",
            "3         24\n",
            "4         14\n",
            "33         4\n",
            "9999       3\n",
            "Name: pN, dtype: int64\n"
          ],
          "name": "stdout"
        },
        {
          "output_type": "execute_result",
          "data": {
            "text/plain": [
              "0"
            ]
          },
          "metadata": {
            "tags": []
          },
          "execution_count": 6
        }
      ]
    },
    {
      "cell_type": "code",
      "metadata": {
        "colab": {
          "base_uri": "https://localhost:8080/"
        },
        "id": "pogJk_tCdLvs",
        "outputId": "02ae60c4-73e1-46ac-9813-7f6160e05f5a"
      },
      "source": [
        "print(df['Harvested_LN'].value_counts())\r\n",
        "df['Harvested_LN']=df['Harvested_LN'].fillna(df['Harvested_LN'].mean())\r\n",
        "df['Harvested_LN'].isna().sum()"
      ],
      "execution_count": 7,
      "outputs": [
        {
          "output_type": "stream",
          "text": [
            "12    210\n",
            "14    163\n",
            "13    161\n",
            "20    151\n",
            "15    151\n",
            "     ... \n",
            "72      1\n",
            "71      1\n",
            "69      1\n",
            "67      1\n",
            "0       1\n",
            "Name: Harvested_LN, Length: 97, dtype: int64\n"
          ],
          "name": "stdout"
        },
        {
          "output_type": "execute_result",
          "data": {
            "text/plain": [
              "0"
            ]
          },
          "metadata": {
            "tags": []
          },
          "execution_count": 7
        }
      ]
    },
    {
      "cell_type": "code",
      "metadata": {
        "colab": {
          "base_uri": "https://localhost:8080/"
        },
        "id": "p9BVrdYEeCis",
        "outputId": "49f08e8e-9e22-4dc6-a9e7-1bd301b1ee31"
      },
      "source": [
        "print(df['Positive_LN'].value_counts())\r\n",
        "df['Positive_LN']=df['Positive_LN'].fillna(df['Positive_LN'].mean())\r\n",
        "df['Positive_LN'].isna().sum()"
      ],
      "execution_count": 8,
      "outputs": [
        {
          "output_type": "stream",
          "text": [
            "0       1840\n",
            "1        395\n",
            "2        250\n",
            "3        166\n",
            "4        122\n",
            "5        103\n",
            "6         67\n",
            "7         60\n",
            "8         41\n",
            "9         34\n",
            "10        24\n",
            "11        20\n",
            "12        19\n",
            "14        17\n",
            "15        12\n",
            "13         8\n",
            "19         7\n",
            "24         7\n",
            "18         7\n",
            "22         7\n",
            "17         6\n",
            "16         5\n",
            "9999       5\n",
            "20         4\n",
            "28         4\n",
            "32         4\n",
            "21         4\n",
            "23         4\n",
            "33         3\n",
            "46         2\n",
            "36         2\n",
            "27         2\n",
            "26         2\n",
            "25         2\n",
            "88         1\n",
            "34         1\n",
            "31         1\n",
            "29         1\n",
            "39         1\n",
            "40         1\n",
            "54         1\n",
            "64         1\n",
            "72         1\n",
            "35         1\n",
            "Name: Positive_LN, dtype: int64\n"
          ],
          "name": "stdout"
        },
        {
          "output_type": "execute_result",
          "data": {
            "text/plain": [
              "0"
            ]
          },
          "metadata": {
            "tags": []
          },
          "execution_count": 8
        }
      ]
    },
    {
      "cell_type": "code",
      "metadata": {
        "colab": {
          "base_uri": "https://localhost:8080/"
        },
        "id": "KYqTEc91eHmE",
        "outputId": "97183050-f977-45ab-ef33-adc13c1d6f86"
      },
      "source": [
        "df.isna().sum()"
      ],
      "execution_count": 9,
      "outputs": [
        {
          "output_type": "execute_result",
          "data": {
            "text/plain": [
              "Age                        0\n",
              "Sex                        0\n",
              "ASA                        0\n",
              "BMI                        0\n",
              "DM_history                 0\n",
              "Pulmonary_disease          0\n",
              "Liver_disease              0\n",
              "Kidney_disease             0\n",
              "Smoking_history            0\n",
              "Prior_Dx_cancer            0\n",
              "pT                         8\n",
              "pM                         6\n",
              "pTNM                       8\n",
              "K-ras                      0\n",
              "N-ras                      0\n",
              "BRAF                       0\n",
              "LVI                        0\n",
              "PNI                        0\n",
              "pN                         0\n",
              "Harvested_LN               0\n",
              "Positive_LN                0\n",
              "Postop_Chemo_Regimen    1385\n",
              "dtype: int64"
            ]
          },
          "metadata": {
            "tags": []
          },
          "execution_count": 9
        }
      ]
    },
    {
      "cell_type": "code",
      "metadata": {
        "id": "jN_0ZXn9HVt5",
        "colab": {
          "base_uri": "https://localhost:8080/",
          "height": 453
        },
        "outputId": "13affa1c-700e-4132-ab7c-8d98b835ac3f"
      },
      "source": [
        "df"
      ],
      "execution_count": 10,
      "outputs": [
        {
          "output_type": "execute_result",
          "data": {
            "text/html": [
              "<div>\n",
              "<style scoped>\n",
              "    .dataframe tbody tr th:only-of-type {\n",
              "        vertical-align: middle;\n",
              "    }\n",
              "\n",
              "    .dataframe tbody tr th {\n",
              "        vertical-align: top;\n",
              "    }\n",
              "\n",
              "    .dataframe thead th {\n",
              "        text-align: right;\n",
              "    }\n",
              "</style>\n",
              "<table border=\"1\" class=\"dataframe\">\n",
              "  <thead>\n",
              "    <tr style=\"text-align: right;\">\n",
              "      <th></th>\n",
              "      <th>Age</th>\n",
              "      <th>Sex</th>\n",
              "      <th>ASA</th>\n",
              "      <th>BMI</th>\n",
              "      <th>DM_history</th>\n",
              "      <th>Pulmonary_disease</th>\n",
              "      <th>Liver_disease</th>\n",
              "      <th>Kidney_disease</th>\n",
              "      <th>Smoking_history</th>\n",
              "      <th>Prior_Dx_cancer</th>\n",
              "      <th>pT</th>\n",
              "      <th>pM</th>\n",
              "      <th>pTNM</th>\n",
              "      <th>K-ras</th>\n",
              "      <th>N-ras</th>\n",
              "      <th>BRAF</th>\n",
              "      <th>LVI</th>\n",
              "      <th>PNI</th>\n",
              "      <th>pN</th>\n",
              "      <th>Harvested_LN</th>\n",
              "      <th>Positive_LN</th>\n",
              "      <th>Postop_Chemo_Regimen</th>\n",
              "    </tr>\n",
              "  </thead>\n",
              "  <tbody>\n",
              "    <tr>\n",
              "      <th>2</th>\n",
              "      <td>73</td>\n",
              "      <td>2</td>\n",
              "      <td>3</td>\n",
              "      <td>16.25</td>\n",
              "      <td>0</td>\n",
              "      <td>0</td>\n",
              "      <td>0</td>\n",
              "      <td>0</td>\n",
              "      <td>2</td>\n",
              "      <td>0</td>\n",
              "      <td>6</td>\n",
              "      <td>1</td>\n",
              "      <td>32</td>\n",
              "      <td>1</td>\n",
              "      <td>1</td>\n",
              "      <td>1</td>\n",
              "      <td>11</td>\n",
              "      <td>3</td>\n",
              "      <td>31</td>\n",
              "      <td>23.0</td>\n",
              "      <td>1.0</td>\n",
              "      <td>1</td>\n",
              "    </tr>\n",
              "    <tr>\n",
              "      <th>3</th>\n",
              "      <td>63</td>\n",
              "      <td>1</td>\n",
              "      <td>2</td>\n",
              "      <td>23.88</td>\n",
              "      <td>0</td>\n",
              "      <td>0</td>\n",
              "      <td>0</td>\n",
              "      <td>0</td>\n",
              "      <td>2</td>\n",
              "      <td>0</td>\n",
              "      <td>6</td>\n",
              "      <td>1</td>\n",
              "      <td>33</td>\n",
              "      <td>1</td>\n",
              "      <td>1</td>\n",
              "      <td>1</td>\n",
              "      <td>32</td>\n",
              "      <td>3</td>\n",
              "      <td>41</td>\n",
              "      <td>10.0</td>\n",
              "      <td>4.0</td>\n",
              "      <td>NaN</td>\n",
              "    </tr>\n",
              "    <tr>\n",
              "      <th>4</th>\n",
              "      <td>45</td>\n",
              "      <td>2</td>\n",
              "      <td>2</td>\n",
              "      <td>21.83</td>\n",
              "      <td>0</td>\n",
              "      <td>0</td>\n",
              "      <td>0</td>\n",
              "      <td>0</td>\n",
              "      <td>2</td>\n",
              "      <td>0</td>\n",
              "      <td>4</td>\n",
              "      <td>1</td>\n",
              "      <td>1</td>\n",
              "      <td>1</td>\n",
              "      <td>1</td>\n",
              "      <td>1</td>\n",
              "      <td>32</td>\n",
              "      <td>3</td>\n",
              "      <td>2</td>\n",
              "      <td>56.0</td>\n",
              "      <td>0.0</td>\n",
              "      <td>NaN</td>\n",
              "    </tr>\n",
              "    <tr>\n",
              "      <th>5</th>\n",
              "      <td>69</td>\n",
              "      <td>1</td>\n",
              "      <td>3</td>\n",
              "      <td>22.86</td>\n",
              "      <td>1</td>\n",
              "      <td>0</td>\n",
              "      <td>0</td>\n",
              "      <td>0</td>\n",
              "      <td>2</td>\n",
              "      <td>1</td>\n",
              "      <td>6</td>\n",
              "      <td>1</td>\n",
              "      <td>32</td>\n",
              "      <td>1</td>\n",
              "      <td>1</td>\n",
              "      <td>1</td>\n",
              "      <td>32</td>\n",
              "      <td>3</td>\n",
              "      <td>31</td>\n",
              "      <td>33.0</td>\n",
              "      <td>1.0</td>\n",
              "      <td>1</td>\n",
              "    </tr>\n",
              "    <tr>\n",
              "      <th>6</th>\n",
              "      <td>69</td>\n",
              "      <td>1</td>\n",
              "      <td>2</td>\n",
              "      <td>20.81</td>\n",
              "      <td>0</td>\n",
              "      <td>0</td>\n",
              "      <td>0</td>\n",
              "      <td>0</td>\n",
              "      <td>2</td>\n",
              "      <td>0</td>\n",
              "      <td>6</td>\n",
              "      <td>1</td>\n",
              "      <td>32</td>\n",
              "      <td>1</td>\n",
              "      <td>1</td>\n",
              "      <td>1</td>\n",
              "      <td>21</td>\n",
              "      <td>3</td>\n",
              "      <td>31</td>\n",
              "      <td>25.0</td>\n",
              "      <td>1.0</td>\n",
              "      <td>1</td>\n",
              "    </tr>\n",
              "    <tr>\n",
              "      <th>...</th>\n",
              "      <td>...</td>\n",
              "      <td>...</td>\n",
              "      <td>...</td>\n",
              "      <td>...</td>\n",
              "      <td>...</td>\n",
              "      <td>...</td>\n",
              "      <td>...</td>\n",
              "      <td>...</td>\n",
              "      <td>...</td>\n",
              "      <td>...</td>\n",
              "      <td>...</td>\n",
              "      <td>...</td>\n",
              "      <td>...</td>\n",
              "      <td>...</td>\n",
              "      <td>...</td>\n",
              "      <td>...</td>\n",
              "      <td>...</td>\n",
              "      <td>...</td>\n",
              "      <td>...</td>\n",
              "      <td>...</td>\n",
              "      <td>...</td>\n",
              "      <td>...</td>\n",
              "    </tr>\n",
              "    <tr>\n",
              "      <th>3318</th>\n",
              "      <td>77</td>\n",
              "      <td>2</td>\n",
              "      <td>2</td>\n",
              "      <td>23.55</td>\n",
              "      <td>0</td>\n",
              "      <td>0</td>\n",
              "      <td>0</td>\n",
              "      <td>0</td>\n",
              "      <td>0</td>\n",
              "      <td>0</td>\n",
              "      <td>6</td>\n",
              "      <td>1</td>\n",
              "      <td>32</td>\n",
              "      <td>22</td>\n",
              "      <td>1</td>\n",
              "      <td>1</td>\n",
              "      <td>31</td>\n",
              "      <td>1</td>\n",
              "      <td>32</td>\n",
              "      <td>6.0</td>\n",
              "      <td>3.0</td>\n",
              "      <td>3</td>\n",
              "    </tr>\n",
              "    <tr>\n",
              "      <th>3319</th>\n",
              "      <td>77</td>\n",
              "      <td>2</td>\n",
              "      <td>2</td>\n",
              "      <td>21.7</td>\n",
              "      <td>0</td>\n",
              "      <td>0</td>\n",
              "      <td>0</td>\n",
              "      <td>0</td>\n",
              "      <td>0</td>\n",
              "      <td>0</td>\n",
              "      <td>6</td>\n",
              "      <td>21</td>\n",
              "      <td>41</td>\n",
              "      <td>1</td>\n",
              "      <td>22</td>\n",
              "      <td>1</td>\n",
              "      <td>31</td>\n",
              "      <td>1</td>\n",
              "      <td>2</td>\n",
              "      <td>39.0</td>\n",
              "      <td>0.0</td>\n",
              "      <td>3</td>\n",
              "    </tr>\n",
              "    <tr>\n",
              "      <th>3320</th>\n",
              "      <td>66</td>\n",
              "      <td>1</td>\n",
              "      <td>2</td>\n",
              "      <td>31.81</td>\n",
              "      <td>1</td>\n",
              "      <td>0</td>\n",
              "      <td>0</td>\n",
              "      <td>1</td>\n",
              "      <td>1</td>\n",
              "      <td>0</td>\n",
              "      <td>6</td>\n",
              "      <td>21</td>\n",
              "      <td>41</td>\n",
              "      <td>1</td>\n",
              "      <td>1</td>\n",
              "      <td>1</td>\n",
              "      <td>31</td>\n",
              "      <td>1</td>\n",
              "      <td>42</td>\n",
              "      <td>15.0</td>\n",
              "      <td>7.0</td>\n",
              "      <td>3 + 7</td>\n",
              "    </tr>\n",
              "    <tr>\n",
              "      <th>3321</th>\n",
              "      <td>69</td>\n",
              "      <td>2</td>\n",
              "      <td>2</td>\n",
              "      <td>26.77</td>\n",
              "      <td>1</td>\n",
              "      <td>0</td>\n",
              "      <td>0</td>\n",
              "      <td>0</td>\n",
              "      <td>0</td>\n",
              "      <td>0</td>\n",
              "      <td>6</td>\n",
              "      <td>1</td>\n",
              "      <td>21</td>\n",
              "      <td>22</td>\n",
              "      <td>1</td>\n",
              "      <td>1</td>\n",
              "      <td>31</td>\n",
              "      <td>1</td>\n",
              "      <td>2</td>\n",
              "      <td>16.0</td>\n",
              "      <td>0.0</td>\n",
              "      <td>NaN</td>\n",
              "    </tr>\n",
              "    <tr>\n",
              "      <th>3322</th>\n",
              "      <td>61</td>\n",
              "      <td>1</td>\n",
              "      <td>3</td>\n",
              "      <td>23.71</td>\n",
              "      <td>1</td>\n",
              "      <td>0</td>\n",
              "      <td>0</td>\n",
              "      <td>0</td>\n",
              "      <td>1</td>\n",
              "      <td>0</td>\n",
              "      <td>71</td>\n",
              "      <td>22</td>\n",
              "      <td>42</td>\n",
              "      <td>22</td>\n",
              "      <td>1</td>\n",
              "      <td>1</td>\n",
              "      <td>31</td>\n",
              "      <td>1</td>\n",
              "      <td>42</td>\n",
              "      <td>20.0</td>\n",
              "      <td>19.0</td>\n",
              "      <td>NaN</td>\n",
              "    </tr>\n",
              "  </tbody>\n",
              "</table>\n",
              "<p>3321 rows × 22 columns</p>\n",
              "</div>"
            ],
            "text/plain": [
              "     Age Sex ASA    BMI  ...  pN Harvested_LN Positive_LN Postop_Chemo_Regimen\n",
              "2     73   2   3  16.25  ...  31         23.0         1.0                    1\n",
              "3     63   1   2  23.88  ...  41         10.0         4.0                  NaN\n",
              "4     45   2   2  21.83  ...   2         56.0         0.0                  NaN\n",
              "5     69   1   3  22.86  ...  31         33.0         1.0                    1\n",
              "6     69   1   2  20.81  ...  31         25.0         1.0                    1\n",
              "...   ..  ..  ..    ...  ...  ..          ...         ...                  ...\n",
              "3318  77   2   2  23.55  ...  32          6.0         3.0                    3\n",
              "3319  77   2   2   21.7  ...   2         39.0         0.0                    3\n",
              "3320  66   1   2  31.81  ...  42         15.0         7.0                3 + 7\n",
              "3321  69   2   2  26.77  ...   2         16.0         0.0                  NaN\n",
              "3322  61   1   3  23.71  ...  42         20.0        19.0                  NaN\n",
              "\n",
              "[3321 rows x 22 columns]"
            ]
          },
          "metadata": {
            "tags": []
          },
          "execution_count": 10
        }
      ]
    },
    {
      "cell_type": "code",
      "metadata": {
        "colab": {
          "base_uri": "https://localhost:8080/"
        },
        "id": "VYoezwfoikqu",
        "outputId": "b7b1fed6-4407-4afa-f366-a4a9aa645100"
      },
      "source": [
        "df['Postop_Chemo_Regimen']=df['Postop_Chemo_Regimen'].fillna(0)\r\n",
        "df['Postop_Chemo_Regimen'].isna().sum()"
      ],
      "execution_count": 11,
      "outputs": [
        {
          "output_type": "execute_result",
          "data": {
            "text/plain": [
              "0"
            ]
          },
          "metadata": {
            "tags": []
          },
          "execution_count": 11
        }
      ]
    },
    {
      "cell_type": "code",
      "metadata": {
        "colab": {
          "base_uri": "https://localhost:8080/"
        },
        "id": "14Una6B0gBGl",
        "outputId": "7c7c980c-6782-4221-a608-b94395464c47"
      },
      "source": [
        "print(df['Postop_Chemo_Regimen'].value_counts())"
      ],
      "execution_count": 12,
      "outputs": [
        {
          "output_type": "stream",
          "text": [
            "0                   1385\n",
            "3                    846\n",
            "1                    593\n",
            "2                    162\n",
            "5 + 7                 66\n",
            "4                     57\n",
            "8                     53\n",
            "5 + 6                 49\n",
            "5                     43\n",
            "3 + 7                 34\n",
            "3 + 6                 13\n",
            "8 (D-F cap)            7\n",
            "2 + 8                  4\n",
            "3+7                    3\n",
            "8(UFT)                 1\n",
            "5+7                    1\n",
            "1 + 8(MMC)             1\n",
            "8 (Teroful)            1\n",
            "7                      1\n",
            "8 (Helixor only)       1\n",
            "Name: Postop_Chemo_Regimen, dtype: int64\n"
          ],
          "name": "stdout"
        }
      ]
    },
    {
      "cell_type": "code",
      "metadata": {
        "id": "vCAAk4I8x0Ip",
        "colab": {
          "base_uri": "https://localhost:8080/",
          "height": 453
        },
        "outputId": "f4a59274-b83e-4da6-dc0c-47ac0938d3ee"
      },
      "source": [
        "df = df[df['Postop_Chemo_Regimen'] != '5 + 7']\r\n",
        "df = df[df['Postop_Chemo_Regimen'] != '5 + 6']\r\n",
        "df = df[df['Postop_Chemo_Regimen'] != '8']\r\n",
        "df = df[df['Postop_Chemo_Regimen'] != '3 + 7']\r\n",
        "df = df[df['Postop_Chemo_Regimen'] != '3 + 6']\r\n",
        "df = df[df['Postop_Chemo_Regimen'] != '8 (D-F cap)']\r\n",
        "df = df[df['Postop_Chemo_Regimen'] != '2 + 8']\r\n",
        "df = df[df['Postop_Chemo_Regimen'] != '3+7']\r\n",
        "df = df[df['Postop_Chemo_Regimen'] != '1 + 8(MMC)']\r\n",
        "df = df[df['Postop_Chemo_Regimen'] != '8 (Teroful)']\r\n",
        "df = df[df['Postop_Chemo_Regimen'] != '8(UFT)']\r\n",
        "df = df[df['Postop_Chemo_Regimen'] != '8 (Helixor only)']\r\n",
        "df = df[df['Postop_Chemo_Regimen'] != 7]\r\n",
        "df = df[df['Postop_Chemo_Regimen'] != 8]\r\n",
        "\r\n",
        "df = df[df['Postop_Chemo_Regimen'] != '5+7']\r\n",
        "df"
      ],
      "execution_count": 13,
      "outputs": [
        {
          "output_type": "execute_result",
          "data": {
            "text/html": [
              "<div>\n",
              "<style scoped>\n",
              "    .dataframe tbody tr th:only-of-type {\n",
              "        vertical-align: middle;\n",
              "    }\n",
              "\n",
              "    .dataframe tbody tr th {\n",
              "        vertical-align: top;\n",
              "    }\n",
              "\n",
              "    .dataframe thead th {\n",
              "        text-align: right;\n",
              "    }\n",
              "</style>\n",
              "<table border=\"1\" class=\"dataframe\">\n",
              "  <thead>\n",
              "    <tr style=\"text-align: right;\">\n",
              "      <th></th>\n",
              "      <th>Age</th>\n",
              "      <th>Sex</th>\n",
              "      <th>ASA</th>\n",
              "      <th>BMI</th>\n",
              "      <th>DM_history</th>\n",
              "      <th>Pulmonary_disease</th>\n",
              "      <th>Liver_disease</th>\n",
              "      <th>Kidney_disease</th>\n",
              "      <th>Smoking_history</th>\n",
              "      <th>Prior_Dx_cancer</th>\n",
              "      <th>pT</th>\n",
              "      <th>pM</th>\n",
              "      <th>pTNM</th>\n",
              "      <th>K-ras</th>\n",
              "      <th>N-ras</th>\n",
              "      <th>BRAF</th>\n",
              "      <th>LVI</th>\n",
              "      <th>PNI</th>\n",
              "      <th>pN</th>\n",
              "      <th>Harvested_LN</th>\n",
              "      <th>Positive_LN</th>\n",
              "      <th>Postop_Chemo_Regimen</th>\n",
              "    </tr>\n",
              "  </thead>\n",
              "  <tbody>\n",
              "    <tr>\n",
              "      <th>2</th>\n",
              "      <td>73</td>\n",
              "      <td>2</td>\n",
              "      <td>3</td>\n",
              "      <td>16.25</td>\n",
              "      <td>0</td>\n",
              "      <td>0</td>\n",
              "      <td>0</td>\n",
              "      <td>0</td>\n",
              "      <td>2</td>\n",
              "      <td>0</td>\n",
              "      <td>6</td>\n",
              "      <td>1</td>\n",
              "      <td>32</td>\n",
              "      <td>1</td>\n",
              "      <td>1</td>\n",
              "      <td>1</td>\n",
              "      <td>11</td>\n",
              "      <td>3</td>\n",
              "      <td>31</td>\n",
              "      <td>23.0</td>\n",
              "      <td>1.0</td>\n",
              "      <td>1</td>\n",
              "    </tr>\n",
              "    <tr>\n",
              "      <th>3</th>\n",
              "      <td>63</td>\n",
              "      <td>1</td>\n",
              "      <td>2</td>\n",
              "      <td>23.88</td>\n",
              "      <td>0</td>\n",
              "      <td>0</td>\n",
              "      <td>0</td>\n",
              "      <td>0</td>\n",
              "      <td>2</td>\n",
              "      <td>0</td>\n",
              "      <td>6</td>\n",
              "      <td>1</td>\n",
              "      <td>33</td>\n",
              "      <td>1</td>\n",
              "      <td>1</td>\n",
              "      <td>1</td>\n",
              "      <td>32</td>\n",
              "      <td>3</td>\n",
              "      <td>41</td>\n",
              "      <td>10.0</td>\n",
              "      <td>4.0</td>\n",
              "      <td>0</td>\n",
              "    </tr>\n",
              "    <tr>\n",
              "      <th>4</th>\n",
              "      <td>45</td>\n",
              "      <td>2</td>\n",
              "      <td>2</td>\n",
              "      <td>21.83</td>\n",
              "      <td>0</td>\n",
              "      <td>0</td>\n",
              "      <td>0</td>\n",
              "      <td>0</td>\n",
              "      <td>2</td>\n",
              "      <td>0</td>\n",
              "      <td>4</td>\n",
              "      <td>1</td>\n",
              "      <td>1</td>\n",
              "      <td>1</td>\n",
              "      <td>1</td>\n",
              "      <td>1</td>\n",
              "      <td>32</td>\n",
              "      <td>3</td>\n",
              "      <td>2</td>\n",
              "      <td>56.0</td>\n",
              "      <td>0.0</td>\n",
              "      <td>0</td>\n",
              "    </tr>\n",
              "    <tr>\n",
              "      <th>5</th>\n",
              "      <td>69</td>\n",
              "      <td>1</td>\n",
              "      <td>3</td>\n",
              "      <td>22.86</td>\n",
              "      <td>1</td>\n",
              "      <td>0</td>\n",
              "      <td>0</td>\n",
              "      <td>0</td>\n",
              "      <td>2</td>\n",
              "      <td>1</td>\n",
              "      <td>6</td>\n",
              "      <td>1</td>\n",
              "      <td>32</td>\n",
              "      <td>1</td>\n",
              "      <td>1</td>\n",
              "      <td>1</td>\n",
              "      <td>32</td>\n",
              "      <td>3</td>\n",
              "      <td>31</td>\n",
              "      <td>33.0</td>\n",
              "      <td>1.0</td>\n",
              "      <td>1</td>\n",
              "    </tr>\n",
              "    <tr>\n",
              "      <th>6</th>\n",
              "      <td>69</td>\n",
              "      <td>1</td>\n",
              "      <td>2</td>\n",
              "      <td>20.81</td>\n",
              "      <td>0</td>\n",
              "      <td>0</td>\n",
              "      <td>0</td>\n",
              "      <td>0</td>\n",
              "      <td>2</td>\n",
              "      <td>0</td>\n",
              "      <td>6</td>\n",
              "      <td>1</td>\n",
              "      <td>32</td>\n",
              "      <td>1</td>\n",
              "      <td>1</td>\n",
              "      <td>1</td>\n",
              "      <td>21</td>\n",
              "      <td>3</td>\n",
              "      <td>31</td>\n",
              "      <td>25.0</td>\n",
              "      <td>1.0</td>\n",
              "      <td>1</td>\n",
              "    </tr>\n",
              "    <tr>\n",
              "      <th>...</th>\n",
              "      <td>...</td>\n",
              "      <td>...</td>\n",
              "      <td>...</td>\n",
              "      <td>...</td>\n",
              "      <td>...</td>\n",
              "      <td>...</td>\n",
              "      <td>...</td>\n",
              "      <td>...</td>\n",
              "      <td>...</td>\n",
              "      <td>...</td>\n",
              "      <td>...</td>\n",
              "      <td>...</td>\n",
              "      <td>...</td>\n",
              "      <td>...</td>\n",
              "      <td>...</td>\n",
              "      <td>...</td>\n",
              "      <td>...</td>\n",
              "      <td>...</td>\n",
              "      <td>...</td>\n",
              "      <td>...</td>\n",
              "      <td>...</td>\n",
              "      <td>...</td>\n",
              "    </tr>\n",
              "    <tr>\n",
              "      <th>3317</th>\n",
              "      <td>75</td>\n",
              "      <td>1</td>\n",
              "      <td>2</td>\n",
              "      <td>18.52</td>\n",
              "      <td>0</td>\n",
              "      <td>1</td>\n",
              "      <td>0</td>\n",
              "      <td>0</td>\n",
              "      <td>0</td>\n",
              "      <td>0</td>\n",
              "      <td>71</td>\n",
              "      <td>23</td>\n",
              "      <td>43</td>\n",
              "      <td>22</td>\n",
              "      <td>1</td>\n",
              "      <td>1</td>\n",
              "      <td>31</td>\n",
              "      <td>2</td>\n",
              "      <td>42</td>\n",
              "      <td>40.0</td>\n",
              "      <td>28.0</td>\n",
              "      <td>0</td>\n",
              "    </tr>\n",
              "    <tr>\n",
              "      <th>3318</th>\n",
              "      <td>77</td>\n",
              "      <td>2</td>\n",
              "      <td>2</td>\n",
              "      <td>23.55</td>\n",
              "      <td>0</td>\n",
              "      <td>0</td>\n",
              "      <td>0</td>\n",
              "      <td>0</td>\n",
              "      <td>0</td>\n",
              "      <td>0</td>\n",
              "      <td>6</td>\n",
              "      <td>1</td>\n",
              "      <td>32</td>\n",
              "      <td>22</td>\n",
              "      <td>1</td>\n",
              "      <td>1</td>\n",
              "      <td>31</td>\n",
              "      <td>1</td>\n",
              "      <td>32</td>\n",
              "      <td>6.0</td>\n",
              "      <td>3.0</td>\n",
              "      <td>3</td>\n",
              "    </tr>\n",
              "    <tr>\n",
              "      <th>3319</th>\n",
              "      <td>77</td>\n",
              "      <td>2</td>\n",
              "      <td>2</td>\n",
              "      <td>21.7</td>\n",
              "      <td>0</td>\n",
              "      <td>0</td>\n",
              "      <td>0</td>\n",
              "      <td>0</td>\n",
              "      <td>0</td>\n",
              "      <td>0</td>\n",
              "      <td>6</td>\n",
              "      <td>21</td>\n",
              "      <td>41</td>\n",
              "      <td>1</td>\n",
              "      <td>22</td>\n",
              "      <td>1</td>\n",
              "      <td>31</td>\n",
              "      <td>1</td>\n",
              "      <td>2</td>\n",
              "      <td>39.0</td>\n",
              "      <td>0.0</td>\n",
              "      <td>3</td>\n",
              "    </tr>\n",
              "    <tr>\n",
              "      <th>3321</th>\n",
              "      <td>69</td>\n",
              "      <td>2</td>\n",
              "      <td>2</td>\n",
              "      <td>26.77</td>\n",
              "      <td>1</td>\n",
              "      <td>0</td>\n",
              "      <td>0</td>\n",
              "      <td>0</td>\n",
              "      <td>0</td>\n",
              "      <td>0</td>\n",
              "      <td>6</td>\n",
              "      <td>1</td>\n",
              "      <td>21</td>\n",
              "      <td>22</td>\n",
              "      <td>1</td>\n",
              "      <td>1</td>\n",
              "      <td>31</td>\n",
              "      <td>1</td>\n",
              "      <td>2</td>\n",
              "      <td>16.0</td>\n",
              "      <td>0.0</td>\n",
              "      <td>0</td>\n",
              "    </tr>\n",
              "    <tr>\n",
              "      <th>3322</th>\n",
              "      <td>61</td>\n",
              "      <td>1</td>\n",
              "      <td>3</td>\n",
              "      <td>23.71</td>\n",
              "      <td>1</td>\n",
              "      <td>0</td>\n",
              "      <td>0</td>\n",
              "      <td>0</td>\n",
              "      <td>1</td>\n",
              "      <td>0</td>\n",
              "      <td>71</td>\n",
              "      <td>22</td>\n",
              "      <td>42</td>\n",
              "      <td>22</td>\n",
              "      <td>1</td>\n",
              "      <td>1</td>\n",
              "      <td>31</td>\n",
              "      <td>1</td>\n",
              "      <td>42</td>\n",
              "      <td>20.0</td>\n",
              "      <td>19.0</td>\n",
              "      <td>0</td>\n",
              "    </tr>\n",
              "  </tbody>\n",
              "</table>\n",
              "<p>3086 rows × 22 columns</p>\n",
              "</div>"
            ],
            "text/plain": [
              "     Age Sex ASA    BMI  ...  pN Harvested_LN Positive_LN Postop_Chemo_Regimen\n",
              "2     73   2   3  16.25  ...  31         23.0         1.0                    1\n",
              "3     63   1   2  23.88  ...  41         10.0         4.0                    0\n",
              "4     45   2   2  21.83  ...   2         56.0         0.0                    0\n",
              "5     69   1   3  22.86  ...  31         33.0         1.0                    1\n",
              "6     69   1   2  20.81  ...  31         25.0         1.0                    1\n",
              "...   ..  ..  ..    ...  ...  ..          ...         ...                  ...\n",
              "3317  75   1   2  18.52  ...  42         40.0        28.0                    0\n",
              "3318  77   2   2  23.55  ...  32          6.0         3.0                    3\n",
              "3319  77   2   2   21.7  ...   2         39.0         0.0                    3\n",
              "3321  69   2   2  26.77  ...   2         16.0         0.0                    0\n",
              "3322  61   1   3  23.71  ...  42         20.0        19.0                    0\n",
              "\n",
              "[3086 rows x 22 columns]"
            ]
          },
          "metadata": {
            "tags": []
          },
          "execution_count": 13
        }
      ]
    },
    {
      "cell_type": "code",
      "metadata": {
        "colab": {
          "base_uri": "https://localhost:8080/"
        },
        "id": "BtTMy0CKi3xe",
        "outputId": "86f21505-10ba-408c-90e3-dcab360850f9"
      },
      "source": [
        "print(df['Postop_Chemo_Regimen'].value_counts())"
      ],
      "execution_count": 14,
      "outputs": [
        {
          "output_type": "stream",
          "text": [
            "0    1385\n",
            "3     846\n",
            "1     593\n",
            "2     162\n",
            "4      57\n",
            "5      43\n",
            "Name: Postop_Chemo_Regimen, dtype: int64\n"
          ],
          "name": "stdout"
        }
      ]
    },
    {
      "cell_type": "code",
      "metadata": {
        "colab": {
          "base_uri": "https://localhost:8080/"
        },
        "id": "eusjX7Ykj7sG",
        "outputId": "030a2333-2ade-4fd5-da56-26109539b913"
      },
      "source": [
        "print(df['pT'].value_counts())\r\n",
        "df['pT']=df['pT'].fillna(6)\r\n",
        "df['pT'].isna().sum()"
      ],
      "execution_count": 15,
      "outputs": [
        {
          "output_type": "stream",
          "text": [
            "6     1779\n",
            "5      469\n",
            "4      354\n",
            "71     244\n",
            "72     124\n",
            "3       54\n",
            "2       42\n",
            "7       11\n",
            "1        1\n",
            "Name: pT, dtype: int64\n"
          ],
          "name": "stdout"
        },
        {
          "output_type": "execute_result",
          "data": {
            "text/plain": [
              "0"
            ]
          },
          "metadata": {
            "tags": []
          },
          "execution_count": 15
        }
      ]
    },
    {
      "cell_type": "code",
      "metadata": {
        "colab": {
          "base_uri": "https://localhost:8080/"
        },
        "id": "KqbqkD8hkHLN",
        "outputId": "8e3cd996-6ddf-4730-981c-5b76f1d49eb4"
      },
      "source": [
        "print(df['pM'].value_counts())\r\n",
        "df['pM']=df['pM'].fillna(1)\r\n",
        "df['pM'].isna().sum()"
      ],
      "execution_count": 16,
      "outputs": [
        {
          "output_type": "stream",
          "text": [
            "1     2807\n",
            "21     204\n",
            "22      52\n",
            "2       15\n",
            "42       1\n",
            "23       1\n",
            "Name: pM, dtype: int64\n"
          ],
          "name": "stdout"
        },
        {
          "output_type": "execute_result",
          "data": {
            "text/plain": [
              "0"
            ]
          },
          "metadata": {
            "tags": []
          },
          "execution_count": 16
        }
      ]
    },
    {
      "cell_type": "code",
      "metadata": {
        "colab": {
          "base_uri": "https://localhost:8080/"
        },
        "id": "eYnPN5L-kQqL",
        "outputId": "d77ecbfb-18f0-4826-9f8b-b7c373a2945f"
      },
      "source": [
        "print(df['pTNM'].value_counts())\r\n",
        "df['pTNM']=df['pTNM'].fillna(21)\r\n",
        "df['pTNM'].isna().sum()"
      ],
      "execution_count": 17,
      "outputs": [
        {
          "output_type": "stream",
          "text": [
            "21    861\n",
            "1     681\n",
            "32    646\n",
            "33    293\n",
            "4     167\n",
            "31    115\n",
            "0      91\n",
            "22     79\n",
            "41     71\n",
            "42     39\n",
            "23     31\n",
            "2       2\n",
            "43      1\n",
            "3       1\n",
            "Name: pTNM, dtype: int64\n"
          ],
          "name": "stdout"
        },
        {
          "output_type": "execute_result",
          "data": {
            "text/plain": [
              "0"
            ]
          },
          "metadata": {
            "tags": []
          },
          "execution_count": 17
        }
      ]
    },
    {
      "cell_type": "code",
      "metadata": {
        "id": "kBWJoAHSzNCc",
        "colab": {
          "base_uri": "https://localhost:8080/"
        },
        "outputId": "097f62ab-17f3-4118-f4c5-bbab207f0e48"
      },
      "source": [
        "df.isnull().sum()"
      ],
      "execution_count": 18,
      "outputs": [
        {
          "output_type": "execute_result",
          "data": {
            "text/plain": [
              "Age                     0\n",
              "Sex                     0\n",
              "ASA                     0\n",
              "BMI                     0\n",
              "DM_history              0\n",
              "Pulmonary_disease       0\n",
              "Liver_disease           0\n",
              "Kidney_disease          0\n",
              "Smoking_history         0\n",
              "Prior_Dx_cancer         0\n",
              "pT                      0\n",
              "pM                      0\n",
              "pTNM                    0\n",
              "K-ras                   0\n",
              "N-ras                   0\n",
              "BRAF                    0\n",
              "LVI                     0\n",
              "PNI                     0\n",
              "pN                      0\n",
              "Harvested_LN            0\n",
              "Positive_LN             0\n",
              "Postop_Chemo_Regimen    0\n",
              "dtype: int64"
            ]
          },
          "metadata": {
            "tags": []
          },
          "execution_count": 18
        }
      ]
    },
    {
      "cell_type": "code",
      "metadata": {
        "id": "eY4VJ1wUytHh",
        "colab": {
          "base_uri": "https://localhost:8080/"
        },
        "outputId": "4ff7adc3-ed62-43bf-c5af-31d5ab1ea39d"
      },
      "source": [
        "from scipy import stats\r\n",
        "corr = stats.pointbiserialr(df['Age'], df['Postop_Chemo_Regimen'])\r\n",
        "corr"
      ],
      "execution_count": 19,
      "outputs": [
        {
          "output_type": "execute_result",
          "data": {
            "text/plain": [
              "PointbiserialrResult(correlation=-0.24952860726160803, pvalue=5.08189704914789e-45)"
            ]
          },
          "metadata": {
            "tags": []
          },
          "execution_count": 19
        }
      ]
    },
    {
      "cell_type": "code",
      "metadata": {
        "colab": {
          "base_uri": "https://localhost:8080/"
        },
        "id": "PikM22Wmcxww",
        "outputId": "93581f0a-df48-4ee2-c20b-4e290ef9e61b"
      },
      "source": [
        "corr = stats.pointbiserialr(df['BMI'], df['Postop_Chemo_Regimen'])\r\n",
        "corr"
      ],
      "execution_count": 20,
      "outputs": [
        {
          "output_type": "execute_result",
          "data": {
            "text/plain": [
              "PointbiserialrResult(correlation=0.012023915191846098, pvalue=0.5043229448947895)"
            ]
          },
          "metadata": {
            "tags": []
          },
          "execution_count": 20
        }
      ]
    },
    {
      "cell_type": "code",
      "metadata": {
        "colab": {
          "base_uri": "https://localhost:8080/"
        },
        "id": "gz0XrFpVc8yV",
        "outputId": "0ac2bb02-b3f7-4c0f-eee0-17673569c258"
      },
      "source": [
        "corr = stats.pointbiserialr(df['Harvested_LN'], df['Postop_Chemo_Regimen'])\r\n",
        "corr"
      ],
      "execution_count": 21,
      "outputs": [
        {
          "output_type": "execute_result",
          "data": {
            "text/plain": [
              "PointbiserialrResult(correlation=-0.005927263211354275, pvalue=0.7420502481140275)"
            ]
          },
          "metadata": {
            "tags": []
          },
          "execution_count": 21
        }
      ]
    },
    {
      "cell_type": "code",
      "metadata": {
        "colab": {
          "base_uri": "https://localhost:8080/"
        },
        "id": "dxXKewC-dCbc",
        "outputId": "0bf60398-dea4-4d6a-e0b3-80825ccbe4dd"
      },
      "source": [
        "corr = stats.pointbiserialr(df['Positive_LN'], df['Postop_Chemo_Regimen'])\r\n",
        "corr"
      ],
      "execution_count": 22,
      "outputs": [
        {
          "output_type": "execute_result",
          "data": {
            "text/plain": [
              "PointbiserialrResult(correlation=-0.00949123487469133, pvalue=0.5981566223857933)"
            ]
          },
          "metadata": {
            "tags": []
          },
          "execution_count": 22
        }
      ]
    },
    {
      "cell_type": "code",
      "metadata": {
        "colab": {
          "base_uri": "https://localhost:8080/"
        },
        "id": "ZJtiWV4iIMcp",
        "outputId": "b7ed5389-d27e-4f0b-edb8-e8ccb0b32648"
      },
      "source": [
        "from scipy.stats import chi2_contingency\r\n",
        "chi = chi2_contingency(pd.crosstab(df['ASA'],df['Postop_Chemo_Regimen']))\r\n",
        "print('Chi2 Statistic: {}, p-value: {}'.format(chi[0], chi[1]))"
      ],
      "execution_count": 23,
      "outputs": [
        {
          "output_type": "stream",
          "text": [
            "Chi2 Statistic: 77.95861918626396, p-value: 8.69475632913345e-09\n"
          ],
          "name": "stdout"
        }
      ]
    },
    {
      "cell_type": "code",
      "metadata": {
        "colab": {
          "base_uri": "https://localhost:8080/"
        },
        "id": "fFWgrffldIOi",
        "outputId": "6d038992-333b-47a3-c1cb-5fa53c2287f7"
      },
      "source": [
        "chi = chi2_contingency(pd.crosstab(df['Sex'],df['Postop_Chemo_Regimen']))\r\n",
        "print('Chi2 Statistic: {}, p-value: {}'.format(chi[0], chi[1]))"
      ],
      "execution_count": 24,
      "outputs": [
        {
          "output_type": "stream",
          "text": [
            "Chi2 Statistic: 16.835237007373454, p-value: 0.0048231103592514795\n"
          ],
          "name": "stdout"
        }
      ]
    },
    {
      "cell_type": "code",
      "metadata": {
        "colab": {
          "base_uri": "https://localhost:8080/"
        },
        "id": "Z5jhp976IntI",
        "outputId": "b08365e3-b484-4e0e-ea40-fee9042bafc2"
      },
      "source": [
        "chi = chi2_contingency(pd.crosstab(df['DM_history'],df['Postop_Chemo_Regimen']))\r\n",
        "print('Chi2 Statistic: {}, p-value: {}'.format(chi[0], chi[1]))"
      ],
      "execution_count": 25,
      "outputs": [
        {
          "output_type": "stream",
          "text": [
            "Chi2 Statistic: 22.34348322729227, p-value: 0.00045044163155467525\n"
          ],
          "name": "stdout"
        }
      ]
    },
    {
      "cell_type": "code",
      "metadata": {
        "colab": {
          "base_uri": "https://localhost:8080/"
        },
        "id": "KT0HlNEpIuey",
        "outputId": "2632d89f-59f8-4a33-bfa7-f62bc1c4fa0c"
      },
      "source": [
        "chi = chi2_contingency(pd.crosstab(df['Pulmonary_disease'],df['Postop_Chemo_Regimen']))\r\n",
        "print('Chi2 Statistic: {}, p-value: {}'.format(chi[0], chi[1]))"
      ],
      "execution_count": 26,
      "outputs": [
        {
          "output_type": "stream",
          "text": [
            "Chi2 Statistic: 13.511012916489411, p-value: 0.019032815410021556\n"
          ],
          "name": "stdout"
        }
      ]
    },
    {
      "cell_type": "code",
      "metadata": {
        "colab": {
          "base_uri": "https://localhost:8080/"
        },
        "id": "zSlxVDN9IxS9",
        "outputId": "764efd79-5118-496b-a953-7cc3bac7c3b4"
      },
      "source": [
        "chi = chi2_contingency(pd.crosstab(df['Liver_disease'],df['Postop_Chemo_Regimen']))\r\n",
        "print('Chi2 Statistic: {}, p-value: {}'.format(chi[0], chi[1]))"
      ],
      "execution_count": 27,
      "outputs": [
        {
          "output_type": "stream",
          "text": [
            "Chi2 Statistic: 5.873778706885569, p-value: 0.31869522655634414\n"
          ],
          "name": "stdout"
        }
      ]
    },
    {
      "cell_type": "code",
      "metadata": {
        "colab": {
          "base_uri": "https://localhost:8080/"
        },
        "id": "ZEoVzcE8I1VS",
        "outputId": "aeef5201-1683-4034-bf61-9631f73d8c20"
      },
      "source": [
        "chi = chi2_contingency(pd.crosstab(df['Kidney_disease'],df['Postop_Chemo_Regimen']))\r\n",
        "print('Chi2 Statistic: {}, p-value: {}'.format(chi[0], chi[1]))"
      ],
      "execution_count": 28,
      "outputs": [
        {
          "output_type": "stream",
          "text": [
            "Chi2 Statistic: 17.398021926838805, p-value: 0.06600779363906797\n"
          ],
          "name": "stdout"
        }
      ]
    },
    {
      "cell_type": "code",
      "metadata": {
        "colab": {
          "base_uri": "https://localhost:8080/"
        },
        "id": "ws6IssZmI36z",
        "outputId": "426df6bb-8d27-4419-b53a-9bdcaee06cdc"
      },
      "source": [
        "chi = chi2_contingency(pd.crosstab(df['Smoking_history'],df['Postop_Chemo_Regimen']))\r\n",
        "print('Chi2 Statistic: {}, p-value: {}'.format(chi[0], chi[1]))"
      ],
      "execution_count": 29,
      "outputs": [
        {
          "output_type": "stream",
          "text": [
            "Chi2 Statistic: 236.7288948264025, p-value: 3.330023294853697e-45\n"
          ],
          "name": "stdout"
        }
      ]
    },
    {
      "cell_type": "code",
      "metadata": {
        "colab": {
          "base_uri": "https://localhost:8080/"
        },
        "id": "57Qd2yq4I7D4",
        "outputId": "b3dac0ab-e89f-4b17-b8ae-23c0d4e07bc9"
      },
      "source": [
        "chi = chi2_contingency(pd.crosstab(df['Prior_Dx_cancer'],df['Postop_Chemo_Regimen']))\r\n",
        "print('Chi2 Statistic: {}, p-value: {}'.format(chi[0], chi[1]))"
      ],
      "execution_count": 30,
      "outputs": [
        {
          "output_type": "stream",
          "text": [
            "Chi2 Statistic: 231.13434126506115, p-value: 4.967103696902852e-44\n"
          ],
          "name": "stdout"
        }
      ]
    },
    {
      "cell_type": "code",
      "metadata": {
        "colab": {
          "base_uri": "https://localhost:8080/"
        },
        "id": "mK1sD3XUI9oj",
        "outputId": "ee56783a-8d56-4d06-90b3-8569826e03fd"
      },
      "source": [
        "chi = chi2_contingency(pd.crosstab(df['pT'],df['Postop_Chemo_Regimen']))\r\n",
        "print('Chi2 Statistic: {}, p-value: {}'.format(chi[0], chi[1]))"
      ],
      "execution_count": 31,
      "outputs": [
        {
          "output_type": "stream",
          "text": [
            "Chi2 Statistic: 731.8940770234074, p-value: 5.177967322233318e-128\n"
          ],
          "name": "stdout"
        }
      ]
    },
    {
      "cell_type": "code",
      "metadata": {
        "colab": {
          "base_uri": "https://localhost:8080/"
        },
        "id": "fBBeOIR0JDjM",
        "outputId": "64f26675-0cac-435a-c3d1-c0991afff54c"
      },
      "source": [
        "chi = chi2_contingency(pd.crosstab(df['pM'],df['Postop_Chemo_Regimen']))\r\n",
        "print('Chi2 Statistic: {}, p-value: {}'.format(chi[0], chi[1]))"
      ],
      "execution_count": 32,
      "outputs": [
        {
          "output_type": "stream",
          "text": [
            "Chi2 Statistic: 812.4060555973874, p-value: 2.9176275572949e-155\n"
          ],
          "name": "stdout"
        }
      ]
    },
    {
      "cell_type": "code",
      "metadata": {
        "colab": {
          "base_uri": "https://localhost:8080/"
        },
        "id": "CTi76yCDJFEl",
        "outputId": "2232daa8-5b18-4905-9216-00308fbd2556"
      },
      "source": [
        "chi = chi2_contingency(pd.crosstab(df['pTNM'],df['Postop_Chemo_Regimen']))\r\n",
        "print('Chi2 Statistic: {}, p-value: {}'.format(chi[0], chi[1]))"
      ],
      "execution_count": 33,
      "outputs": [
        {
          "output_type": "stream",
          "text": [
            "Chi2 Statistic: 1901.7706005298114, p-value: 0.0\n"
          ],
          "name": "stdout"
        }
      ]
    },
    {
      "cell_type": "code",
      "metadata": {
        "colab": {
          "base_uri": "https://localhost:8080/"
        },
        "id": "W6FUbtSAJHzC",
        "outputId": "6d51b53b-d0ab-44f7-e909-dfdc6331b70e"
      },
      "source": [
        "chi = chi2_contingency(pd.crosstab(df['K-ras'],df['Postop_Chemo_Regimen']))\r\n",
        "print('Chi2 Statistic: {}, p-value: {}'.format(chi[0], chi[1]))"
      ],
      "execution_count": 34,
      "outputs": [
        {
          "output_type": "stream",
          "text": [
            "Chi2 Statistic: 247.81546560456712, p-value: 1.5626806013091122e-47\n"
          ],
          "name": "stdout"
        }
      ]
    },
    {
      "cell_type": "code",
      "metadata": {
        "colab": {
          "base_uri": "https://localhost:8080/"
        },
        "id": "78LRDScDJRkP",
        "outputId": "fde08578-6818-4715-d586-0a99f85f3edc"
      },
      "source": [
        "chi = chi2_contingency(pd.crosstab(df['N-ras'],df['Postop_Chemo_Regimen']))\r\n",
        "print('Chi2 Statistic: {}, p-value: {}'.format(chi[0], chi[1]))"
      ],
      "execution_count": 35,
      "outputs": [
        {
          "output_type": "stream",
          "text": [
            "Chi2 Statistic: 112.42712430901472, p-value: 1.7272653313340734e-19\n"
          ],
          "name": "stdout"
        }
      ]
    },
    {
      "cell_type": "code",
      "metadata": {
        "colab": {
          "base_uri": "https://localhost:8080/"
        },
        "id": "7vywudssJXax",
        "outputId": "5b220ece-a110-486d-8e41-ed0b88ad7cb6"
      },
      "source": [
        "chi = chi2_contingency(pd.crosstab(df['BRAF'],df['Postop_Chemo_Regimen']))\r\n",
        "print('Chi2 Statistic: {}, p-value: {}'.format(chi[0], chi[1]))"
      ],
      "execution_count": 36,
      "outputs": [
        {
          "output_type": "stream",
          "text": [
            "Chi2 Statistic: 90.7384344721815, p-value: 3.822548056130917e-15\n"
          ],
          "name": "stdout"
        }
      ]
    },
    {
      "cell_type": "code",
      "metadata": {
        "colab": {
          "base_uri": "https://localhost:8080/"
        },
        "id": "VUiS81rbJZUv",
        "outputId": "3a76e6ae-4396-4fb0-ba69-270862081e9f"
      },
      "source": [
        "chi = chi2_contingency(pd.crosstab(df['LVI'],df['Postop_Chemo_Regimen']))\r\n",
        "print('Chi2 Statistic: {}, p-value: {}'.format(chi[0], chi[1]))"
      ],
      "execution_count": 37,
      "outputs": [
        {
          "output_type": "stream",
          "text": [
            "Chi2 Statistic: 582.499360463843, p-value: 1.411457147179848e-94\n"
          ],
          "name": "stdout"
        }
      ]
    },
    {
      "cell_type": "code",
      "metadata": {
        "colab": {
          "base_uri": "https://localhost:8080/"
        },
        "id": "yMyGBvIbbhrG",
        "outputId": "966ee566-bf56-4a02-9d7a-13af585b272b"
      },
      "source": [
        "chi = chi2_contingency(pd.crosstab(df['PNI'],df['Postop_Chemo_Regimen']))\r\n",
        "print('Chi2 Statistic: {}, p-value: {}'.format(chi[0], chi[1]))"
      ],
      "execution_count": 38,
      "outputs": [
        {
          "output_type": "stream",
          "text": [
            "Chi2 Statistic: 419.1558738673677, p-value: 7.851593724452786e-84\n"
          ],
          "name": "stdout"
        }
      ]
    },
    {
      "cell_type": "code",
      "metadata": {
        "colab": {
          "base_uri": "https://localhost:8080/"
        },
        "id": "7wa2P1j2boko",
        "outputId": "3997d417-1c07-467a-d5ac-8d67acda0ef5"
      },
      "source": [
        "chi = chi2_contingency(pd.crosstab(df['pN'],df['Postop_Chemo_Regimen']))\r\n",
        "print('Chi2 Statistic: {}, p-value: {}'.format(chi[0], chi[1]))"
      ],
      "execution_count": 39,
      "outputs": [
        {
          "output_type": "stream",
          "text": [
            "Chi2 Statistic: 858.0239594604764, p-value: 4.304402986582509e-154\n"
          ],
          "name": "stdout"
        }
      ]
    },
    {
      "cell_type": "code",
      "metadata": {
        "colab": {
          "base_uri": "https://localhost:8080/"
        },
        "id": "lslWkCacck8D",
        "outputId": "7d71e579-3968-45a6-81ea-46e79bd1fcad"
      },
      "source": [
        "chi = chi2_contingency(pd.crosstab(df['BRAF'],df['Postop_Chemo_Regimen']))\r\n",
        "print('Chi2 Statistic: {}, p-value: {}'.format(chi[0], chi[1]))"
      ],
      "execution_count": 40,
      "outputs": [
        {
          "output_type": "stream",
          "text": [
            "Chi2 Statistic: 90.7384344721815, p-value: 3.822548056130917e-15\n"
          ],
          "name": "stdout"
        }
      ]
    },
    {
      "cell_type": "code",
      "metadata": {
        "id": "QJbRnKjPJIoS",
        "colab": {
          "base_uri": "https://localhost:8080/"
        },
        "outputId": "803178e4-58f6-4f18-d303-57a36ed710cf"
      },
      "source": [
        "target_col = 'Postop_Chemo_Regimen'\r\n",
        "target = df[target_col]\r\n",
        "# features = df[['Age', 'Sex', 'ASA', 'BMI', 'DM_history', 'Pulmonary_disease',\r\n",
        "#         'Liver_disease', 'Kidney_disease', 'Smoking_history',\r\n",
        "#         'Prior_Dx_cancer', 'Hereditary_colorectal_tumor',\r\n",
        "#         'Perforation', 'Obstruction', 'Emergency',\r\n",
        "#         'pT','pM', 'pTNM', 'K-ras', 'N-ras', 'BRAF']]\r\n",
        "# features = df[['Age', 'Sex', 'ASA', 'BMI', 'DM_history', 'Pulmonary_disease',\r\n",
        "#         'Liver_disease', 'Kidney_disease', 'Smoking_history',\r\n",
        "#         'Prior_Dx_cancer','pT','pM', 'pTNM', 'K-ras', 'N-ras', 'BRAF', 'LVI', 'PNI', 'pN', 'Harvested_LN','Positive_LN']]\r\n",
        "\r\n",
        "features = df[['Age', 'Sex', 'ASA', 'BMI', 'DM_history', 'Pulmonary_disease','Smoking_history',\r\n",
        "        'Prior_Dx_cancer','pT','pM', 'pTNM', 'K-ras', 'N-ras', 'BRAF', 'LVI', 'PNI', 'pN', 'Harvested_LN','Positive_LN']]\r\n",
        "target.value_counts()\r\n",
        "features.value_counts()"
      ],
      "execution_count": 41,
      "outputs": [
        {
          "output_type": "execute_result",
          "data": {
            "text/plain": [
              "Age  Sex  ASA   BMI    DM_history  Pulmonary_disease  Smoking_history  Prior_Dx_cancer  pT  pM  pTNM  K-ras  N-ras  BRAF  LVI  PNI  pN  Harvested_LN  Positive_LN\n",
              "93   1    3     19.14  0           0                  0                2                5   1   1     1      1      1     32   2    2   15.000000     0.000000       1\n",
              "58   1    2     22.37  0           0                  1                2                71  22  42    21     1      1     31   1    41  52.000000     4.000000       1\n",
              "     2    9999  24.97  0           0                  0                2                4   1   1     22     21     21    32   2    2   16.000000     0.000000       1\n",
              "                22.27  0           0                  1                2                6   1   32    21     1      1     31   1    32  14.000000     3.000000       1\n",
              "          3     24.54  0           0                  0                2                5   1   1     22     21     21    32   2    2   6.000000      0.000000       1\n",
              "                                                                                                                                                                    ..\n",
              "70   1    3     26.61  1           0                  2                0                4   1   1     1      1      1     32   2    2   6.000000      0.000000       1\n",
              "                26.43  1           0                  2                0                5   1   1     1      1      1     32   2    2   37.251686     17.525574      1\n",
              "                24.30  1           0                  1                2                71  1   33    21     1      1     31   2    42  20.000000     14.000000      1\n",
              "                22.50  1           0                  1                2                4   1   1     21     21     21    31   2    2   14.000000     0.000000       1\n",
              "13   2    2     13.54  0           0                  2                0                71  1   32    21     1      1     31   1    32  86.000000     2.000000       1\n",
              "Length: 3086, dtype: int64"
            ]
          },
          "metadata": {
            "tags": []
          },
          "execution_count": 41
        }
      ]
    },
    {
      "cell_type": "code",
      "metadata": {
        "id": "_N7pupcUxyfg"
      },
      "source": [
        ""
      ],
      "execution_count": 41,
      "outputs": []
    },
    {
      "cell_type": "code",
      "metadata": {
        "id": "Vdu3CxfaVHi_",
        "colab": {
          "base_uri": "https://localhost:8080/"
        },
        "outputId": "3b68babb-5740-4061-963a-749557ea5e35"
      },
      "source": [
        "features.isnull().sum()"
      ],
      "execution_count": 42,
      "outputs": [
        {
          "output_type": "execute_result",
          "data": {
            "text/plain": [
              "Age                  0\n",
              "Sex                  0\n",
              "ASA                  0\n",
              "BMI                  0\n",
              "DM_history           0\n",
              "Pulmonary_disease    0\n",
              "Smoking_history      0\n",
              "Prior_Dx_cancer      0\n",
              "pT                   0\n",
              "pM                   0\n",
              "pTNM                 0\n",
              "K-ras                0\n",
              "N-ras                0\n",
              "BRAF                 0\n",
              "LVI                  0\n",
              "PNI                  0\n",
              "pN                   0\n",
              "Harvested_LN         0\n",
              "Positive_LN          0\n",
              "dtype: int64"
            ]
          },
          "metadata": {
            "tags": []
          },
          "execution_count": 42
        }
      ]
    },
    {
      "cell_type": "code",
      "metadata": {
        "id": "8DctmKAT_MDc",
        "colab": {
          "base_uri": "https://localhost:8080/",
          "height": 453
        },
        "outputId": "b1d51d91-5c48-4a8b-fb82-a32a5a6fcb33"
      },
      "source": [
        "df"
      ],
      "execution_count": 43,
      "outputs": [
        {
          "output_type": "execute_result",
          "data": {
            "text/html": [
              "<div>\n",
              "<style scoped>\n",
              "    .dataframe tbody tr th:only-of-type {\n",
              "        vertical-align: middle;\n",
              "    }\n",
              "\n",
              "    .dataframe tbody tr th {\n",
              "        vertical-align: top;\n",
              "    }\n",
              "\n",
              "    .dataframe thead th {\n",
              "        text-align: right;\n",
              "    }\n",
              "</style>\n",
              "<table border=\"1\" class=\"dataframe\">\n",
              "  <thead>\n",
              "    <tr style=\"text-align: right;\">\n",
              "      <th></th>\n",
              "      <th>Age</th>\n",
              "      <th>Sex</th>\n",
              "      <th>ASA</th>\n",
              "      <th>BMI</th>\n",
              "      <th>DM_history</th>\n",
              "      <th>Pulmonary_disease</th>\n",
              "      <th>Liver_disease</th>\n",
              "      <th>Kidney_disease</th>\n",
              "      <th>Smoking_history</th>\n",
              "      <th>Prior_Dx_cancer</th>\n",
              "      <th>pT</th>\n",
              "      <th>pM</th>\n",
              "      <th>pTNM</th>\n",
              "      <th>K-ras</th>\n",
              "      <th>N-ras</th>\n",
              "      <th>BRAF</th>\n",
              "      <th>LVI</th>\n",
              "      <th>PNI</th>\n",
              "      <th>pN</th>\n",
              "      <th>Harvested_LN</th>\n",
              "      <th>Positive_LN</th>\n",
              "      <th>Postop_Chemo_Regimen</th>\n",
              "    </tr>\n",
              "  </thead>\n",
              "  <tbody>\n",
              "    <tr>\n",
              "      <th>2</th>\n",
              "      <td>73</td>\n",
              "      <td>2</td>\n",
              "      <td>3</td>\n",
              "      <td>16.25</td>\n",
              "      <td>0</td>\n",
              "      <td>0</td>\n",
              "      <td>0</td>\n",
              "      <td>0</td>\n",
              "      <td>2</td>\n",
              "      <td>0</td>\n",
              "      <td>6</td>\n",
              "      <td>1</td>\n",
              "      <td>32</td>\n",
              "      <td>1</td>\n",
              "      <td>1</td>\n",
              "      <td>1</td>\n",
              "      <td>11</td>\n",
              "      <td>3</td>\n",
              "      <td>31</td>\n",
              "      <td>23.0</td>\n",
              "      <td>1.0</td>\n",
              "      <td>1</td>\n",
              "    </tr>\n",
              "    <tr>\n",
              "      <th>3</th>\n",
              "      <td>63</td>\n",
              "      <td>1</td>\n",
              "      <td>2</td>\n",
              "      <td>23.88</td>\n",
              "      <td>0</td>\n",
              "      <td>0</td>\n",
              "      <td>0</td>\n",
              "      <td>0</td>\n",
              "      <td>2</td>\n",
              "      <td>0</td>\n",
              "      <td>6</td>\n",
              "      <td>1</td>\n",
              "      <td>33</td>\n",
              "      <td>1</td>\n",
              "      <td>1</td>\n",
              "      <td>1</td>\n",
              "      <td>32</td>\n",
              "      <td>3</td>\n",
              "      <td>41</td>\n",
              "      <td>10.0</td>\n",
              "      <td>4.0</td>\n",
              "      <td>0</td>\n",
              "    </tr>\n",
              "    <tr>\n",
              "      <th>4</th>\n",
              "      <td>45</td>\n",
              "      <td>2</td>\n",
              "      <td>2</td>\n",
              "      <td>21.83</td>\n",
              "      <td>0</td>\n",
              "      <td>0</td>\n",
              "      <td>0</td>\n",
              "      <td>0</td>\n",
              "      <td>2</td>\n",
              "      <td>0</td>\n",
              "      <td>4</td>\n",
              "      <td>1</td>\n",
              "      <td>1</td>\n",
              "      <td>1</td>\n",
              "      <td>1</td>\n",
              "      <td>1</td>\n",
              "      <td>32</td>\n",
              "      <td>3</td>\n",
              "      <td>2</td>\n",
              "      <td>56.0</td>\n",
              "      <td>0.0</td>\n",
              "      <td>0</td>\n",
              "    </tr>\n",
              "    <tr>\n",
              "      <th>5</th>\n",
              "      <td>69</td>\n",
              "      <td>1</td>\n",
              "      <td>3</td>\n",
              "      <td>22.86</td>\n",
              "      <td>1</td>\n",
              "      <td>0</td>\n",
              "      <td>0</td>\n",
              "      <td>0</td>\n",
              "      <td>2</td>\n",
              "      <td>1</td>\n",
              "      <td>6</td>\n",
              "      <td>1</td>\n",
              "      <td>32</td>\n",
              "      <td>1</td>\n",
              "      <td>1</td>\n",
              "      <td>1</td>\n",
              "      <td>32</td>\n",
              "      <td>3</td>\n",
              "      <td>31</td>\n",
              "      <td>33.0</td>\n",
              "      <td>1.0</td>\n",
              "      <td>1</td>\n",
              "    </tr>\n",
              "    <tr>\n",
              "      <th>6</th>\n",
              "      <td>69</td>\n",
              "      <td>1</td>\n",
              "      <td>2</td>\n",
              "      <td>20.81</td>\n",
              "      <td>0</td>\n",
              "      <td>0</td>\n",
              "      <td>0</td>\n",
              "      <td>0</td>\n",
              "      <td>2</td>\n",
              "      <td>0</td>\n",
              "      <td>6</td>\n",
              "      <td>1</td>\n",
              "      <td>32</td>\n",
              "      <td>1</td>\n",
              "      <td>1</td>\n",
              "      <td>1</td>\n",
              "      <td>21</td>\n",
              "      <td>3</td>\n",
              "      <td>31</td>\n",
              "      <td>25.0</td>\n",
              "      <td>1.0</td>\n",
              "      <td>1</td>\n",
              "    </tr>\n",
              "    <tr>\n",
              "      <th>...</th>\n",
              "      <td>...</td>\n",
              "      <td>...</td>\n",
              "      <td>...</td>\n",
              "      <td>...</td>\n",
              "      <td>...</td>\n",
              "      <td>...</td>\n",
              "      <td>...</td>\n",
              "      <td>...</td>\n",
              "      <td>...</td>\n",
              "      <td>...</td>\n",
              "      <td>...</td>\n",
              "      <td>...</td>\n",
              "      <td>...</td>\n",
              "      <td>...</td>\n",
              "      <td>...</td>\n",
              "      <td>...</td>\n",
              "      <td>...</td>\n",
              "      <td>...</td>\n",
              "      <td>...</td>\n",
              "      <td>...</td>\n",
              "      <td>...</td>\n",
              "      <td>...</td>\n",
              "    </tr>\n",
              "    <tr>\n",
              "      <th>3317</th>\n",
              "      <td>75</td>\n",
              "      <td>1</td>\n",
              "      <td>2</td>\n",
              "      <td>18.52</td>\n",
              "      <td>0</td>\n",
              "      <td>1</td>\n",
              "      <td>0</td>\n",
              "      <td>0</td>\n",
              "      <td>0</td>\n",
              "      <td>0</td>\n",
              "      <td>71</td>\n",
              "      <td>23</td>\n",
              "      <td>43</td>\n",
              "      <td>22</td>\n",
              "      <td>1</td>\n",
              "      <td>1</td>\n",
              "      <td>31</td>\n",
              "      <td>2</td>\n",
              "      <td>42</td>\n",
              "      <td>40.0</td>\n",
              "      <td>28.0</td>\n",
              "      <td>0</td>\n",
              "    </tr>\n",
              "    <tr>\n",
              "      <th>3318</th>\n",
              "      <td>77</td>\n",
              "      <td>2</td>\n",
              "      <td>2</td>\n",
              "      <td>23.55</td>\n",
              "      <td>0</td>\n",
              "      <td>0</td>\n",
              "      <td>0</td>\n",
              "      <td>0</td>\n",
              "      <td>0</td>\n",
              "      <td>0</td>\n",
              "      <td>6</td>\n",
              "      <td>1</td>\n",
              "      <td>32</td>\n",
              "      <td>22</td>\n",
              "      <td>1</td>\n",
              "      <td>1</td>\n",
              "      <td>31</td>\n",
              "      <td>1</td>\n",
              "      <td>32</td>\n",
              "      <td>6.0</td>\n",
              "      <td>3.0</td>\n",
              "      <td>3</td>\n",
              "    </tr>\n",
              "    <tr>\n",
              "      <th>3319</th>\n",
              "      <td>77</td>\n",
              "      <td>2</td>\n",
              "      <td>2</td>\n",
              "      <td>21.7</td>\n",
              "      <td>0</td>\n",
              "      <td>0</td>\n",
              "      <td>0</td>\n",
              "      <td>0</td>\n",
              "      <td>0</td>\n",
              "      <td>0</td>\n",
              "      <td>6</td>\n",
              "      <td>21</td>\n",
              "      <td>41</td>\n",
              "      <td>1</td>\n",
              "      <td>22</td>\n",
              "      <td>1</td>\n",
              "      <td>31</td>\n",
              "      <td>1</td>\n",
              "      <td>2</td>\n",
              "      <td>39.0</td>\n",
              "      <td>0.0</td>\n",
              "      <td>3</td>\n",
              "    </tr>\n",
              "    <tr>\n",
              "      <th>3321</th>\n",
              "      <td>69</td>\n",
              "      <td>2</td>\n",
              "      <td>2</td>\n",
              "      <td>26.77</td>\n",
              "      <td>1</td>\n",
              "      <td>0</td>\n",
              "      <td>0</td>\n",
              "      <td>0</td>\n",
              "      <td>0</td>\n",
              "      <td>0</td>\n",
              "      <td>6</td>\n",
              "      <td>1</td>\n",
              "      <td>21</td>\n",
              "      <td>22</td>\n",
              "      <td>1</td>\n",
              "      <td>1</td>\n",
              "      <td>31</td>\n",
              "      <td>1</td>\n",
              "      <td>2</td>\n",
              "      <td>16.0</td>\n",
              "      <td>0.0</td>\n",
              "      <td>0</td>\n",
              "    </tr>\n",
              "    <tr>\n",
              "      <th>3322</th>\n",
              "      <td>61</td>\n",
              "      <td>1</td>\n",
              "      <td>3</td>\n",
              "      <td>23.71</td>\n",
              "      <td>1</td>\n",
              "      <td>0</td>\n",
              "      <td>0</td>\n",
              "      <td>0</td>\n",
              "      <td>1</td>\n",
              "      <td>0</td>\n",
              "      <td>71</td>\n",
              "      <td>22</td>\n",
              "      <td>42</td>\n",
              "      <td>22</td>\n",
              "      <td>1</td>\n",
              "      <td>1</td>\n",
              "      <td>31</td>\n",
              "      <td>1</td>\n",
              "      <td>42</td>\n",
              "      <td>20.0</td>\n",
              "      <td>19.0</td>\n",
              "      <td>0</td>\n",
              "    </tr>\n",
              "  </tbody>\n",
              "</table>\n",
              "<p>3086 rows × 22 columns</p>\n",
              "</div>"
            ],
            "text/plain": [
              "     Age Sex ASA    BMI  ...  pN Harvested_LN Positive_LN Postop_Chemo_Regimen\n",
              "2     73   2   3  16.25  ...  31         23.0         1.0                    1\n",
              "3     63   1   2  23.88  ...  41         10.0         4.0                    0\n",
              "4     45   2   2  21.83  ...   2         56.0         0.0                    0\n",
              "5     69   1   3  22.86  ...  31         33.0         1.0                    1\n",
              "6     69   1   2  20.81  ...  31         25.0         1.0                    1\n",
              "...   ..  ..  ..    ...  ...  ..          ...         ...                  ...\n",
              "3317  75   1   2  18.52  ...  42         40.0        28.0                    0\n",
              "3318  77   2   2  23.55  ...  32          6.0         3.0                    3\n",
              "3319  77   2   2   21.7  ...   2         39.0         0.0                    3\n",
              "3321  69   2   2  26.77  ...   2         16.0         0.0                    0\n",
              "3322  61   1   3  23.71  ...  42         20.0        19.0                    0\n",
              "\n",
              "[3086 rows x 22 columns]"
            ]
          },
          "metadata": {
            "tags": []
          },
          "execution_count": 43
        }
      ]
    },
    {
      "cell_type": "code",
      "metadata": {
        "id": "xhH9D-ec_Qrn",
        "colab": {
          "base_uri": "https://localhost:8080/",
          "height": 453
        },
        "outputId": "2aa243ec-9f9f-4c31-d0ba-dbd9e312788a"
      },
      "source": [
        "features"
      ],
      "execution_count": 44,
      "outputs": [
        {
          "output_type": "execute_result",
          "data": {
            "text/html": [
              "<div>\n",
              "<style scoped>\n",
              "    .dataframe tbody tr th:only-of-type {\n",
              "        vertical-align: middle;\n",
              "    }\n",
              "\n",
              "    .dataframe tbody tr th {\n",
              "        vertical-align: top;\n",
              "    }\n",
              "\n",
              "    .dataframe thead th {\n",
              "        text-align: right;\n",
              "    }\n",
              "</style>\n",
              "<table border=\"1\" class=\"dataframe\">\n",
              "  <thead>\n",
              "    <tr style=\"text-align: right;\">\n",
              "      <th></th>\n",
              "      <th>Age</th>\n",
              "      <th>Sex</th>\n",
              "      <th>ASA</th>\n",
              "      <th>BMI</th>\n",
              "      <th>DM_history</th>\n",
              "      <th>Pulmonary_disease</th>\n",
              "      <th>Smoking_history</th>\n",
              "      <th>Prior_Dx_cancer</th>\n",
              "      <th>pT</th>\n",
              "      <th>pM</th>\n",
              "      <th>pTNM</th>\n",
              "      <th>K-ras</th>\n",
              "      <th>N-ras</th>\n",
              "      <th>BRAF</th>\n",
              "      <th>LVI</th>\n",
              "      <th>PNI</th>\n",
              "      <th>pN</th>\n",
              "      <th>Harvested_LN</th>\n",
              "      <th>Positive_LN</th>\n",
              "    </tr>\n",
              "  </thead>\n",
              "  <tbody>\n",
              "    <tr>\n",
              "      <th>2</th>\n",
              "      <td>73</td>\n",
              "      <td>2</td>\n",
              "      <td>3</td>\n",
              "      <td>16.25</td>\n",
              "      <td>0</td>\n",
              "      <td>0</td>\n",
              "      <td>2</td>\n",
              "      <td>0</td>\n",
              "      <td>6</td>\n",
              "      <td>1</td>\n",
              "      <td>32</td>\n",
              "      <td>1</td>\n",
              "      <td>1</td>\n",
              "      <td>1</td>\n",
              "      <td>11</td>\n",
              "      <td>3</td>\n",
              "      <td>31</td>\n",
              "      <td>23.0</td>\n",
              "      <td>1.0</td>\n",
              "    </tr>\n",
              "    <tr>\n",
              "      <th>3</th>\n",
              "      <td>63</td>\n",
              "      <td>1</td>\n",
              "      <td>2</td>\n",
              "      <td>23.88</td>\n",
              "      <td>0</td>\n",
              "      <td>0</td>\n",
              "      <td>2</td>\n",
              "      <td>0</td>\n",
              "      <td>6</td>\n",
              "      <td>1</td>\n",
              "      <td>33</td>\n",
              "      <td>1</td>\n",
              "      <td>1</td>\n",
              "      <td>1</td>\n",
              "      <td>32</td>\n",
              "      <td>3</td>\n",
              "      <td>41</td>\n",
              "      <td>10.0</td>\n",
              "      <td>4.0</td>\n",
              "    </tr>\n",
              "    <tr>\n",
              "      <th>4</th>\n",
              "      <td>45</td>\n",
              "      <td>2</td>\n",
              "      <td>2</td>\n",
              "      <td>21.83</td>\n",
              "      <td>0</td>\n",
              "      <td>0</td>\n",
              "      <td>2</td>\n",
              "      <td>0</td>\n",
              "      <td>4</td>\n",
              "      <td>1</td>\n",
              "      <td>1</td>\n",
              "      <td>1</td>\n",
              "      <td>1</td>\n",
              "      <td>1</td>\n",
              "      <td>32</td>\n",
              "      <td>3</td>\n",
              "      <td>2</td>\n",
              "      <td>56.0</td>\n",
              "      <td>0.0</td>\n",
              "    </tr>\n",
              "    <tr>\n",
              "      <th>5</th>\n",
              "      <td>69</td>\n",
              "      <td>1</td>\n",
              "      <td>3</td>\n",
              "      <td>22.86</td>\n",
              "      <td>1</td>\n",
              "      <td>0</td>\n",
              "      <td>2</td>\n",
              "      <td>1</td>\n",
              "      <td>6</td>\n",
              "      <td>1</td>\n",
              "      <td>32</td>\n",
              "      <td>1</td>\n",
              "      <td>1</td>\n",
              "      <td>1</td>\n",
              "      <td>32</td>\n",
              "      <td>3</td>\n",
              "      <td>31</td>\n",
              "      <td>33.0</td>\n",
              "      <td>1.0</td>\n",
              "    </tr>\n",
              "    <tr>\n",
              "      <th>6</th>\n",
              "      <td>69</td>\n",
              "      <td>1</td>\n",
              "      <td>2</td>\n",
              "      <td>20.81</td>\n",
              "      <td>0</td>\n",
              "      <td>0</td>\n",
              "      <td>2</td>\n",
              "      <td>0</td>\n",
              "      <td>6</td>\n",
              "      <td>1</td>\n",
              "      <td>32</td>\n",
              "      <td>1</td>\n",
              "      <td>1</td>\n",
              "      <td>1</td>\n",
              "      <td>21</td>\n",
              "      <td>3</td>\n",
              "      <td>31</td>\n",
              "      <td>25.0</td>\n",
              "      <td>1.0</td>\n",
              "    </tr>\n",
              "    <tr>\n",
              "      <th>...</th>\n",
              "      <td>...</td>\n",
              "      <td>...</td>\n",
              "      <td>...</td>\n",
              "      <td>...</td>\n",
              "      <td>...</td>\n",
              "      <td>...</td>\n",
              "      <td>...</td>\n",
              "      <td>...</td>\n",
              "      <td>...</td>\n",
              "      <td>...</td>\n",
              "      <td>...</td>\n",
              "      <td>...</td>\n",
              "      <td>...</td>\n",
              "      <td>...</td>\n",
              "      <td>...</td>\n",
              "      <td>...</td>\n",
              "      <td>...</td>\n",
              "      <td>...</td>\n",
              "      <td>...</td>\n",
              "    </tr>\n",
              "    <tr>\n",
              "      <th>3317</th>\n",
              "      <td>75</td>\n",
              "      <td>1</td>\n",
              "      <td>2</td>\n",
              "      <td>18.52</td>\n",
              "      <td>0</td>\n",
              "      <td>1</td>\n",
              "      <td>0</td>\n",
              "      <td>0</td>\n",
              "      <td>71</td>\n",
              "      <td>23</td>\n",
              "      <td>43</td>\n",
              "      <td>22</td>\n",
              "      <td>1</td>\n",
              "      <td>1</td>\n",
              "      <td>31</td>\n",
              "      <td>2</td>\n",
              "      <td>42</td>\n",
              "      <td>40.0</td>\n",
              "      <td>28.0</td>\n",
              "    </tr>\n",
              "    <tr>\n",
              "      <th>3318</th>\n",
              "      <td>77</td>\n",
              "      <td>2</td>\n",
              "      <td>2</td>\n",
              "      <td>23.55</td>\n",
              "      <td>0</td>\n",
              "      <td>0</td>\n",
              "      <td>0</td>\n",
              "      <td>0</td>\n",
              "      <td>6</td>\n",
              "      <td>1</td>\n",
              "      <td>32</td>\n",
              "      <td>22</td>\n",
              "      <td>1</td>\n",
              "      <td>1</td>\n",
              "      <td>31</td>\n",
              "      <td>1</td>\n",
              "      <td>32</td>\n",
              "      <td>6.0</td>\n",
              "      <td>3.0</td>\n",
              "    </tr>\n",
              "    <tr>\n",
              "      <th>3319</th>\n",
              "      <td>77</td>\n",
              "      <td>2</td>\n",
              "      <td>2</td>\n",
              "      <td>21.7</td>\n",
              "      <td>0</td>\n",
              "      <td>0</td>\n",
              "      <td>0</td>\n",
              "      <td>0</td>\n",
              "      <td>6</td>\n",
              "      <td>21</td>\n",
              "      <td>41</td>\n",
              "      <td>1</td>\n",
              "      <td>22</td>\n",
              "      <td>1</td>\n",
              "      <td>31</td>\n",
              "      <td>1</td>\n",
              "      <td>2</td>\n",
              "      <td>39.0</td>\n",
              "      <td>0.0</td>\n",
              "    </tr>\n",
              "    <tr>\n",
              "      <th>3321</th>\n",
              "      <td>69</td>\n",
              "      <td>2</td>\n",
              "      <td>2</td>\n",
              "      <td>26.77</td>\n",
              "      <td>1</td>\n",
              "      <td>0</td>\n",
              "      <td>0</td>\n",
              "      <td>0</td>\n",
              "      <td>6</td>\n",
              "      <td>1</td>\n",
              "      <td>21</td>\n",
              "      <td>22</td>\n",
              "      <td>1</td>\n",
              "      <td>1</td>\n",
              "      <td>31</td>\n",
              "      <td>1</td>\n",
              "      <td>2</td>\n",
              "      <td>16.0</td>\n",
              "      <td>0.0</td>\n",
              "    </tr>\n",
              "    <tr>\n",
              "      <th>3322</th>\n",
              "      <td>61</td>\n",
              "      <td>1</td>\n",
              "      <td>3</td>\n",
              "      <td>23.71</td>\n",
              "      <td>1</td>\n",
              "      <td>0</td>\n",
              "      <td>1</td>\n",
              "      <td>0</td>\n",
              "      <td>71</td>\n",
              "      <td>22</td>\n",
              "      <td>42</td>\n",
              "      <td>22</td>\n",
              "      <td>1</td>\n",
              "      <td>1</td>\n",
              "      <td>31</td>\n",
              "      <td>1</td>\n",
              "      <td>42</td>\n",
              "      <td>20.0</td>\n",
              "      <td>19.0</td>\n",
              "    </tr>\n",
              "  </tbody>\n",
              "</table>\n",
              "<p>3086 rows × 19 columns</p>\n",
              "</div>"
            ],
            "text/plain": [
              "     Age Sex ASA    BMI DM_history  ... LVI PNI  pN  Harvested_LN  Positive_LN\n",
              "2     73   2   3  16.25          0  ...  11   3  31          23.0          1.0\n",
              "3     63   1   2  23.88          0  ...  32   3  41          10.0          4.0\n",
              "4     45   2   2  21.83          0  ...  32   3   2          56.0          0.0\n",
              "5     69   1   3  22.86          1  ...  32   3  31          33.0          1.0\n",
              "6     69   1   2  20.81          0  ...  21   3  31          25.0          1.0\n",
              "...   ..  ..  ..    ...        ...  ...  ..  ..  ..           ...          ...\n",
              "3317  75   1   2  18.52          0  ...  31   2  42          40.0         28.0\n",
              "3318  77   2   2  23.55          0  ...  31   1  32           6.0          3.0\n",
              "3319  77   2   2   21.7          0  ...  31   1   2          39.0          0.0\n",
              "3321  69   2   2  26.77          1  ...  31   1   2          16.0          0.0\n",
              "3322  61   1   3  23.71          1  ...  31   1  42          20.0         19.0\n",
              "\n",
              "[3086 rows x 19 columns]"
            ]
          },
          "metadata": {
            "tags": []
          },
          "execution_count": 44
        }
      ]
    },
    {
      "cell_type": "code",
      "metadata": {
        "id": "p8dd88qqWwa3"
      },
      "source": [
        "from sklearn.preprocessing import StandardScaler\r\n",
        "standardScaler = StandardScaler()\r\n",
        "standardScaler.fit(df[['Age']])\r\n",
        "df[['Age']] = standardScaler.transform(df[['Age']])\r\n",
        "standardScaler.fit(df[['BMI']])\r\n",
        "df[['BMI']] = standardScaler.transform(df[['BMI']])\r\n",
        "\r\n"
      ],
      "execution_count": 45,
      "outputs": []
    },
    {
      "cell_type": "code",
      "metadata": {
        "id": "9REylpRVmhQx",
        "colab": {
          "base_uri": "https://localhost:8080/",
          "height": 415
        },
        "outputId": "ae12915f-0414-4048-fcad-4d5ad3efaf28"
      },
      "source": [
        "pd.get_dummies(df['pT'])\r\n",
        "pd.get_dummies(df['BRAF'])\r\n",
        "pd.get_dummies(df['N-ras'])\r\n",
        "pd.get_dummies(df['K-ras'])\r\n",
        "pd.get_dummies(df['pTNM'])\r\n",
        "pd.get_dummies(df['pM'])\r\n",
        "pd.get_dummies(df['Prior_Dx_cancer'])\r\n",
        "pd.get_dummies(df['Smoking_history'])\r\n",
        "pd.get_dummies(df['ASA'])\r\n"
      ],
      "execution_count": 46,
      "outputs": [
        {
          "output_type": "execute_result",
          "data": {
            "text/html": [
              "<div>\n",
              "<style scoped>\n",
              "    .dataframe tbody tr th:only-of-type {\n",
              "        vertical-align: middle;\n",
              "    }\n",
              "\n",
              "    .dataframe tbody tr th {\n",
              "        vertical-align: top;\n",
              "    }\n",
              "\n",
              "    .dataframe thead th {\n",
              "        text-align: right;\n",
              "    }\n",
              "</style>\n",
              "<table border=\"1\" class=\"dataframe\">\n",
              "  <thead>\n",
              "    <tr style=\"text-align: right;\">\n",
              "      <th></th>\n",
              "      <th>1</th>\n",
              "      <th>2</th>\n",
              "      <th>3</th>\n",
              "      <th>4</th>\n",
              "      <th>9999</th>\n",
              "    </tr>\n",
              "  </thead>\n",
              "  <tbody>\n",
              "    <tr>\n",
              "      <th>2</th>\n",
              "      <td>0</td>\n",
              "      <td>0</td>\n",
              "      <td>1</td>\n",
              "      <td>0</td>\n",
              "      <td>0</td>\n",
              "    </tr>\n",
              "    <tr>\n",
              "      <th>3</th>\n",
              "      <td>0</td>\n",
              "      <td>1</td>\n",
              "      <td>0</td>\n",
              "      <td>0</td>\n",
              "      <td>0</td>\n",
              "    </tr>\n",
              "    <tr>\n",
              "      <th>4</th>\n",
              "      <td>0</td>\n",
              "      <td>1</td>\n",
              "      <td>0</td>\n",
              "      <td>0</td>\n",
              "      <td>0</td>\n",
              "    </tr>\n",
              "    <tr>\n",
              "      <th>5</th>\n",
              "      <td>0</td>\n",
              "      <td>0</td>\n",
              "      <td>1</td>\n",
              "      <td>0</td>\n",
              "      <td>0</td>\n",
              "    </tr>\n",
              "    <tr>\n",
              "      <th>6</th>\n",
              "      <td>0</td>\n",
              "      <td>1</td>\n",
              "      <td>0</td>\n",
              "      <td>0</td>\n",
              "      <td>0</td>\n",
              "    </tr>\n",
              "    <tr>\n",
              "      <th>...</th>\n",
              "      <td>...</td>\n",
              "      <td>...</td>\n",
              "      <td>...</td>\n",
              "      <td>...</td>\n",
              "      <td>...</td>\n",
              "    </tr>\n",
              "    <tr>\n",
              "      <th>3317</th>\n",
              "      <td>0</td>\n",
              "      <td>1</td>\n",
              "      <td>0</td>\n",
              "      <td>0</td>\n",
              "      <td>0</td>\n",
              "    </tr>\n",
              "    <tr>\n",
              "      <th>3318</th>\n",
              "      <td>0</td>\n",
              "      <td>1</td>\n",
              "      <td>0</td>\n",
              "      <td>0</td>\n",
              "      <td>0</td>\n",
              "    </tr>\n",
              "    <tr>\n",
              "      <th>3319</th>\n",
              "      <td>0</td>\n",
              "      <td>1</td>\n",
              "      <td>0</td>\n",
              "      <td>0</td>\n",
              "      <td>0</td>\n",
              "    </tr>\n",
              "    <tr>\n",
              "      <th>3321</th>\n",
              "      <td>0</td>\n",
              "      <td>1</td>\n",
              "      <td>0</td>\n",
              "      <td>0</td>\n",
              "      <td>0</td>\n",
              "    </tr>\n",
              "    <tr>\n",
              "      <th>3322</th>\n",
              "      <td>0</td>\n",
              "      <td>0</td>\n",
              "      <td>1</td>\n",
              "      <td>0</td>\n",
              "      <td>0</td>\n",
              "    </tr>\n",
              "  </tbody>\n",
              "</table>\n",
              "<p>3086 rows × 5 columns</p>\n",
              "</div>"
            ],
            "text/plain": [
              "      1     2     3     4     9999\n",
              "2        0     0     1     0     0\n",
              "3        0     1     0     0     0\n",
              "4        0     1     0     0     0\n",
              "5        0     0     1     0     0\n",
              "6        0     1     0     0     0\n",
              "...    ...   ...   ...   ...   ...\n",
              "3317     0     1     0     0     0\n",
              "3318     0     1     0     0     0\n",
              "3319     0     1     0     0     0\n",
              "3321     0     1     0     0     0\n",
              "3322     0     0     1     0     0\n",
              "\n",
              "[3086 rows x 5 columns]"
            ]
          },
          "metadata": {
            "tags": []
          },
          "execution_count": 46
        }
      ]
    },
    {
      "cell_type": "code",
      "metadata": {
        "colab": {
          "base_uri": "https://localhost:8080/"
        },
        "id": "z85cCZiGywFL",
        "outputId": "56bb2675-cd63-4545-fa57-a2f971eabcf1"
      },
      "source": [
        "import scipy.stats as stats\r\n",
        "\r\n",
        "corr = stats.spearmanr(df['Age'], df['Postop_Chemo_Regimen'])\r\n",
        "corr"
      ],
      "execution_count": 47,
      "outputs": [
        {
          "output_type": "execute_result",
          "data": {
            "text/plain": [
              "SpearmanrResult(correlation=-0.26901470727909815, pvalue=2.6211401495273534e-52)"
            ]
          },
          "metadata": {
            "tags": []
          },
          "execution_count": 47
        }
      ]
    },
    {
      "cell_type": "code",
      "metadata": {
        "colab": {
          "base_uri": "https://localhost:8080/"
        },
        "id": "H1NwjP1wzB8O",
        "outputId": "90c04df0-3678-4c36-9343-cbe35344cf86"
      },
      "source": [
        "import matplotlib.pyplot as plt \r\n",
        "import seaborn as sns\r\n",
        "\r\n",
        "df_1 = df[['Age', 'BMI', 'Harvested_LN', 'Positive_LN']]\r\n",
        "corr1 = stats.spearmanr(df_1['Harvested_LN'], df_1['BMI'])\r\n",
        "corr1"
      ],
      "execution_count": 48,
      "outputs": [
        {
          "output_type": "execute_result",
          "data": {
            "text/plain": [
              "SpearmanrResult(correlation=-0.14730207337958393, pvalue=1.960440139418787e-16)"
            ]
          },
          "metadata": {
            "tags": []
          },
          "execution_count": 48
        }
      ]
    },
    {
      "cell_type": "code",
      "metadata": {
        "id": "X09Lu3cIYlEi"
      },
      "source": [
        "from sklearn.model_selection import train_test_split\r\n",
        "X_train, X_test, y_train, y_test = train_test_split(\r\n",
        "    features, target, test_size = 0.3, random_state=3\r\n",
        ")"
      ],
      "execution_count": 49,
      "outputs": []
    },
    {
      "cell_type": "code",
      "metadata": {
        "id": "yqfGiLLIYofg",
        "colab": {
          "base_uri": "https://localhost:8080/"
        },
        "outputId": "edab3fe3-f8f5-4fb6-b639-b1446de46a92"
      },
      "source": [
        "#kNN\r\n",
        "\r\n",
        "\r\n",
        "from sklearn.neighbors import KNeighborsClassifier\r\n",
        "from sklearn.model_selection import cross_val_score\r\n",
        "knn = KNeighborsClassifier()\r\n",
        "y_train = y_train.astype('int')\r\n",
        "y_test=y_test.astype('int')\r\n",
        "\r\n",
        "knn.fit(X_train, y_train)\r\n",
        "print(\"테스트 세트 정확도 : {:.2f}\".format(knn.score(X_test, y_test)))\r\n",
        "\r\n",
        "from sklearn.metrics import accuracy_score, f1_score, precision_score, recall_score, classification_report\r\n",
        "\r\n",
        "y_pred = knn.predict(X_test)\r\n",
        "\r\n",
        "print(classification_report(y_test,y_pred))\r\n",
        "\r\n",
        "print(precision_score(y_test, y_pred,average='macro'))\r\n",
        "print(recall_score(y_test, y_pred,average='macro'))\r\n",
        "print(f1_score(y_test, y_pred,average='macro'))\r\n",
        "print(accuracy_score(y_test, y_pred))\r\n",
        "\r\n",
        "from sklearn.metrics import confusion_matrix\r\n",
        "print(confusion_matrix(y_test, y_pred))"
      ],
      "execution_count": 50,
      "outputs": [
        {
          "output_type": "stream",
          "text": [
            "테스트 세트 정확도 : 0.61\n",
            "              precision    recall  f1-score   support\n",
            "\n",
            "           0       0.70      0.82      0.75       424\n",
            "           1       0.46      0.47      0.47       167\n",
            "           2       0.17      0.04      0.06        57\n",
            "           3       0.58      0.56      0.57       250\n",
            "           4       0.00      0.00      0.00        14\n",
            "           5       0.29      0.14      0.19        14\n",
            "\n",
            "    accuracy                           0.61       926\n",
            "   macro avg       0.37      0.34      0.34       926\n",
            "weighted avg       0.57      0.61      0.59       926\n",
            "\n",
            "0.3659419024008035\n",
            "0.33696090789999894\n",
            "0.3394481404656804\n",
            "0.6144708423326134\n",
            "[[348  33   1  40   0   2]\n",
            " [ 57  78   2  30   0   0]\n",
            " [ 33   9   2  13   0   0]\n",
            " [ 54  46   7 139   1   3]\n",
            " [  1   2   0  11   0   0]\n",
            " [  6   0   0   6   0   2]]\n"
          ],
          "name": "stdout"
        }
      ]
    },
    {
      "cell_type": "code",
      "metadata": {
        "id": "Wqth6mjRBzO7"
      },
      "source": [
        "import warnings\r\n",
        "warnings.filterwarnings('ignore')\r\n",
        "from sklearn.model_selection import cross_validate"
      ],
      "execution_count": 51,
      "outputs": []
    },
    {
      "cell_type": "code",
      "metadata": {
        "colab": {
          "base_uri": "https://localhost:8080/"
        },
        "id": "LdrJ2hzLB22O",
        "outputId": "2778968a-6c0f-4a20-96c4-3a8217a06b6f"
      },
      "source": [
        "X = features\r\n",
        "y = target.astype(int)\r\n",
        "names = [\"KNN\", \"SVM_Linear\", \"SVM_rbf\", \"DecisionTree\", \"RandomForest\"]\r\n",
        "scoring = {'acc': 'accuracy',\r\n",
        "           'prec_macro': 'precision_macro',\r\n",
        "           'rec_macro': 'recall_macro',\r\n",
        "           'f1_macro' : 'f1_macro'}\r\n",
        "from sklearn.model_selection import StratifiedKFold\r\n",
        "cv = StratifiedKFold(n_splits=5, random_state=0, shuffle=True)\r\n",
        "accuracy_scores = []\r\n",
        "precision_scores = []\r\n",
        "recall_scores = []\r\n",
        "f1_scores = []\r\n",
        "for i, (train, test) in enumerate(cv.split(X, y)):\r\n",
        "    print(\"=================\", str(i) , \" Fold =================\")\r\n",
        "    X_train = X.iloc[train]\r\n",
        "    X_test = X.iloc[test]\r\n",
        "    y_train = y.iloc[train]\r\n",
        "    y_test = y.iloc[test]\r\n",
        "    model = knn\r\n",
        "    model.fit(X_train, y_train)\r\n",
        "    y_pred = knn.predict(X_test)\r\n",
        "    #print(classification_report(y_test,y_pred))\r\n",
        "    print(\"accuracy_score : \", accuracy_score(y_test, y_pred))\r\n",
        "    print(\"precision_macro : \", precision_score(y_test, y_pred,average='macro'))\r\n",
        "    print(\"recall_macro : \",recall_score(y_test, y_pred,average='macro'))\r\n",
        "    print(\"f1_macro : \",f1_score(y_test, y_pred,average='macro'))\r\n",
        "    accuracy_scores.append(accuracy_score(y_test, y_pred))\r\n",
        "    precision_scores.append(precision_score(y_test, y_pred,average='macro'))\r\n",
        "    recall_scores.append(recall_score(y_test, y_pred,average='macro'))\r\n",
        "    f1_scores.append(f1_score(y_test, y_pred,average='macro'))\r\n",
        "print(\"\")\r\n",
        "print(\"Acc 평균 : \", np.mean(accuracy_scores))\r\n",
        "print(\"prec 평균 : \", np.mean(precision_scores))\r\n",
        "print(\"Recall 평균 : \", np.mean(recall_scores))\r\n",
        "print(\"F1 평균 : \", np.mean(f1_scores))"
      ],
      "execution_count": 52,
      "outputs": [
        {
          "output_type": "stream",
          "text": [
            "================= 0  Fold =================\n",
            "accuracy_score :  0.5906148867313916\n",
            "precision_macro :  0.37742228835978836\n",
            "recall_macro :  0.33774391074038235\n",
            "f1_macro :  0.3458021848451793\n",
            "================= 1  Fold =================\n",
            "accuracy_score :  0.6094003241491086\n",
            "precision_macro :  0.4767750620236549\n",
            "recall_macro :  0.3266103144512124\n",
            "f1_macro :  0.3380459106420645\n",
            "================= 2  Fold =================\n",
            "accuracy_score :  0.6175040518638574\n",
            "precision_macro :  0.3627375094267977\n",
            "recall_macro :  0.3339677657948114\n",
            "f1_macro :  0.3347697337263007\n",
            "================= 3  Fold =================\n",
            "accuracy_score :  0.5980551053484603\n",
            "precision_macro :  0.34194565223241363\n",
            "recall_macro :  0.33367108195403095\n",
            "f1_macro :  0.33368360999287644\n",
            "================= 4  Fold =================\n",
            "accuracy_score :  0.593192868719611\n",
            "precision_macro :  0.4037756063228009\n",
            "recall_macro :  0.38706466197182055\n",
            "f1_macro :  0.38962043962699816\n",
            "\n",
            "Acc 평균 :  0.6017534473624858\n",
            "prec 평균 :  0.39253122367309107\n",
            "Recall 평균 :  0.34381154698245153\n",
            "F1 평균 :  0.3483843757666838\n"
          ],
          "name": "stdout"
        }
      ]
    },
    {
      "cell_type": "code",
      "metadata": {
        "id": "dWUPFFdixcgK"
      },
      "source": [
        "# #SVM_Linear\r\n",
        "# from sklearn import svm\r\n",
        "# svm_linear = svm.SVC(kernel='linear',random_state = 0)\r\n",
        "# svm_linear.fit(X_train, y_train)\r\n",
        "# print(svm_linear.score(X_test, y_test))\r\n",
        "\r\n",
        "# from sklearn.metrics import accuracy_score, f1_score, precision_score, recall_score, classification_report\r\n",
        "\r\n",
        "# y_pred = svm_linear.predict(X_test)\r\n",
        "\r\n",
        "# print(classification_report(y_test,y_pred))\r\n",
        "# print(precision_score(y_test, y_pred,average='macro'))\r\n",
        "# print(recall_score(y_test, y_pred,average='macro'))\r\n",
        "# print(f1_score(y_test, y_pred,average='macro'))\r\n",
        "# print(accuracy_score(y_test, y_pred))\r\n",
        "\r\n",
        "# from sklearn.metrics import confusion_matrix\r\n",
        "# print(confusion_matrix(y_test, y_pred))"
      ],
      "execution_count": 53,
      "outputs": []
    },
    {
      "cell_type": "code",
      "metadata": {
        "id": "T2uEf9MoEBRo"
      },
      "source": [
        "# X = features\r\n",
        "# y = target.astype(int)\r\n",
        "# names = [\"KNN\", \"SVM_Linear\", \"SVM_rbf\", \"DecisionTree\", \"RandomForest\"]\r\n",
        "# scoring = {'acc': 'accuracy',\r\n",
        "#            'prec_macro': 'precision_macro',\r\n",
        "#            'rec_macro': 'recall_macro',\r\n",
        "#            'f1_macro' : 'f1_macro'}\r\n",
        "# from sklearn.model_selection import StratifiedKFold\r\n",
        "# cv = StratifiedKFold(n_splits=5, random_state=0, shuffle=True)\r\n",
        "# accuracy_scores = []\r\n",
        "# precision_scores = []\r\n",
        "# recall_scores = []\r\n",
        "# f1_scores = []\r\n",
        "# for i, (train, test) in enumerate(cv.split(X, y)):\r\n",
        "#     print(\"=================\", str(i) , \" Fold =================\")\r\n",
        "#     X_train = X.iloc[train]\r\n",
        "#     X_test = X.iloc[test]\r\n",
        "#     y_train = y.iloc[train]\r\n",
        "#     y_test = y.iloc[test]\r\n",
        "#     model = svm_linear\r\n",
        "#     model.fit(X_train, y_train)\r\n",
        "#     y_pred = svm_linear.predict(X_test)\r\n",
        "#     #print(classification_report(y_test,y_pred))\r\n",
        "#     print(\"accuracy_score : \", accuracy_score(y_test, y_pred))\r\n",
        "#     print(\"precision_macro : \", precision_score(y_test, y_pred,average='macro'))\r\n",
        "#     print(\"recall_macro : \",recall_score(y_test, y_pred,average='macro'))\r\n",
        "#     print(\"f1_macro : \",f1_score(y_test, y_pred,average='macro'))\r\n",
        "#     accuracy_scores.append(accuracy_score(y_test, y_pred))\r\n",
        "#     precision_scores.append(precision_score(y_test, y_pred,average='macro'))\r\n",
        "#     recall_scores.append(recall_score(y_test, y_pred,average='macro'))\r\n",
        "#     f1_scores.append(f1_score(y_test, y_pred,average='macro'))\r\n",
        "# print(\"\")\r\n",
        "# print(\"Acc 평균 : \", np.mean(accuracy_scores))\r\n",
        "# print(\"prec 평균 : \", np.mean(precision_scores))\r\n",
        "# print(\"Recall 평균 : \", np.mean(recall_scores))\r\n",
        "# print(\"F1 평균 : \", np.mean(f1_scores))"
      ],
      "execution_count": 54,
      "outputs": []
    },
    {
      "cell_type": "code",
      "metadata": {
        "id": "IOAx9LKhdT98"
      },
      "source": [
        "# #SVM_rbf\r\n",
        "# from sklearn import svm\r\n",
        "# svm_rbf = svm.SVC(kernel='rbf',random_state = 0)\r\n",
        "# svm_rbf.fit(X_train, y_train)\r\n",
        "# print(svm_rbf.score(X_test, y_test))\r\n"
      ],
      "execution_count": 55,
      "outputs": []
    },
    {
      "cell_type": "code",
      "metadata": {
        "id": "uB4qqN2tKdiN"
      },
      "source": [
        ""
      ],
      "execution_count": 55,
      "outputs": []
    },
    {
      "cell_type": "code",
      "metadata": {
        "id": "4MlyJ_5qmQht"
      },
      "source": [
        ""
      ],
      "execution_count": 55,
      "outputs": []
    },
    {
      "cell_type": "code",
      "metadata": {
        "id": "Gmm956pe9rFS",
        "colab": {
          "base_uri": "https://localhost:8080/"
        },
        "outputId": "555746a1-1d5b-4a9e-b698-35f11160ab19"
      },
      "source": [
        "#Decision Tree\r\n",
        "from sklearn.tree import DecisionTreeClassifier\r\n",
        "DTree = DecisionTreeClassifier(random_state = 0)\r\n",
        "DTree.fit(X_train, y_train)\r\n",
        "print(DTree.score(X_test, y_test))\r\n",
        "\r\n",
        "from sklearn.metrics import accuracy_score, f1_score, precision_score, recall_score, classification_report\r\n",
        "\r\n",
        "y_pred = DTree.predict(X_test)\r\n",
        "\r\n",
        "print(classification_report(y_test,y_pred))\r\n",
        "\r\n",
        "print(precision_score(y_test, y_pred,average='macro'))\r\n",
        "print(recall_score(y_test, y_pred,average='macro'))\r\n",
        "print(f1_score(y_test, y_pred,average='macro'))\r\n",
        "print(accuracy_score(y_test, y_pred))\r\n",
        "\r\n",
        "from sklearn.metrics import confusion_matrix\r\n",
        "print(confusion_matrix(y_test, y_pred))"
      ],
      "execution_count": 56,
      "outputs": [
        {
          "output_type": "stream",
          "text": [
            "0.5996758508914101\n",
            "              precision    recall  f1-score   support\n",
            "\n",
            "           0       0.73      0.71      0.72       277\n",
            "           1       0.48      0.50      0.49       118\n",
            "           2       0.03      0.03      0.03        33\n",
            "           3       0.62      0.65      0.64       169\n",
            "           4       0.10      0.08      0.09        12\n",
            "           5       0.30      0.38      0.33         8\n",
            "\n",
            "    accuracy                           0.60       617\n",
            "   macro avg       0.38      0.39      0.38       617\n",
            "weighted avg       0.60      0.60      0.60       617\n",
            "\n",
            "0.3780304629778994\n",
            "0.39118419417294725\n",
            "0.38365900394382585\n",
            "0.5996758508914101\n",
            "[[196  38  14  24   3   2]\n",
            " [ 32  59   7  19   1   0]\n",
            " [ 14   5   1  13   0   0]\n",
            " [ 22  20   7 110   5   5]\n",
            " [  4   0   0   7   1   0]\n",
            " [  1   0   0   4   0   3]]\n"
          ],
          "name": "stdout"
        }
      ]
    },
    {
      "cell_type": "code",
      "metadata": {
        "colab": {
          "base_uri": "https://localhost:8080/"
        },
        "id": "0alBkgEoE_dY",
        "outputId": "544b1b35-a98b-4ceb-bbfc-e12794c52c18"
      },
      "source": [
        "X = features\r\n",
        "y = target.astype(int)\r\n",
        "names = [\"KNN\", \"SVM_Linear\", \"SVM_rbf\", \"DecisionTree\", \"RandomForest\"]\r\n",
        "scoring = {'acc': 'accuracy',\r\n",
        "           'prec_macro': 'precision_macro',\r\n",
        "           'rec_macro': 'recall_macro',\r\n",
        "           'f1_macro' : 'f1_macro'}\r\n",
        "from sklearn.model_selection import StratifiedKFold\r\n",
        "cv = StratifiedKFold(n_splits=5, random_state=0, shuffle=True)\r\n",
        "accuracy_scores = []\r\n",
        "precision_scores = []\r\n",
        "recall_scores = []\r\n",
        "f1_scores = []\r\n",
        "for i, (train, test) in enumerate(cv.split(X, y)):\r\n",
        "    print(\"=================\", str(i) , \" Fold =================\")\r\n",
        "    X_train = X.iloc[train]\r\n",
        "    X_test = X.iloc[test]\r\n",
        "    y_train = y.iloc[train]\r\n",
        "    y_test = y.iloc[test]\r\n",
        "    model = DTree\r\n",
        "    model.fit(X_train, y_train)\r\n",
        "    y_pred = DTree.predict(X_test)\r\n",
        "    #print(classification_report(y_test,y_pred))\r\n",
        "    print(\"accuracy_score : \", accuracy_score(y_test, y_pred))\r\n",
        "    print(\"precision_macro : \", precision_score(y_test, y_pred,average='macro'))\r\n",
        "    print(\"recall_macro : \",recall_score(y_test, y_pred,average='macro'))\r\n",
        "    print(\"f1_macro : \",f1_score(y_test, y_pred,average='macro'))\r\n",
        "    accuracy_scores.append(accuracy_score(y_test, y_pred))\r\n",
        "    precision_scores.append(precision_score(y_test, y_pred,average='macro'))\r\n",
        "    recall_scores.append(recall_score(y_test, y_pred,average='macro'))\r\n",
        "    f1_scores.append(f1_score(y_test, y_pred,average='macro'))\r\n",
        "print(\"\")\r\n",
        "print(\"Acc 평균 : \", np.mean(accuracy_scores))\r\n",
        "print(\"prec 평균 : \", np.mean(precision_scores))\r\n",
        "print(\"Recall 평균 : \", np.mean(recall_scores))\r\n",
        "print(\"F1 평균 : \", np.mean(f1_scores))"
      ],
      "execution_count": 57,
      "outputs": [
        {
          "output_type": "stream",
          "text": [
            "================= 0  Fold =================\n",
            "accuracy_score :  0.5307443365695793\n",
            "precision_macro :  0.30772032593199056\n",
            "recall_macro :  0.30142614986387956\n",
            "f1_macro :  0.30384653861544614\n",
            "================= 1  Fold =================\n",
            "accuracy_score :  0.5364667747163695\n",
            "precision_macro :  0.31286265047016254\n",
            "recall_macro :  0.31241738507387756\n",
            "f1_macro :  0.31218703713890467\n",
            "================= 2  Fold =================\n",
            "accuracy_score :  0.5737439222042139\n",
            "precision_macro :  0.425858905554791\n",
            "recall_macro :  0.36103330480683793\n",
            "f1_macro :  0.37990018866130976\n",
            "================= 3  Fold =================\n",
            "accuracy_score :  0.580226904376013\n",
            "precision_macro :  0.34644956697095736\n",
            "recall_macro :  0.35405185158190355\n",
            "f1_macro :  0.34898909176397647\n",
            "================= 4  Fold =================\n",
            "accuracy_score :  0.5996758508914101\n",
            "precision_macro :  0.3780304629778994\n",
            "recall_macro :  0.39118419417294725\n",
            "f1_macro :  0.38365900394382585\n",
            "\n",
            "Acc 평균 :  0.5641715577515172\n",
            "prec 평균 :  0.3541843823811602\n",
            "Recall 평균 :  0.34402257709988915\n",
            "F1 평균 :  0.3457163720246926\n"
          ],
          "name": "stdout"
        }
      ]
    },
    {
      "cell_type": "code",
      "metadata": {
        "id": "RRsc271wUquF",
        "colab": {
          "base_uri": "https://localhost:8080/"
        },
        "outputId": "40f8d05e-6f85-4afb-bfc8-152a67461cb3"
      },
      "source": [
        "#Random Forest\r\n",
        "from sklearn.ensemble import RandomForestClassifier\r\n",
        "RF = RandomForestClassifier(n_estimators=10)\r\n",
        "RF.fit(X_train, y_train)\r\n",
        "\r\n",
        "from sklearn.metrics import accuracy_score, f1_score, precision_score, recall_score, classification_report\r\n",
        "\r\n",
        "y_pred = RF.predict(X_test)\r\n",
        "\r\n",
        "print(precision_score(y_test, y_pred,average='macro'))\r\n",
        "print(recall_score(y_test, y_pred,average='macro'))\r\n",
        "print(f1_score(y_test, y_pred,average='macro'))\r\n",
        "print(accuracy_score(y_test, y_pred))\r\n",
        "\r\n",
        "\r\n",
        "from sklearn.metrics import confusion_matrix\r\n",
        "print(confusion_matrix(y_test, y_pred))"
      ],
      "execution_count": 58,
      "outputs": [
        {
          "output_type": "stream",
          "text": [
            "0.4091327656165877\n",
            "0.3903644727350713\n",
            "0.39235745647208864\n",
            "0.6709886547811994\n",
            "[[223  32   2  19   0   1]\n",
            " [ 30  66   3  19   0   0]\n",
            " [ 19   6   0   8   0   0]\n",
            " [ 26  17   1 123   1   1]\n",
            " [  2   0   0  10   0   0]\n",
            " [  1   0   0   5   0   2]]\n"
          ],
          "name": "stdout"
        }
      ]
    },
    {
      "cell_type": "code",
      "metadata": {
        "colab": {
          "base_uri": "https://localhost:8080/"
        },
        "id": "JIaq_2KwGzp4",
        "outputId": "2da4f5b3-f30e-42ee-ece7-8d4e91ee0bc5"
      },
      "source": [
        "X = features\r\n",
        "y = target.astype(int)\r\n",
        "names = [\"KNN\", \"SVM_Linear\", \"SVM_rbf\", \"DecisionTree\", \"RandomForest\"]\r\n",
        "scoring = {'acc': 'accuracy',\r\n",
        "           'prec_macro': 'precision_macro',\r\n",
        "           'rec_macro': 'recall_macro',\r\n",
        "           'f1_macro' : 'f1_macro'}\r\n",
        "from sklearn.model_selection import StratifiedKFold\r\n",
        "cv = StratifiedKFold(n_splits=5, random_state=0, shuffle=True)\r\n",
        "accuracy_scores = []\r\n",
        "precision_scores = []\r\n",
        "recall_scores = []\r\n",
        "f1_scores = []\r\n",
        "for i, (train, test) in enumerate(cv.split(X, y)):\r\n",
        "    print(\"=================\", str(i) , \" Fold =================\")\r\n",
        "    X_train = X.iloc[train]\r\n",
        "    X_test = X.iloc[test]\r\n",
        "    y_train = y.iloc[train]\r\n",
        "    y_test = y.iloc[test]\r\n",
        "    model = RF\r\n",
        "    model.fit(X_train, y_train)\r\n",
        "    y_pred = RF.predict(X_test)\r\n",
        "    #print(classification_report(y_test,y_pred))\r\n",
        "    print(\"accuracy_score : \", accuracy_score(y_test, y_pred))\r\n",
        "    print(\"precision_macro : \", precision_score(y_test, y_pred,average='macro'))\r\n",
        "    print(\"recall_macro : \",recall_score(y_test, y_pred,average='macro'))\r\n",
        "    print(\"f1_macro : \",f1_score(y_test, y_pred,average='macro'))\r\n",
        "    accuracy_scores.append(accuracy_score(y_test, y_pred))\r\n",
        "    precision_scores.append(precision_score(y_test, y_pred,average='macro'))\r\n",
        "    recall_scores.append(recall_score(y_test, y_pred,average='macro'))\r\n",
        "    f1_scores.append(f1_score(y_test, y_pred,average='macro'))\r\n",
        "print(\"\")\r\n",
        "print(\"Acc 평균 : \", np.mean(accuracy_scores))\r\n",
        "print(\"prec 평균 : \", np.mean(precision_scores))\r\n",
        "print(\"Recall 평균 : \", np.mean(recall_scores))\r\n",
        "print(\"F1 평균 : \", np.mean(f1_scores))"
      ],
      "execution_count": 59,
      "outputs": [
        {
          "output_type": "stream",
          "text": [
            "================= 0  Fold =================\n",
            "accuracy_score :  0.6375404530744336\n",
            "precision_macro :  0.44071070021710074\n",
            "recall_macro :  0.36555850829051084\n",
            "f1_macro :  0.38144971959579554\n",
            "================= 1  Fold =================\n",
            "accuracy_score :  0.6499189627228525\n",
            "precision_macro :  0.43561983213346905\n",
            "recall_macro :  0.3787441093826575\n",
            "f1_macro :  0.392248001619886\n",
            "================= 2  Fold =================\n",
            "accuracy_score :  0.6693679092382496\n",
            "precision_macro :  0.4142030004688233\n",
            "recall_macro :  0.3855071653474773\n",
            "f1_macro :  0.38939975995137316\n",
            "================= 3  Fold =================\n",
            "accuracy_score :  0.6239870340356564\n",
            "precision_macro :  0.3671571542174557\n",
            "recall_macro :  0.35239584553932807\n",
            "f1_macro :  0.3545599578167728\n",
            "================= 4  Fold =================\n",
            "accuracy_score :  0.6628849270664505\n",
            "precision_macro :  0.3862371387208521\n",
            "recall_macro :  0.38125460043512466\n",
            "f1_macro :  0.3801966047134197\n",
            "\n",
            "Acc 평균 :  0.6487398572275286\n",
            "prec 평균 :  0.4087855651515401\n",
            "Recall 평균 :  0.3726920457990197\n",
            "F1 평균 :  0.3795708087394495\n"
          ],
          "name": "stdout"
        }
      ]
    },
    {
      "cell_type": "code",
      "metadata": {
        "id": "DxqCFfbWS5Ez",
        "colab": {
          "base_uri": "https://localhost:8080/"
        },
        "outputId": "aed4f31d-ccf8-4aa9-c6ec-6380f2fb3c52"
      },
      "source": [
        "print(recall_score(y_test, y_pred, average='weighted'))\r\n"
      ],
      "execution_count": 60,
      "outputs": [
        {
          "output_type": "stream",
          "text": [
            "0.6628849270664505\n"
          ],
          "name": "stdout"
        }
      ]
    },
    {
      "cell_type": "code",
      "metadata": {
        "id": "wbb6yxCYBt7c"
      },
      "source": [
        ""
      ],
      "execution_count": 60,
      "outputs": []
    },
    {
      "cell_type": "code",
      "metadata": {
        "id": "IAq9uJoVy9g4"
      },
      "source": [
        "from lightgbm import LGBMClassifier\r\n",
        "from sklearn.metrics import roc_auc_score\r\n",
        "from sklearn.model_selection import GridSearchCV\r\n",
        "\r\n",
        "lgbm_wrapper = LGBMClassifier(n_estimators=400)\r\n"
      ],
      "execution_count": 61,
      "outputs": []
    },
    {
      "cell_type": "code",
      "metadata": {
        "id": "H1R1fYFp0wuA"
      },
      "source": [
        "# df['pT']= pd.to_numeric(df['pT'])\r\n",
        "# df['BRAF']= pd.to_numeric(df['BRAF'])\r\n",
        "# df['N-ras']= pd.to_numeric(df['N-ras'])\r\n",
        "# df['K-ras']= pd.to_numeric(df['K-ras'])\r\n",
        "# df['pTNM']= pd.to_numeric(df['pTNM'])\r\n",
        "# df['pM']= pd.to_numeric(df['pM'])\r\n",
        "# df['Prior_Dx_cancer']= pd.to_numeric(df['Prior_Dx_cancer'])\r\n",
        "# df['ASA']= pd.to_numeric(df['ASA'])\r\n",
        "df['Age']= pd.to_numeric(df['Age'])\r\n",
        "df['Harvested_LN']= pd.to_numeric(df['Harvested_LN'])\r\n",
        "df['Positive_LN']= pd.to_numeric(df['Positive_LN'])\r\n",
        "\r\n",
        "# df['Sex']= pd.to_numeric(df['Sex'])\r\n",
        "df['BMI']= pd.to_numeric(df['BMI'])\r\n",
        "# df['Pulmonary_disease']= pd.to_numeric(df['Pulmonary_disease'])\r\n",
        "# df['Liver_disease']= pd.to_numeric(df['Liver_disease'])\r\n",
        "# df['Kidney_disease']= pd.to_numeric(df['Kidney_disease'])"
      ],
      "execution_count": 62,
      "outputs": []
    },
    {
      "cell_type": "code",
      "metadata": {
        "colab": {
          "base_uri": "https://localhost:8080/",
          "height": 453
        },
        "id": "DdUzBIKES6aU",
        "outputId": "32f15ded-ec8f-456d-d588-fcf6d689915f"
      },
      "source": [
        "pd.get_dummies(df, columns = ['Sex', 'ASA', 'Pulmonary_disease','Liver_disease', 'Kidney_disease', 'Prior_Dx_cancer', 'pT', 'pM', 'pTNM', 'K-ras', 'N-ras', 'BRAF', 'LVI', 'PNI','pN'], drop_first = True)"
      ],
      "execution_count": 63,
      "outputs": [
        {
          "output_type": "execute_result",
          "data": {
            "text/html": [
              "<div>\n",
              "<style scoped>\n",
              "    .dataframe tbody tr th:only-of-type {\n",
              "        vertical-align: middle;\n",
              "    }\n",
              "\n",
              "    .dataframe tbody tr th {\n",
              "        vertical-align: top;\n",
              "    }\n",
              "\n",
              "    .dataframe thead th {\n",
              "        text-align: right;\n",
              "    }\n",
              "</style>\n",
              "<table border=\"1\" class=\"dataframe\">\n",
              "  <thead>\n",
              "    <tr style=\"text-align: right;\">\n",
              "      <th></th>\n",
              "      <th>Age</th>\n",
              "      <th>BMI</th>\n",
              "      <th>DM_history</th>\n",
              "      <th>Smoking_history</th>\n",
              "      <th>Harvested_LN</th>\n",
              "      <th>Positive_LN</th>\n",
              "      <th>Postop_Chemo_Regimen</th>\n",
              "      <th>Sex_2</th>\n",
              "      <th>ASA_2</th>\n",
              "      <th>ASA_3</th>\n",
              "      <th>ASA_4</th>\n",
              "      <th>ASA_9999</th>\n",
              "      <th>Pulmonary_disease_1</th>\n",
              "      <th>Liver_disease_1</th>\n",
              "      <th>Kidney_disease_1</th>\n",
              "      <th>Kidney_disease_2</th>\n",
              "      <th>Prior_Dx_cancer_1</th>\n",
              "      <th>Prior_Dx_cancer_2</th>\n",
              "      <th>pT_2</th>\n",
              "      <th>pT_3</th>\n",
              "      <th>pT_4</th>\n",
              "      <th>pT_5</th>\n",
              "      <th>pT_6</th>\n",
              "      <th>pT_7</th>\n",
              "      <th>pT_71</th>\n",
              "      <th>pT_72</th>\n",
              "      <th>pM_2</th>\n",
              "      <th>pM_21</th>\n",
              "      <th>pM_22</th>\n",
              "      <th>pM_23</th>\n",
              "      <th>pM_42</th>\n",
              "      <th>pTNM_1</th>\n",
              "      <th>pTNM_2</th>\n",
              "      <th>pTNM_3</th>\n",
              "      <th>pTNM_4</th>\n",
              "      <th>pTNM_21</th>\n",
              "      <th>pTNM_22</th>\n",
              "      <th>pTNM_23</th>\n",
              "      <th>pTNM_31</th>\n",
              "      <th>pTNM_32</th>\n",
              "      <th>pTNM_33</th>\n",
              "      <th>pTNM_41</th>\n",
              "      <th>pTNM_42</th>\n",
              "      <th>pTNM_43</th>\n",
              "      <th>K-ras_21</th>\n",
              "      <th>K-ras_22</th>\n",
              "      <th>N-ras_21</th>\n",
              "      <th>N-ras_22</th>\n",
              "      <th>BRAF_21</th>\n",
              "      <th>BRAF_22</th>\n",
              "      <th>LVI_4</th>\n",
              "      <th>LVI_11</th>\n",
              "      <th>LVI_12</th>\n",
              "      <th>LVI_21</th>\n",
              "      <th>LVI_22</th>\n",
              "      <th>LVI_31</th>\n",
              "      <th>LVI_32</th>\n",
              "      <th>LVI_41</th>\n",
              "      <th>LVI_42</th>\n",
              "      <th>PNI_2</th>\n",
              "      <th>PNI_3</th>\n",
              "      <th>pN_3</th>\n",
              "      <th>pN_4</th>\n",
              "      <th>pN_31</th>\n",
              "      <th>pN_32</th>\n",
              "      <th>pN_33</th>\n",
              "      <th>pN_41</th>\n",
              "      <th>pN_42</th>\n",
              "      <th>pN_9999</th>\n",
              "    </tr>\n",
              "  </thead>\n",
              "  <tbody>\n",
              "    <tr>\n",
              "      <th>2</th>\n",
              "      <td>0.760967</td>\n",
              "      <td>-2.083279</td>\n",
              "      <td>0</td>\n",
              "      <td>2</td>\n",
              "      <td>23.0</td>\n",
              "      <td>1.0</td>\n",
              "      <td>1</td>\n",
              "      <td>1</td>\n",
              "      <td>0</td>\n",
              "      <td>1</td>\n",
              "      <td>0</td>\n",
              "      <td>0</td>\n",
              "      <td>0</td>\n",
              "      <td>0</td>\n",
              "      <td>0</td>\n",
              "      <td>0</td>\n",
              "      <td>0</td>\n",
              "      <td>0</td>\n",
              "      <td>0</td>\n",
              "      <td>0</td>\n",
              "      <td>0</td>\n",
              "      <td>0</td>\n",
              "      <td>1</td>\n",
              "      <td>0</td>\n",
              "      <td>0</td>\n",
              "      <td>0</td>\n",
              "      <td>0</td>\n",
              "      <td>0</td>\n",
              "      <td>0</td>\n",
              "      <td>0</td>\n",
              "      <td>0</td>\n",
              "      <td>0</td>\n",
              "      <td>0</td>\n",
              "      <td>0</td>\n",
              "      <td>0</td>\n",
              "      <td>0</td>\n",
              "      <td>0</td>\n",
              "      <td>0</td>\n",
              "      <td>0</td>\n",
              "      <td>1</td>\n",
              "      <td>0</td>\n",
              "      <td>0</td>\n",
              "      <td>0</td>\n",
              "      <td>0</td>\n",
              "      <td>0</td>\n",
              "      <td>0</td>\n",
              "      <td>0</td>\n",
              "      <td>0</td>\n",
              "      <td>0</td>\n",
              "      <td>0</td>\n",
              "      <td>0</td>\n",
              "      <td>1</td>\n",
              "      <td>0</td>\n",
              "      <td>0</td>\n",
              "      <td>0</td>\n",
              "      <td>0</td>\n",
              "      <td>0</td>\n",
              "      <td>0</td>\n",
              "      <td>0</td>\n",
              "      <td>0</td>\n",
              "      <td>1</td>\n",
              "      <td>0</td>\n",
              "      <td>0</td>\n",
              "      <td>1</td>\n",
              "      <td>0</td>\n",
              "      <td>0</td>\n",
              "      <td>0</td>\n",
              "      <td>0</td>\n",
              "      <td>0</td>\n",
              "    </tr>\n",
              "    <tr>\n",
              "      <th>3</th>\n",
              "      <td>-0.073258</td>\n",
              "      <td>0.115663</td>\n",
              "      <td>0</td>\n",
              "      <td>2</td>\n",
              "      <td>10.0</td>\n",
              "      <td>4.0</td>\n",
              "      <td>0</td>\n",
              "      <td>0</td>\n",
              "      <td>1</td>\n",
              "      <td>0</td>\n",
              "      <td>0</td>\n",
              "      <td>0</td>\n",
              "      <td>0</td>\n",
              "      <td>0</td>\n",
              "      <td>0</td>\n",
              "      <td>0</td>\n",
              "      <td>0</td>\n",
              "      <td>0</td>\n",
              "      <td>0</td>\n",
              "      <td>0</td>\n",
              "      <td>0</td>\n",
              "      <td>0</td>\n",
              "      <td>1</td>\n",
              "      <td>0</td>\n",
              "      <td>0</td>\n",
              "      <td>0</td>\n",
              "      <td>0</td>\n",
              "      <td>0</td>\n",
              "      <td>0</td>\n",
              "      <td>0</td>\n",
              "      <td>0</td>\n",
              "      <td>0</td>\n",
              "      <td>0</td>\n",
              "      <td>0</td>\n",
              "      <td>0</td>\n",
              "      <td>0</td>\n",
              "      <td>0</td>\n",
              "      <td>0</td>\n",
              "      <td>0</td>\n",
              "      <td>0</td>\n",
              "      <td>1</td>\n",
              "      <td>0</td>\n",
              "      <td>0</td>\n",
              "      <td>0</td>\n",
              "      <td>0</td>\n",
              "      <td>0</td>\n",
              "      <td>0</td>\n",
              "      <td>0</td>\n",
              "      <td>0</td>\n",
              "      <td>0</td>\n",
              "      <td>0</td>\n",
              "      <td>0</td>\n",
              "      <td>0</td>\n",
              "      <td>0</td>\n",
              "      <td>0</td>\n",
              "      <td>0</td>\n",
              "      <td>1</td>\n",
              "      <td>0</td>\n",
              "      <td>0</td>\n",
              "      <td>0</td>\n",
              "      <td>1</td>\n",
              "      <td>0</td>\n",
              "      <td>0</td>\n",
              "      <td>0</td>\n",
              "      <td>0</td>\n",
              "      <td>0</td>\n",
              "      <td>1</td>\n",
              "      <td>0</td>\n",
              "      <td>0</td>\n",
              "    </tr>\n",
              "    <tr>\n",
              "      <th>4</th>\n",
              "      <td>-1.574864</td>\n",
              "      <td>-0.475141</td>\n",
              "      <td>0</td>\n",
              "      <td>2</td>\n",
              "      <td>56.0</td>\n",
              "      <td>0.0</td>\n",
              "      <td>0</td>\n",
              "      <td>1</td>\n",
              "      <td>1</td>\n",
              "      <td>0</td>\n",
              "      <td>0</td>\n",
              "      <td>0</td>\n",
              "      <td>0</td>\n",
              "      <td>0</td>\n",
              "      <td>0</td>\n",
              "      <td>0</td>\n",
              "      <td>0</td>\n",
              "      <td>0</td>\n",
              "      <td>0</td>\n",
              "      <td>0</td>\n",
              "      <td>1</td>\n",
              "      <td>0</td>\n",
              "      <td>0</td>\n",
              "      <td>0</td>\n",
              "      <td>0</td>\n",
              "      <td>0</td>\n",
              "      <td>0</td>\n",
              "      <td>0</td>\n",
              "      <td>0</td>\n",
              "      <td>0</td>\n",
              "      <td>0</td>\n",
              "      <td>1</td>\n",
              "      <td>0</td>\n",
              "      <td>0</td>\n",
              "      <td>0</td>\n",
              "      <td>0</td>\n",
              "      <td>0</td>\n",
              "      <td>0</td>\n",
              "      <td>0</td>\n",
              "      <td>0</td>\n",
              "      <td>0</td>\n",
              "      <td>0</td>\n",
              "      <td>0</td>\n",
              "      <td>0</td>\n",
              "      <td>0</td>\n",
              "      <td>0</td>\n",
              "      <td>0</td>\n",
              "      <td>0</td>\n",
              "      <td>0</td>\n",
              "      <td>0</td>\n",
              "      <td>0</td>\n",
              "      <td>0</td>\n",
              "      <td>0</td>\n",
              "      <td>0</td>\n",
              "      <td>0</td>\n",
              "      <td>0</td>\n",
              "      <td>1</td>\n",
              "      <td>0</td>\n",
              "      <td>0</td>\n",
              "      <td>0</td>\n",
              "      <td>1</td>\n",
              "      <td>0</td>\n",
              "      <td>0</td>\n",
              "      <td>0</td>\n",
              "      <td>0</td>\n",
              "      <td>0</td>\n",
              "      <td>0</td>\n",
              "      <td>0</td>\n",
              "      <td>0</td>\n",
              "    </tr>\n",
              "    <tr>\n",
              "      <th>5</th>\n",
              "      <td>0.427277</td>\n",
              "      <td>-0.178298</td>\n",
              "      <td>1</td>\n",
              "      <td>2</td>\n",
              "      <td>33.0</td>\n",
              "      <td>1.0</td>\n",
              "      <td>1</td>\n",
              "      <td>0</td>\n",
              "      <td>0</td>\n",
              "      <td>1</td>\n",
              "      <td>0</td>\n",
              "      <td>0</td>\n",
              "      <td>0</td>\n",
              "      <td>0</td>\n",
              "      <td>0</td>\n",
              "      <td>0</td>\n",
              "      <td>1</td>\n",
              "      <td>0</td>\n",
              "      <td>0</td>\n",
              "      <td>0</td>\n",
              "      <td>0</td>\n",
              "      <td>0</td>\n",
              "      <td>1</td>\n",
              "      <td>0</td>\n",
              "      <td>0</td>\n",
              "      <td>0</td>\n",
              "      <td>0</td>\n",
              "      <td>0</td>\n",
              "      <td>0</td>\n",
              "      <td>0</td>\n",
              "      <td>0</td>\n",
              "      <td>0</td>\n",
              "      <td>0</td>\n",
              "      <td>0</td>\n",
              "      <td>0</td>\n",
              "      <td>0</td>\n",
              "      <td>0</td>\n",
              "      <td>0</td>\n",
              "      <td>0</td>\n",
              "      <td>1</td>\n",
              "      <td>0</td>\n",
              "      <td>0</td>\n",
              "      <td>0</td>\n",
              "      <td>0</td>\n",
              "      <td>0</td>\n",
              "      <td>0</td>\n",
              "      <td>0</td>\n",
              "      <td>0</td>\n",
              "      <td>0</td>\n",
              "      <td>0</td>\n",
              "      <td>0</td>\n",
              "      <td>0</td>\n",
              "      <td>0</td>\n",
              "      <td>0</td>\n",
              "      <td>0</td>\n",
              "      <td>0</td>\n",
              "      <td>1</td>\n",
              "      <td>0</td>\n",
              "      <td>0</td>\n",
              "      <td>0</td>\n",
              "      <td>1</td>\n",
              "      <td>0</td>\n",
              "      <td>0</td>\n",
              "      <td>1</td>\n",
              "      <td>0</td>\n",
              "      <td>0</td>\n",
              "      <td>0</td>\n",
              "      <td>0</td>\n",
              "      <td>0</td>\n",
              "    </tr>\n",
              "    <tr>\n",
              "      <th>6</th>\n",
              "      <td>0.427277</td>\n",
              "      <td>-0.769102</td>\n",
              "      <td>0</td>\n",
              "      <td>2</td>\n",
              "      <td>25.0</td>\n",
              "      <td>1.0</td>\n",
              "      <td>1</td>\n",
              "      <td>0</td>\n",
              "      <td>1</td>\n",
              "      <td>0</td>\n",
              "      <td>0</td>\n",
              "      <td>0</td>\n",
              "      <td>0</td>\n",
              "      <td>0</td>\n",
              "      <td>0</td>\n",
              "      <td>0</td>\n",
              "      <td>0</td>\n",
              "      <td>0</td>\n",
              "      <td>0</td>\n",
              "      <td>0</td>\n",
              "      <td>0</td>\n",
              "      <td>0</td>\n",
              "      <td>1</td>\n",
              "      <td>0</td>\n",
              "      <td>0</td>\n",
              "      <td>0</td>\n",
              "      <td>0</td>\n",
              "      <td>0</td>\n",
              "      <td>0</td>\n",
              "      <td>0</td>\n",
              "      <td>0</td>\n",
              "      <td>0</td>\n",
              "      <td>0</td>\n",
              "      <td>0</td>\n",
              "      <td>0</td>\n",
              "      <td>0</td>\n",
              "      <td>0</td>\n",
              "      <td>0</td>\n",
              "      <td>0</td>\n",
              "      <td>1</td>\n",
              "      <td>0</td>\n",
              "      <td>0</td>\n",
              "      <td>0</td>\n",
              "      <td>0</td>\n",
              "      <td>0</td>\n",
              "      <td>0</td>\n",
              "      <td>0</td>\n",
              "      <td>0</td>\n",
              "      <td>0</td>\n",
              "      <td>0</td>\n",
              "      <td>0</td>\n",
              "      <td>0</td>\n",
              "      <td>0</td>\n",
              "      <td>1</td>\n",
              "      <td>0</td>\n",
              "      <td>0</td>\n",
              "      <td>0</td>\n",
              "      <td>0</td>\n",
              "      <td>0</td>\n",
              "      <td>0</td>\n",
              "      <td>1</td>\n",
              "      <td>0</td>\n",
              "      <td>0</td>\n",
              "      <td>1</td>\n",
              "      <td>0</td>\n",
              "      <td>0</td>\n",
              "      <td>0</td>\n",
              "      <td>0</td>\n",
              "      <td>0</td>\n",
              "    </tr>\n",
              "    <tr>\n",
              "      <th>...</th>\n",
              "      <td>...</td>\n",
              "      <td>...</td>\n",
              "      <td>...</td>\n",
              "      <td>...</td>\n",
              "      <td>...</td>\n",
              "      <td>...</td>\n",
              "      <td>...</td>\n",
              "      <td>...</td>\n",
              "      <td>...</td>\n",
              "      <td>...</td>\n",
              "      <td>...</td>\n",
              "      <td>...</td>\n",
              "      <td>...</td>\n",
              "      <td>...</td>\n",
              "      <td>...</td>\n",
              "      <td>...</td>\n",
              "      <td>...</td>\n",
              "      <td>...</td>\n",
              "      <td>...</td>\n",
              "      <td>...</td>\n",
              "      <td>...</td>\n",
              "      <td>...</td>\n",
              "      <td>...</td>\n",
              "      <td>...</td>\n",
              "      <td>...</td>\n",
              "      <td>...</td>\n",
              "      <td>...</td>\n",
              "      <td>...</td>\n",
              "      <td>...</td>\n",
              "      <td>...</td>\n",
              "      <td>...</td>\n",
              "      <td>...</td>\n",
              "      <td>...</td>\n",
              "      <td>...</td>\n",
              "      <td>...</td>\n",
              "      <td>...</td>\n",
              "      <td>...</td>\n",
              "      <td>...</td>\n",
              "      <td>...</td>\n",
              "      <td>...</td>\n",
              "      <td>...</td>\n",
              "      <td>...</td>\n",
              "      <td>...</td>\n",
              "      <td>...</td>\n",
              "      <td>...</td>\n",
              "      <td>...</td>\n",
              "      <td>...</td>\n",
              "      <td>...</td>\n",
              "      <td>...</td>\n",
              "      <td>...</td>\n",
              "      <td>...</td>\n",
              "      <td>...</td>\n",
              "      <td>...</td>\n",
              "      <td>...</td>\n",
              "      <td>...</td>\n",
              "      <td>...</td>\n",
              "      <td>...</td>\n",
              "      <td>...</td>\n",
              "      <td>...</td>\n",
              "      <td>...</td>\n",
              "      <td>...</td>\n",
              "      <td>...</td>\n",
              "      <td>...</td>\n",
              "      <td>...</td>\n",
              "      <td>...</td>\n",
              "      <td>...</td>\n",
              "      <td>...</td>\n",
              "      <td>...</td>\n",
              "      <td>...</td>\n",
              "    </tr>\n",
              "    <tr>\n",
              "      <th>3317</th>\n",
              "      <td>0.927812</td>\n",
              "      <td>-1.429072</td>\n",
              "      <td>0</td>\n",
              "      <td>0</td>\n",
              "      <td>40.0</td>\n",
              "      <td>28.0</td>\n",
              "      <td>0</td>\n",
              "      <td>0</td>\n",
              "      <td>1</td>\n",
              "      <td>0</td>\n",
              "      <td>0</td>\n",
              "      <td>0</td>\n",
              "      <td>1</td>\n",
              "      <td>0</td>\n",
              "      <td>0</td>\n",
              "      <td>0</td>\n",
              "      <td>0</td>\n",
              "      <td>0</td>\n",
              "      <td>0</td>\n",
              "      <td>0</td>\n",
              "      <td>0</td>\n",
              "      <td>0</td>\n",
              "      <td>0</td>\n",
              "      <td>0</td>\n",
              "      <td>1</td>\n",
              "      <td>0</td>\n",
              "      <td>0</td>\n",
              "      <td>0</td>\n",
              "      <td>0</td>\n",
              "      <td>1</td>\n",
              "      <td>0</td>\n",
              "      <td>0</td>\n",
              "      <td>0</td>\n",
              "      <td>0</td>\n",
              "      <td>0</td>\n",
              "      <td>0</td>\n",
              "      <td>0</td>\n",
              "      <td>0</td>\n",
              "      <td>0</td>\n",
              "      <td>0</td>\n",
              "      <td>0</td>\n",
              "      <td>0</td>\n",
              "      <td>0</td>\n",
              "      <td>1</td>\n",
              "      <td>0</td>\n",
              "      <td>1</td>\n",
              "      <td>0</td>\n",
              "      <td>0</td>\n",
              "      <td>0</td>\n",
              "      <td>0</td>\n",
              "      <td>0</td>\n",
              "      <td>0</td>\n",
              "      <td>0</td>\n",
              "      <td>0</td>\n",
              "      <td>0</td>\n",
              "      <td>1</td>\n",
              "      <td>0</td>\n",
              "      <td>0</td>\n",
              "      <td>0</td>\n",
              "      <td>1</td>\n",
              "      <td>0</td>\n",
              "      <td>0</td>\n",
              "      <td>0</td>\n",
              "      <td>0</td>\n",
              "      <td>0</td>\n",
              "      <td>0</td>\n",
              "      <td>0</td>\n",
              "      <td>1</td>\n",
              "      <td>0</td>\n",
              "    </tr>\n",
              "    <tr>\n",
              "      <th>3318</th>\n",
              "      <td>1.094657</td>\n",
              "      <td>0.020558</td>\n",
              "      <td>0</td>\n",
              "      <td>0</td>\n",
              "      <td>6.0</td>\n",
              "      <td>3.0</td>\n",
              "      <td>3</td>\n",
              "      <td>1</td>\n",
              "      <td>1</td>\n",
              "      <td>0</td>\n",
              "      <td>0</td>\n",
              "      <td>0</td>\n",
              "      <td>0</td>\n",
              "      <td>0</td>\n",
              "      <td>0</td>\n",
              "      <td>0</td>\n",
              "      <td>0</td>\n",
              "      <td>0</td>\n",
              "      <td>0</td>\n",
              "      <td>0</td>\n",
              "      <td>0</td>\n",
              "      <td>0</td>\n",
              "      <td>1</td>\n",
              "      <td>0</td>\n",
              "      <td>0</td>\n",
              "      <td>0</td>\n",
              "      <td>0</td>\n",
              "      <td>0</td>\n",
              "      <td>0</td>\n",
              "      <td>0</td>\n",
              "      <td>0</td>\n",
              "      <td>0</td>\n",
              "      <td>0</td>\n",
              "      <td>0</td>\n",
              "      <td>0</td>\n",
              "      <td>0</td>\n",
              "      <td>0</td>\n",
              "      <td>0</td>\n",
              "      <td>0</td>\n",
              "      <td>1</td>\n",
              "      <td>0</td>\n",
              "      <td>0</td>\n",
              "      <td>0</td>\n",
              "      <td>0</td>\n",
              "      <td>0</td>\n",
              "      <td>1</td>\n",
              "      <td>0</td>\n",
              "      <td>0</td>\n",
              "      <td>0</td>\n",
              "      <td>0</td>\n",
              "      <td>0</td>\n",
              "      <td>0</td>\n",
              "      <td>0</td>\n",
              "      <td>0</td>\n",
              "      <td>0</td>\n",
              "      <td>1</td>\n",
              "      <td>0</td>\n",
              "      <td>0</td>\n",
              "      <td>0</td>\n",
              "      <td>0</td>\n",
              "      <td>0</td>\n",
              "      <td>0</td>\n",
              "      <td>0</td>\n",
              "      <td>0</td>\n",
              "      <td>1</td>\n",
              "      <td>0</td>\n",
              "      <td>0</td>\n",
              "      <td>0</td>\n",
              "      <td>0</td>\n",
              "    </tr>\n",
              "    <tr>\n",
              "      <th>3319</th>\n",
              "      <td>1.094657</td>\n",
              "      <td>-0.512606</td>\n",
              "      <td>0</td>\n",
              "      <td>0</td>\n",
              "      <td>39.0</td>\n",
              "      <td>0.0</td>\n",
              "      <td>3</td>\n",
              "      <td>1</td>\n",
              "      <td>1</td>\n",
              "      <td>0</td>\n",
              "      <td>0</td>\n",
              "      <td>0</td>\n",
              "      <td>0</td>\n",
              "      <td>0</td>\n",
              "      <td>0</td>\n",
              "      <td>0</td>\n",
              "      <td>0</td>\n",
              "      <td>0</td>\n",
              "      <td>0</td>\n",
              "      <td>0</td>\n",
              "      <td>0</td>\n",
              "      <td>0</td>\n",
              "      <td>1</td>\n",
              "      <td>0</td>\n",
              "      <td>0</td>\n",
              "      <td>0</td>\n",
              "      <td>0</td>\n",
              "      <td>1</td>\n",
              "      <td>0</td>\n",
              "      <td>0</td>\n",
              "      <td>0</td>\n",
              "      <td>0</td>\n",
              "      <td>0</td>\n",
              "      <td>0</td>\n",
              "      <td>0</td>\n",
              "      <td>0</td>\n",
              "      <td>0</td>\n",
              "      <td>0</td>\n",
              "      <td>0</td>\n",
              "      <td>0</td>\n",
              "      <td>0</td>\n",
              "      <td>1</td>\n",
              "      <td>0</td>\n",
              "      <td>0</td>\n",
              "      <td>0</td>\n",
              "      <td>0</td>\n",
              "      <td>0</td>\n",
              "      <td>1</td>\n",
              "      <td>0</td>\n",
              "      <td>0</td>\n",
              "      <td>0</td>\n",
              "      <td>0</td>\n",
              "      <td>0</td>\n",
              "      <td>0</td>\n",
              "      <td>0</td>\n",
              "      <td>1</td>\n",
              "      <td>0</td>\n",
              "      <td>0</td>\n",
              "      <td>0</td>\n",
              "      <td>0</td>\n",
              "      <td>0</td>\n",
              "      <td>0</td>\n",
              "      <td>0</td>\n",
              "      <td>0</td>\n",
              "      <td>0</td>\n",
              "      <td>0</td>\n",
              "      <td>0</td>\n",
              "      <td>0</td>\n",
              "      <td>0</td>\n",
              "    </tr>\n",
              "    <tr>\n",
              "      <th>3321</th>\n",
              "      <td>0.427277</td>\n",
              "      <td>0.948551</td>\n",
              "      <td>1</td>\n",
              "      <td>0</td>\n",
              "      <td>16.0</td>\n",
              "      <td>0.0</td>\n",
              "      <td>0</td>\n",
              "      <td>1</td>\n",
              "      <td>1</td>\n",
              "      <td>0</td>\n",
              "      <td>0</td>\n",
              "      <td>0</td>\n",
              "      <td>0</td>\n",
              "      <td>0</td>\n",
              "      <td>0</td>\n",
              "      <td>0</td>\n",
              "      <td>0</td>\n",
              "      <td>0</td>\n",
              "      <td>0</td>\n",
              "      <td>0</td>\n",
              "      <td>0</td>\n",
              "      <td>0</td>\n",
              "      <td>1</td>\n",
              "      <td>0</td>\n",
              "      <td>0</td>\n",
              "      <td>0</td>\n",
              "      <td>0</td>\n",
              "      <td>0</td>\n",
              "      <td>0</td>\n",
              "      <td>0</td>\n",
              "      <td>0</td>\n",
              "      <td>0</td>\n",
              "      <td>0</td>\n",
              "      <td>0</td>\n",
              "      <td>0</td>\n",
              "      <td>1</td>\n",
              "      <td>0</td>\n",
              "      <td>0</td>\n",
              "      <td>0</td>\n",
              "      <td>0</td>\n",
              "      <td>0</td>\n",
              "      <td>0</td>\n",
              "      <td>0</td>\n",
              "      <td>0</td>\n",
              "      <td>0</td>\n",
              "      <td>1</td>\n",
              "      <td>0</td>\n",
              "      <td>0</td>\n",
              "      <td>0</td>\n",
              "      <td>0</td>\n",
              "      <td>0</td>\n",
              "      <td>0</td>\n",
              "      <td>0</td>\n",
              "      <td>0</td>\n",
              "      <td>0</td>\n",
              "      <td>1</td>\n",
              "      <td>0</td>\n",
              "      <td>0</td>\n",
              "      <td>0</td>\n",
              "      <td>0</td>\n",
              "      <td>0</td>\n",
              "      <td>0</td>\n",
              "      <td>0</td>\n",
              "      <td>0</td>\n",
              "      <td>0</td>\n",
              "      <td>0</td>\n",
              "      <td>0</td>\n",
              "      <td>0</td>\n",
              "      <td>0</td>\n",
              "    </tr>\n",
              "    <tr>\n",
              "      <th>3322</th>\n",
              "      <td>-0.240103</td>\n",
              "      <td>0.066669</td>\n",
              "      <td>1</td>\n",
              "      <td>1</td>\n",
              "      <td>20.0</td>\n",
              "      <td>19.0</td>\n",
              "      <td>0</td>\n",
              "      <td>0</td>\n",
              "      <td>0</td>\n",
              "      <td>1</td>\n",
              "      <td>0</td>\n",
              "      <td>0</td>\n",
              "      <td>0</td>\n",
              "      <td>0</td>\n",
              "      <td>0</td>\n",
              "      <td>0</td>\n",
              "      <td>0</td>\n",
              "      <td>0</td>\n",
              "      <td>0</td>\n",
              "      <td>0</td>\n",
              "      <td>0</td>\n",
              "      <td>0</td>\n",
              "      <td>0</td>\n",
              "      <td>0</td>\n",
              "      <td>1</td>\n",
              "      <td>0</td>\n",
              "      <td>0</td>\n",
              "      <td>0</td>\n",
              "      <td>1</td>\n",
              "      <td>0</td>\n",
              "      <td>0</td>\n",
              "      <td>0</td>\n",
              "      <td>0</td>\n",
              "      <td>0</td>\n",
              "      <td>0</td>\n",
              "      <td>0</td>\n",
              "      <td>0</td>\n",
              "      <td>0</td>\n",
              "      <td>0</td>\n",
              "      <td>0</td>\n",
              "      <td>0</td>\n",
              "      <td>0</td>\n",
              "      <td>1</td>\n",
              "      <td>0</td>\n",
              "      <td>0</td>\n",
              "      <td>1</td>\n",
              "      <td>0</td>\n",
              "      <td>0</td>\n",
              "      <td>0</td>\n",
              "      <td>0</td>\n",
              "      <td>0</td>\n",
              "      <td>0</td>\n",
              "      <td>0</td>\n",
              "      <td>0</td>\n",
              "      <td>0</td>\n",
              "      <td>1</td>\n",
              "      <td>0</td>\n",
              "      <td>0</td>\n",
              "      <td>0</td>\n",
              "      <td>0</td>\n",
              "      <td>0</td>\n",
              "      <td>0</td>\n",
              "      <td>0</td>\n",
              "      <td>0</td>\n",
              "      <td>0</td>\n",
              "      <td>0</td>\n",
              "      <td>0</td>\n",
              "      <td>1</td>\n",
              "      <td>0</td>\n",
              "    </tr>\n",
              "  </tbody>\n",
              "</table>\n",
              "<p>3086 rows × 69 columns</p>\n",
              "</div>"
            ],
            "text/plain": [
              "           Age       BMI DM_history  ... pN_41  pN_42  pN_9999\n",
              "2     0.760967 -2.083279          0  ...     0      0        0\n",
              "3    -0.073258  0.115663          0  ...     1      0        0\n",
              "4    -1.574864 -0.475141          0  ...     0      0        0\n",
              "5     0.427277 -0.178298          1  ...     0      0        0\n",
              "6     0.427277 -0.769102          0  ...     0      0        0\n",
              "...        ...       ...        ...  ...   ...    ...      ...\n",
              "3317  0.927812 -1.429072          0  ...     0      1        0\n",
              "3318  1.094657  0.020558          0  ...     0      0        0\n",
              "3319  1.094657 -0.512606          0  ...     0      0        0\n",
              "3321  0.427277  0.948551          1  ...     0      0        0\n",
              "3322 -0.240103  0.066669          1  ...     0      1        0\n",
              "\n",
              "[3086 rows x 69 columns]"
            ]
          },
          "metadata": {
            "tags": []
          },
          "execution_count": 63
        }
      ]
    },
    {
      "cell_type": "code",
      "metadata": {
        "id": "lSDhiQSX1Fof"
      },
      "source": [
        "from sklearn.model_selection import train_test_split\r\n",
        "X_train, X_test, y_train, y_test = train_test_split(\r\n",
        "    features, target, random_state=0\r\n",
        ")"
      ],
      "execution_count": 64,
      "outputs": []
    },
    {
      "cell_type": "code",
      "metadata": {
        "colab": {
          "base_uri": "https://localhost:8080/"
        },
        "id": "WUJsSaV_ZTv_",
        "outputId": "2c6e9f95-760f-43f9-bcf9-7e7752dff366"
      },
      "source": [
        "list(df.columns.values)"
      ],
      "execution_count": 65,
      "outputs": [
        {
          "output_type": "execute_result",
          "data": {
            "text/plain": [
              "['Age',\n",
              " 'Sex',\n",
              " 'ASA',\n",
              " 'BMI',\n",
              " 'DM_history',\n",
              " 'Pulmonary_disease',\n",
              " 'Liver_disease',\n",
              " 'Kidney_disease',\n",
              " 'Smoking_history',\n",
              " 'Prior_Dx_cancer',\n",
              " 'pT',\n",
              " 'pM',\n",
              " 'pTNM',\n",
              " 'K-ras',\n",
              " 'N-ras',\n",
              " 'BRAF',\n",
              " 'LVI',\n",
              " 'PNI',\n",
              " 'pN',\n",
              " 'Harvested_LN',\n",
              " 'Positive_LN',\n",
              " 'Postop_Chemo_Regimen']"
            ]
          },
          "metadata": {
            "tags": []
          },
          "execution_count": 65
        }
      ]
    },
    {
      "cell_type": "code",
      "metadata": {
        "id": "pyl5N-2w0wgq",
        "colab": {
          "base_uri": "https://localhost:8080/"
        },
        "outputId": "7a53dd92-38a1-4e68-aea9-b5bf6c17666f"
      },
      "source": [
        "\r\n",
        "# https://somjang.tistory.com/entry/LGBMClassifier-ValueError-DataFramedtypes-for-data-must-be-int-float-or-bool-Did-not-expect-the-data-types-in-the-following-fields-%ED%95%B4%EA%B2%B0%EB%B0%A9%EB%B2%95\r\n",
        "target_col = 'Postop_Chemo_Regimen'\r\n",
        "target = df[target_col]\r\n",
        "# features = df[['Age', 'Sex', 'ASA', 'BMI', 'DM_history', 'Pulmonary_disease',\r\n",
        "#         'Liver_disease', 'Kidney_disease', 'Smoking_history',\r\n",
        "#         'Prior_Dx_cancer', 'Hereditary_colorectal_tumor',\r\n",
        "#         'Perforation', 'Obstruction', 'Emergency',\r\n",
        "#         'pT','pM', 'pTNM', 'K-ras', 'N-ras', 'BRAF']]\r\n",
        "features = df[['Age',\r\n",
        " 'Sex',\r\n",
        " 'ASA',\r\n",
        " 'BMI',\r\n",
        " 'Pulmonary_disease',\r\n",
        "#  'Liver_disease',\r\n",
        "#  'Kidney_disease',\r\n",
        " 'Smoking_history',\r\n",
        " 'Prior_Dx_cancer',\r\n",
        " 'pT',\r\n",
        " 'pM',\r\n",
        " 'pTNM',\r\n",
        " 'K-ras',\r\n",
        " 'N-ras',\r\n",
        " 'BRAF',\r\n",
        " 'LVI',\r\n",
        " 'PNI',\r\n",
        " 'pN',\r\n",
        " 'Harvested_LN',\r\n",
        " 'Positive_LN']]\r\n",
        "features = features.astype(int)\r\n",
        "target.value_counts()\r\n",
        "features.value_counts()\r\n"
      ],
      "execution_count": 66,
      "outputs": [
        {
          "output_type": "execute_result",
          "data": {
            "text/plain": [
              "Age  Sex  ASA  BMI  Pulmonary_disease  Liver_disease  Kidney_disease  Smoking_history  Prior_Dx_cancer  pT  pM  pTNM  K-ras  N-ras  BRAF  LVI  PNI  pN  Harvested_LN  Positive_LN\n",
              " 0   1    2     0   0                  0              0               0                2                6   1   21    22     1      1     32   2    2   15            0              3\n",
              "                                                                                                                      21     1      1     32   2    2   17            0              3\n",
              "                                                                      1                2                6   1   21    21     1      1     32   2    2   17            0              2\n",
              "                                                                      0                2                6   1   32    21     1      1     32   2    32  12            2              2\n",
              "     2    2     0   0                  0              0               0                0                6   1   21    22     1      1     32   2    2   16            0              2\n",
              "                                                                                                                                                                                    ..\n",
              "                                                                                       1                6   1   32    21     21     21    31   2    41  24            4              1\n",
              "                                                                                                                21    22     21     21    32   1    2   17            0              1\n",
              "                                                                                                                      21     21     21    32   2    2   24            0              1\n",
              "                                                                                                                                    1     31   2    2   42            0              1\n",
              "-4   2    2    -2   0                  0              0               2                0                71  1   32    21     1      1     31   1    32  86            2              1\n",
              "Length: 3041, dtype: int64"
            ]
          },
          "metadata": {
            "tags": []
          },
          "execution_count": 66
        }
      ]
    },
    {
      "cell_type": "code",
      "metadata": {
        "id": "bvdxib6SwaYZ",
        "colab": {
          "base_uri": "https://localhost:8080/"
        },
        "outputId": "e8c0dd52-49f3-4cbc-fa63-a4dbe396001a"
      },
      "source": [
        "features.isnull().sum()"
      ],
      "execution_count": 67,
      "outputs": [
        {
          "output_type": "execute_result",
          "data": {
            "text/plain": [
              "Age                  0\n",
              "Sex                  0\n",
              "ASA                  0\n",
              "BMI                  0\n",
              "Pulmonary_disease    0\n",
              "Liver_disease        0\n",
              "Kidney_disease       0\n",
              "Smoking_history      0\n",
              "Prior_Dx_cancer      0\n",
              "pT                   0\n",
              "pM                   0\n",
              "pTNM                 0\n",
              "K-ras                0\n",
              "N-ras                0\n",
              "BRAF                 0\n",
              "LVI                  0\n",
              "PNI                  0\n",
              "pN                   0\n",
              "Harvested_LN         0\n",
              "Positive_LN          0\n",
              "dtype: int64"
            ]
          },
          "metadata": {
            "tags": []
          },
          "execution_count": 67
        }
      ]
    },
    {
      "cell_type": "code",
      "metadata": {
        "id": "0NbJMcr3qZJM"
      },
      "source": [
        ""
      ],
      "execution_count": 67,
      "outputs": []
    },
    {
      "cell_type": "code",
      "metadata": {
        "id": "8xXEIGVO0wIs",
        "colab": {
          "base_uri": "https://localhost:8080/"
        },
        "outputId": "8093393a-a5ce-4451-c63b-ef9c4d3d431f"
      },
      "source": [
        "#LGBM\r\n",
        "import lightgbm as lgb\r\n",
        "from sklearn.preprocessing import LabelEncoder\r\n",
        "\r\n",
        "\r\n",
        "for col in X_train.columns:\r\n",
        "  X_train[col] = X_train[col].astype(int)\r\n",
        "y_train = y_train.astype(int)\r\n",
        "\r\n",
        "for col in X_test.columns:\r\n",
        "  X_test[col] = X_test[col].astype(int)\r\n",
        "y_test = y_test.astype(int)\r\n",
        "\r\n",
        "# lgbm_wrapper = LGBMClassifier(max_depth=100,\r\n",
        "#                               objective='multiclass',\r\n",
        "#                               # tweedie_variance_power = 1.1,\r\n",
        "#                               # sub_row=0.75,\r\n",
        "#                               # lambda_l2 = 0.1,\r\n",
        "#                               boosting_type='goss',\r\n",
        "#                               learning_rate=0.014,\r\n",
        "#                               early_stopping_rounds=100,\r\n",
        "#                               max_leaves = 100,\r\n",
        "#                               min_data_in_leaf = 2,\r\n",
        "#                               n_estimators = 200,\r\n",
        "#                               # bagging_fraction = 0.6,\r\n",
        "#                               # feature_fraction = 0.7,\r\n",
        "#                               # bagging_freq = 1,\r\n",
        "#                               # bagging_seed = 2018,\r\n",
        "#                               # random_state = 95,\r\n",
        "#                               )\r\n",
        "lgbm_params = {'max_depth' : [100, 1000],\r\n",
        "               'objective' : ['multiclass','regression'],\r\n",
        "               'learning_rate' : [0.017, 0.014],\r\n",
        "               'num_iterations' : [3000],\r\n",
        "               'boosting_type' : ['dart', 'goss','tweedie'],\r\n",
        "               'early_stopping_round' : [300],\r\n",
        "               'n_estimators':[200],\r\n",
        "               'num_leaves' :[100],}\r\n",
        "lgbm_wrapper = LGBMClassifier()\r\n",
        "lgbm_go = GridSearchCV(lgbm_wrapper, param_grid = lgbm_params, cv=3, refit=True)\r\n",
        "evals = [(X_test, y_test)]\r\n",
        "# lgbm_wrapper.fit(X_train, y_train,\r\n",
        "#                  eval_metric='multi_logloss',\r\n",
        "#                  eval_set=[(X_test, y_test)],\r\n",
        "#                  verbose=300)\r\n",
        "lgbm_go.fit(X_train, y_train, eval_metric='multi_logloss',\r\n",
        "            eval_set=[(X_test, y_test)], \r\n",
        "            verbose=300)"
      ],
      "execution_count": 83,
      "outputs": [
        {
          "output_type": "stream",
          "text": [
            "[300]\tvalid_0's multi_logloss: 1.10267\tvalid_0's multi_logloss: 1.10267\n",
            "[600]\tvalid_0's multi_logloss: 1.09693\tvalid_0's multi_logloss: 1.09693\n",
            "[900]\tvalid_0's multi_logloss: 1.17026\tvalid_0's multi_logloss: 1.17026\n",
            "[1200]\tvalid_0's multi_logloss: 1.22536\tvalid_0's multi_logloss: 1.22536\n",
            "[1500]\tvalid_0's multi_logloss: 1.29872\tvalid_0's multi_logloss: 1.29872\n",
            "[1800]\tvalid_0's multi_logloss: 1.38797\tvalid_0's multi_logloss: 1.38797\n",
            "[2100]\tvalid_0's multi_logloss: 1.50441\tvalid_0's multi_logloss: 1.50441\n",
            "[2400]\tvalid_0's multi_logloss: 1.63578\tvalid_0's multi_logloss: 1.63578\n",
            "[2700]\tvalid_0's multi_logloss: 1.74226\tvalid_0's multi_logloss: 1.74226\n",
            "[3000]\tvalid_0's multi_logloss: 1.85626\tvalid_0's multi_logloss: 1.85626\n",
            "[300]\tvalid_0's multi_logloss: 1.09599\tvalid_0's multi_logloss: 1.09599\n",
            "[600]\tvalid_0's multi_logloss: 1.05769\tvalid_0's multi_logloss: 1.05769\n",
            "[900]\tvalid_0's multi_logloss: 1.06999\tvalid_0's multi_logloss: 1.06999\n",
            "[1200]\tvalid_0's multi_logloss: 1.097\tvalid_0's multi_logloss: 1.097\n",
            "[1500]\tvalid_0's multi_logloss: 1.13265\tvalid_0's multi_logloss: 1.13265\n",
            "[1800]\tvalid_0's multi_logloss: 1.19165\tvalid_0's multi_logloss: 1.19165\n",
            "[2100]\tvalid_0's multi_logloss: 1.24658\tvalid_0's multi_logloss: 1.24658\n",
            "[2400]\tvalid_0's multi_logloss: 1.32258\tvalid_0's multi_logloss: 1.32258\n",
            "[2700]\tvalid_0's multi_logloss: 1.38576\tvalid_0's multi_logloss: 1.38576\n",
            "[3000]\tvalid_0's multi_logloss: 1.45828\tvalid_0's multi_logloss: 1.45828\n",
            "[300]\tvalid_0's multi_logloss: 1.00482\tvalid_0's multi_logloss: 1.00482\n",
            "[600]\tvalid_0's multi_logloss: 0.958259\tvalid_0's multi_logloss: 0.958259\n",
            "[900]\tvalid_0's multi_logloss: 0.982998\tvalid_0's multi_logloss: 0.982998\n",
            "[1200]\tvalid_0's multi_logloss: 1.01693\tvalid_0's multi_logloss: 1.01693\n",
            "[1500]\tvalid_0's multi_logloss: 1.05408\tvalid_0's multi_logloss: 1.05408\n",
            "[1800]\tvalid_0's multi_logloss: 1.11276\tvalid_0's multi_logloss: 1.11276\n",
            "[2100]\tvalid_0's multi_logloss: 1.16575\tvalid_0's multi_logloss: 1.16575\n",
            "[2400]\tvalid_0's multi_logloss: 1.22992\tvalid_0's multi_logloss: 1.22992\n",
            "[2700]\tvalid_0's multi_logloss: 1.28876\tvalid_0's multi_logloss: 1.28876\n",
            "[3000]\tvalid_0's multi_logloss: 1.33595\tvalid_0's multi_logloss: 1.33595\n",
            "[300]\tvalid_0's multi_logloss: 1.10267\tvalid_0's multi_logloss: 1.10267\n",
            "[600]\tvalid_0's multi_logloss: 1.09693\tvalid_0's multi_logloss: 1.09693\n",
            "[900]\tvalid_0's multi_logloss: 1.17026\tvalid_0's multi_logloss: 1.17026\n",
            "[1200]\tvalid_0's multi_logloss: 1.22536\tvalid_0's multi_logloss: 1.22536\n",
            "[1500]\tvalid_0's multi_logloss: 1.29872\tvalid_0's multi_logloss: 1.29872\n",
            "[1800]\tvalid_0's multi_logloss: 1.38797\tvalid_0's multi_logloss: 1.38797\n",
            "[2100]\tvalid_0's multi_logloss: 1.50441\tvalid_0's multi_logloss: 1.50441\n",
            "[2400]\tvalid_0's multi_logloss: 1.63578\tvalid_0's multi_logloss: 1.63578\n",
            "[2700]\tvalid_0's multi_logloss: 1.74226\tvalid_0's multi_logloss: 1.74226\n",
            "[3000]\tvalid_0's multi_logloss: 1.85626\tvalid_0's multi_logloss: 1.85626\n",
            "[300]\tvalid_0's multi_logloss: 1.09599\tvalid_0's multi_logloss: 1.09599\n",
            "[600]\tvalid_0's multi_logloss: 1.05769\tvalid_0's multi_logloss: 1.05769\n",
            "[900]\tvalid_0's multi_logloss: 1.06999\tvalid_0's multi_logloss: 1.06999\n",
            "[1200]\tvalid_0's multi_logloss: 1.097\tvalid_0's multi_logloss: 1.097\n",
            "[1500]\tvalid_0's multi_logloss: 1.13265\tvalid_0's multi_logloss: 1.13265\n",
            "[1800]\tvalid_0's multi_logloss: 1.19165\tvalid_0's multi_logloss: 1.19165\n",
            "[2100]\tvalid_0's multi_logloss: 1.24658\tvalid_0's multi_logloss: 1.24658\n",
            "[2400]\tvalid_0's multi_logloss: 1.32258\tvalid_0's multi_logloss: 1.32258\n",
            "[2700]\tvalid_0's multi_logloss: 1.38576\tvalid_0's multi_logloss: 1.38576\n",
            "[3000]\tvalid_0's multi_logloss: 1.45828\tvalid_0's multi_logloss: 1.45828\n",
            "[300]\tvalid_0's multi_logloss: 1.00482\tvalid_0's multi_logloss: 1.00482\n",
            "[600]\tvalid_0's multi_logloss: 0.958259\tvalid_0's multi_logloss: 0.958259\n",
            "[900]\tvalid_0's multi_logloss: 0.982998\tvalid_0's multi_logloss: 0.982998\n",
            "[1200]\tvalid_0's multi_logloss: 1.01693\tvalid_0's multi_logloss: 1.01693\n",
            "[1500]\tvalid_0's multi_logloss: 1.05408\tvalid_0's multi_logloss: 1.05408\n",
            "[1800]\tvalid_0's multi_logloss: 1.11276\tvalid_0's multi_logloss: 1.11276\n",
            "[2100]\tvalid_0's multi_logloss: 1.16575\tvalid_0's multi_logloss: 1.16575\n",
            "[2400]\tvalid_0's multi_logloss: 1.22992\tvalid_0's multi_logloss: 1.22992\n",
            "[2700]\tvalid_0's multi_logloss: 1.28876\tvalid_0's multi_logloss: 1.28876\n",
            "[3000]\tvalid_0's multi_logloss: 1.33595\tvalid_0's multi_logloss: 1.33595\n",
            "[300]\tvalid_0's multi_logloss: 1.10267\tvalid_0's multi_logloss: 1.10267\n",
            "[600]\tvalid_0's multi_logloss: 1.09693\tvalid_0's multi_logloss: 1.09693\n",
            "[900]\tvalid_0's multi_logloss: 1.17026\tvalid_0's multi_logloss: 1.17026\n",
            "[1200]\tvalid_0's multi_logloss: 1.22536\tvalid_0's multi_logloss: 1.22536\n",
            "[1500]\tvalid_0's multi_logloss: 1.29872\tvalid_0's multi_logloss: 1.29872\n",
            "[1800]\tvalid_0's multi_logloss: 1.38797\tvalid_0's multi_logloss: 1.38797\n",
            "[2100]\tvalid_0's multi_logloss: 1.50441\tvalid_0's multi_logloss: 1.50441\n",
            "[2400]\tvalid_0's multi_logloss: 1.63578\tvalid_0's multi_logloss: 1.63578\n",
            "[2700]\tvalid_0's multi_logloss: 1.74226\tvalid_0's multi_logloss: 1.74226\n",
            "[3000]\tvalid_0's multi_logloss: 1.85626\tvalid_0's multi_logloss: 1.85626\n",
            "[300]\tvalid_0's multi_logloss: 1.09599\tvalid_0's multi_logloss: 1.09599\n",
            "[600]\tvalid_0's multi_logloss: 1.05769\tvalid_0's multi_logloss: 1.05769\n",
            "[900]\tvalid_0's multi_logloss: 1.06999\tvalid_0's multi_logloss: 1.06999\n",
            "[1200]\tvalid_0's multi_logloss: 1.097\tvalid_0's multi_logloss: 1.097\n",
            "[1500]\tvalid_0's multi_logloss: 1.13265\tvalid_0's multi_logloss: 1.13265\n",
            "[1800]\tvalid_0's multi_logloss: 1.19165\tvalid_0's multi_logloss: 1.19165\n",
            "[2100]\tvalid_0's multi_logloss: 1.24658\tvalid_0's multi_logloss: 1.24658\n",
            "[2400]\tvalid_0's multi_logloss: 1.32258\tvalid_0's multi_logloss: 1.32258\n",
            "[2700]\tvalid_0's multi_logloss: 1.38576\tvalid_0's multi_logloss: 1.38576\n",
            "[3000]\tvalid_0's multi_logloss: 1.45828\tvalid_0's multi_logloss: 1.45828\n",
            "[300]\tvalid_0's multi_logloss: 1.00482\tvalid_0's multi_logloss: 1.00482\n",
            "[600]\tvalid_0's multi_logloss: 0.958259\tvalid_0's multi_logloss: 0.958259\n",
            "[900]\tvalid_0's multi_logloss: 0.982998\tvalid_0's multi_logloss: 0.982998\n",
            "[1200]\tvalid_0's multi_logloss: 1.01693\tvalid_0's multi_logloss: 1.01693\n",
            "[1500]\tvalid_0's multi_logloss: 1.05408\tvalid_0's multi_logloss: 1.05408\n",
            "[1800]\tvalid_0's multi_logloss: 1.11276\tvalid_0's multi_logloss: 1.11276\n",
            "[2100]\tvalid_0's multi_logloss: 1.16575\tvalid_0's multi_logloss: 1.16575\n",
            "[2400]\tvalid_0's multi_logloss: 1.22992\tvalid_0's multi_logloss: 1.22992\n",
            "[2700]\tvalid_0's multi_logloss: 1.28876\tvalid_0's multi_logloss: 1.28876\n",
            "[3000]\tvalid_0's multi_logloss: 1.33595\tvalid_0's multi_logloss: 1.33595\n",
            "[300]\tvalid_0's multi_logloss: 1.10267\tvalid_0's multi_logloss: 1.10267\n",
            "[600]\tvalid_0's multi_logloss: 1.09693\tvalid_0's multi_logloss: 1.09693\n",
            "[900]\tvalid_0's multi_logloss: 1.17026\tvalid_0's multi_logloss: 1.17026\n",
            "[1200]\tvalid_0's multi_logloss: 1.22536\tvalid_0's multi_logloss: 1.22536\n",
            "[1500]\tvalid_0's multi_logloss: 1.29872\tvalid_0's multi_logloss: 1.29872\n",
            "[1800]\tvalid_0's multi_logloss: 1.38797\tvalid_0's multi_logloss: 1.38797\n",
            "[2100]\tvalid_0's multi_logloss: 1.50441\tvalid_0's multi_logloss: 1.50441\n",
            "[2400]\tvalid_0's multi_logloss: 1.63578\tvalid_0's multi_logloss: 1.63578\n",
            "[2700]\tvalid_0's multi_logloss: 1.74226\tvalid_0's multi_logloss: 1.74226\n",
            "[3000]\tvalid_0's multi_logloss: 1.85626\tvalid_0's multi_logloss: 1.85626\n",
            "[300]\tvalid_0's multi_logloss: 1.09599\tvalid_0's multi_logloss: 1.09599\n",
            "[600]\tvalid_0's multi_logloss: 1.05769\tvalid_0's multi_logloss: 1.05769\n",
            "[900]\tvalid_0's multi_logloss: 1.06999\tvalid_0's multi_logloss: 1.06999\n",
            "[1200]\tvalid_0's multi_logloss: 1.097\tvalid_0's multi_logloss: 1.097\n",
            "[1500]\tvalid_0's multi_logloss: 1.13265\tvalid_0's multi_logloss: 1.13265\n",
            "[1800]\tvalid_0's multi_logloss: 1.19165\tvalid_0's multi_logloss: 1.19165\n",
            "[2100]\tvalid_0's multi_logloss: 1.24658\tvalid_0's multi_logloss: 1.24658\n",
            "[2400]\tvalid_0's multi_logloss: 1.32258\tvalid_0's multi_logloss: 1.32258\n",
            "[2700]\tvalid_0's multi_logloss: 1.38576\tvalid_0's multi_logloss: 1.38576\n",
            "[3000]\tvalid_0's multi_logloss: 1.45828\tvalid_0's multi_logloss: 1.45828\n",
            "[300]\tvalid_0's multi_logloss: 1.00482\tvalid_0's multi_logloss: 1.00482\n",
            "[600]\tvalid_0's multi_logloss: 0.958259\tvalid_0's multi_logloss: 0.958259\n",
            "[900]\tvalid_0's multi_logloss: 0.982998\tvalid_0's multi_logloss: 0.982998\n",
            "[1200]\tvalid_0's multi_logloss: 1.01693\tvalid_0's multi_logloss: 1.01693\n",
            "[1500]\tvalid_0's multi_logloss: 1.05408\tvalid_0's multi_logloss: 1.05408\n",
            "[1800]\tvalid_0's multi_logloss: 1.11276\tvalid_0's multi_logloss: 1.11276\n",
            "[2100]\tvalid_0's multi_logloss: 1.16575\tvalid_0's multi_logloss: 1.16575\n",
            "[2400]\tvalid_0's multi_logloss: 1.22992\tvalid_0's multi_logloss: 1.22992\n",
            "[2700]\tvalid_0's multi_logloss: 1.28876\tvalid_0's multi_logloss: 1.28876\n",
            "[3000]\tvalid_0's multi_logloss: 1.33595\tvalid_0's multi_logloss: 1.33595\n",
            "[300]\tvalid_0's multi_logloss: 1.12992\tvalid_0's multi_logloss: 1.12992\n",
            "[600]\tvalid_0's multi_logloss: 1.08332\tvalid_0's multi_logloss: 1.08332\n",
            "[900]\tvalid_0's multi_logloss: 1.12787\tvalid_0's multi_logloss: 1.12787\n",
            "[1200]\tvalid_0's multi_logloss: 1.17892\tvalid_0's multi_logloss: 1.17892\n",
            "[1500]\tvalid_0's multi_logloss: 1.22469\tvalid_0's multi_logloss: 1.22469\n",
            "[1800]\tvalid_0's multi_logloss: 1.3013\tvalid_0's multi_logloss: 1.3013\n",
            "[2100]\tvalid_0's multi_logloss: 1.37347\tvalid_0's multi_logloss: 1.37347\n",
            "[2400]\tvalid_0's multi_logloss: 1.48198\tvalid_0's multi_logloss: 1.48198\n",
            "[2700]\tvalid_0's multi_logloss: 1.56135\tvalid_0's multi_logloss: 1.56135\n",
            "[3000]\tvalid_0's multi_logloss: 1.66496\tvalid_0's multi_logloss: 1.66496\n",
            "[300]\tvalid_0's multi_logloss: 1.12214\tvalid_0's multi_logloss: 1.12214\n",
            "[600]\tvalid_0's multi_logloss: 1.06875\tvalid_0's multi_logloss: 1.06875\n",
            "[900]\tvalid_0's multi_logloss: 1.06538\tvalid_0's multi_logloss: 1.06538\n",
            "[1200]\tvalid_0's multi_logloss: 1.07522\tvalid_0's multi_logloss: 1.07522\n",
            "[1500]\tvalid_0's multi_logloss: 1.10237\tvalid_0's multi_logloss: 1.10237\n",
            "[1800]\tvalid_0's multi_logloss: 1.14139\tvalid_0's multi_logloss: 1.14139\n",
            "[2100]\tvalid_0's multi_logloss: 1.17838\tvalid_0's multi_logloss: 1.17838\n",
            "[2400]\tvalid_0's multi_logloss: 1.23335\tvalid_0's multi_logloss: 1.23335\n",
            "[2700]\tvalid_0's multi_logloss: 1.2803\tvalid_0's multi_logloss: 1.2803\n",
            "[3000]\tvalid_0's multi_logloss: 1.32737\tvalid_0's multi_logloss: 1.32737\n",
            "[300]\tvalid_0's multi_logloss: 1.03337\tvalid_0's multi_logloss: 1.03337\n",
            "[600]\tvalid_0's multi_logloss: 0.962366\tvalid_0's multi_logloss: 0.962366\n",
            "[900]\tvalid_0's multi_logloss: 0.966193\tvalid_0's multi_logloss: 0.966193\n",
            "[1200]\tvalid_0's multi_logloss: 0.98748\tvalid_0's multi_logloss: 0.98748\n",
            "[1500]\tvalid_0's multi_logloss: 1.01819\tvalid_0's multi_logloss: 1.01819\n",
            "[1800]\tvalid_0's multi_logloss: 1.06051\tvalid_0's multi_logloss: 1.06051\n",
            "[2100]\tvalid_0's multi_logloss: 1.09924\tvalid_0's multi_logloss: 1.09924\n",
            "[2400]\tvalid_0's multi_logloss: 1.14619\tvalid_0's multi_logloss: 1.14619\n",
            "[2700]\tvalid_0's multi_logloss: 1.18077\tvalid_0's multi_logloss: 1.18077\n",
            "[3000]\tvalid_0's multi_logloss: 1.22434\tvalid_0's multi_logloss: 1.22434\n",
            "[300]\tvalid_0's multi_logloss: 1.12992\tvalid_0's multi_logloss: 1.12992\n",
            "[600]\tvalid_0's multi_logloss: 1.08332\tvalid_0's multi_logloss: 1.08332\n",
            "[900]\tvalid_0's multi_logloss: 1.12787\tvalid_0's multi_logloss: 1.12787\n",
            "[1200]\tvalid_0's multi_logloss: 1.17892\tvalid_0's multi_logloss: 1.17892\n",
            "[1500]\tvalid_0's multi_logloss: 1.22469\tvalid_0's multi_logloss: 1.22469\n",
            "[1800]\tvalid_0's multi_logloss: 1.3013\tvalid_0's multi_logloss: 1.3013\n",
            "[2100]\tvalid_0's multi_logloss: 1.37347\tvalid_0's multi_logloss: 1.37347\n",
            "[2400]\tvalid_0's multi_logloss: 1.48198\tvalid_0's multi_logloss: 1.48198\n",
            "[2700]\tvalid_0's multi_logloss: 1.56135\tvalid_0's multi_logloss: 1.56135\n",
            "[3000]\tvalid_0's multi_logloss: 1.66496\tvalid_0's multi_logloss: 1.66496\n",
            "[300]\tvalid_0's multi_logloss: 1.12214\tvalid_0's multi_logloss: 1.12214\n",
            "[600]\tvalid_0's multi_logloss: 1.06875\tvalid_0's multi_logloss: 1.06875\n",
            "[900]\tvalid_0's multi_logloss: 1.06538\tvalid_0's multi_logloss: 1.06538\n",
            "[1200]\tvalid_0's multi_logloss: 1.07522\tvalid_0's multi_logloss: 1.07522\n",
            "[1500]\tvalid_0's multi_logloss: 1.10237\tvalid_0's multi_logloss: 1.10237\n",
            "[1800]\tvalid_0's multi_logloss: 1.14139\tvalid_0's multi_logloss: 1.14139\n",
            "[2100]\tvalid_0's multi_logloss: 1.17838\tvalid_0's multi_logloss: 1.17838\n",
            "[2400]\tvalid_0's multi_logloss: 1.23335\tvalid_0's multi_logloss: 1.23335\n",
            "[2700]\tvalid_0's multi_logloss: 1.2803\tvalid_0's multi_logloss: 1.2803\n",
            "[3000]\tvalid_0's multi_logloss: 1.32737\tvalid_0's multi_logloss: 1.32737\n",
            "[300]\tvalid_0's multi_logloss: 1.03337\tvalid_0's multi_logloss: 1.03337\n",
            "[600]\tvalid_0's multi_logloss: 0.962366\tvalid_0's multi_logloss: 0.962366\n",
            "[900]\tvalid_0's multi_logloss: 0.966193\tvalid_0's multi_logloss: 0.966193\n",
            "[1200]\tvalid_0's multi_logloss: 0.98748\tvalid_0's multi_logloss: 0.98748\n",
            "[1500]\tvalid_0's multi_logloss: 1.01819\tvalid_0's multi_logloss: 1.01819\n",
            "[1800]\tvalid_0's multi_logloss: 1.06051\tvalid_0's multi_logloss: 1.06051\n",
            "[2100]\tvalid_0's multi_logloss: 1.09924\tvalid_0's multi_logloss: 1.09924\n",
            "[2400]\tvalid_0's multi_logloss: 1.14619\tvalid_0's multi_logloss: 1.14619\n",
            "[2700]\tvalid_0's multi_logloss: 1.18077\tvalid_0's multi_logloss: 1.18077\n",
            "[3000]\tvalid_0's multi_logloss: 1.22434\tvalid_0's multi_logloss: 1.22434\n",
            "[300]\tvalid_0's multi_logloss: 1.12992\tvalid_0's multi_logloss: 1.12992\n",
            "[600]\tvalid_0's multi_logloss: 1.08332\tvalid_0's multi_logloss: 1.08332\n",
            "[900]\tvalid_0's multi_logloss: 1.12787\tvalid_0's multi_logloss: 1.12787\n",
            "[1200]\tvalid_0's multi_logloss: 1.17892\tvalid_0's multi_logloss: 1.17892\n",
            "[1500]\tvalid_0's multi_logloss: 1.22469\tvalid_0's multi_logloss: 1.22469\n",
            "[1800]\tvalid_0's multi_logloss: 1.3013\tvalid_0's multi_logloss: 1.3013\n",
            "[2100]\tvalid_0's multi_logloss: 1.37347\tvalid_0's multi_logloss: 1.37347\n",
            "[2400]\tvalid_0's multi_logloss: 1.48198\tvalid_0's multi_logloss: 1.48198\n",
            "[2700]\tvalid_0's multi_logloss: 1.56135\tvalid_0's multi_logloss: 1.56135\n",
            "[3000]\tvalid_0's multi_logloss: 1.66496\tvalid_0's multi_logloss: 1.66496\n",
            "[300]\tvalid_0's multi_logloss: 1.12214\tvalid_0's multi_logloss: 1.12214\n",
            "[600]\tvalid_0's multi_logloss: 1.06875\tvalid_0's multi_logloss: 1.06875\n",
            "[900]\tvalid_0's multi_logloss: 1.06538\tvalid_0's multi_logloss: 1.06538\n",
            "[1200]\tvalid_0's multi_logloss: 1.07522\tvalid_0's multi_logloss: 1.07522\n",
            "[1500]\tvalid_0's multi_logloss: 1.10237\tvalid_0's multi_logloss: 1.10237\n",
            "[1800]\tvalid_0's multi_logloss: 1.14139\tvalid_0's multi_logloss: 1.14139\n",
            "[2100]\tvalid_0's multi_logloss: 1.17838\tvalid_0's multi_logloss: 1.17838\n",
            "[2400]\tvalid_0's multi_logloss: 1.23335\tvalid_0's multi_logloss: 1.23335\n",
            "[2700]\tvalid_0's multi_logloss: 1.2803\tvalid_0's multi_logloss: 1.2803\n",
            "[3000]\tvalid_0's multi_logloss: 1.32737\tvalid_0's multi_logloss: 1.32737\n",
            "[300]\tvalid_0's multi_logloss: 1.03337\tvalid_0's multi_logloss: 1.03337\n",
            "[600]\tvalid_0's multi_logloss: 0.962366\tvalid_0's multi_logloss: 0.962366\n",
            "[900]\tvalid_0's multi_logloss: 0.966193\tvalid_0's multi_logloss: 0.966193\n",
            "[1200]\tvalid_0's multi_logloss: 0.98748\tvalid_0's multi_logloss: 0.98748\n",
            "[1500]\tvalid_0's multi_logloss: 1.01819\tvalid_0's multi_logloss: 1.01819\n",
            "[1800]\tvalid_0's multi_logloss: 1.06051\tvalid_0's multi_logloss: 1.06051\n",
            "[2100]\tvalid_0's multi_logloss: 1.09924\tvalid_0's multi_logloss: 1.09924\n",
            "[2400]\tvalid_0's multi_logloss: 1.14619\tvalid_0's multi_logloss: 1.14619\n",
            "[2700]\tvalid_0's multi_logloss: 1.18077\tvalid_0's multi_logloss: 1.18077\n",
            "[3000]\tvalid_0's multi_logloss: 1.22434\tvalid_0's multi_logloss: 1.22434\n",
            "[300]\tvalid_0's multi_logloss: 1.12992\tvalid_0's multi_logloss: 1.12992\n",
            "[600]\tvalid_0's multi_logloss: 1.08332\tvalid_0's multi_logloss: 1.08332\n",
            "[900]\tvalid_0's multi_logloss: 1.12787\tvalid_0's multi_logloss: 1.12787\n",
            "[1200]\tvalid_0's multi_logloss: 1.17892\tvalid_0's multi_logloss: 1.17892\n",
            "[1500]\tvalid_0's multi_logloss: 1.22469\tvalid_0's multi_logloss: 1.22469\n",
            "[1800]\tvalid_0's multi_logloss: 1.3013\tvalid_0's multi_logloss: 1.3013\n",
            "[2100]\tvalid_0's multi_logloss: 1.37347\tvalid_0's multi_logloss: 1.37347\n",
            "[2400]\tvalid_0's multi_logloss: 1.48198\tvalid_0's multi_logloss: 1.48198\n",
            "[2700]\tvalid_0's multi_logloss: 1.56135\tvalid_0's multi_logloss: 1.56135\n",
            "[3000]\tvalid_0's multi_logloss: 1.66496\tvalid_0's multi_logloss: 1.66496\n",
            "[300]\tvalid_0's multi_logloss: 1.12214\tvalid_0's multi_logloss: 1.12214\n",
            "[600]\tvalid_0's multi_logloss: 1.06875\tvalid_0's multi_logloss: 1.06875\n",
            "[900]\tvalid_0's multi_logloss: 1.06538\tvalid_0's multi_logloss: 1.06538\n",
            "[1200]\tvalid_0's multi_logloss: 1.07522\tvalid_0's multi_logloss: 1.07522\n",
            "[1500]\tvalid_0's multi_logloss: 1.10237\tvalid_0's multi_logloss: 1.10237\n",
            "[1800]\tvalid_0's multi_logloss: 1.14139\tvalid_0's multi_logloss: 1.14139\n",
            "[2100]\tvalid_0's multi_logloss: 1.17838\tvalid_0's multi_logloss: 1.17838\n",
            "[2400]\tvalid_0's multi_logloss: 1.23335\tvalid_0's multi_logloss: 1.23335\n",
            "[2700]\tvalid_0's multi_logloss: 1.2803\tvalid_0's multi_logloss: 1.2803\n",
            "[3000]\tvalid_0's multi_logloss: 1.32737\tvalid_0's multi_logloss: 1.32737\n",
            "[300]\tvalid_0's multi_logloss: 1.03337\tvalid_0's multi_logloss: 1.03337\n",
            "[600]\tvalid_0's multi_logloss: 0.962366\tvalid_0's multi_logloss: 0.962366\n",
            "[900]\tvalid_0's multi_logloss: 0.966193\tvalid_0's multi_logloss: 0.966193\n",
            "[1200]\tvalid_0's multi_logloss: 0.98748\tvalid_0's multi_logloss: 0.98748\n",
            "[1500]\tvalid_0's multi_logloss: 1.01819\tvalid_0's multi_logloss: 1.01819\n",
            "[1800]\tvalid_0's multi_logloss: 1.06051\tvalid_0's multi_logloss: 1.06051\n",
            "[2100]\tvalid_0's multi_logloss: 1.09924\tvalid_0's multi_logloss: 1.09924\n",
            "[2400]\tvalid_0's multi_logloss: 1.14619\tvalid_0's multi_logloss: 1.14619\n",
            "[2700]\tvalid_0's multi_logloss: 1.18077\tvalid_0's multi_logloss: 1.18077\n",
            "[3000]\tvalid_0's multi_logloss: 1.22434\tvalid_0's multi_logloss: 1.22434\n",
            "Training until validation scores don't improve for 300 rounds.\n",
            "[300]\tvalid_0's multi_logloss: 1.08549\tvalid_0's multi_logloss: 1.08549\n",
            "Early stopping, best iteration is:\n",
            "[121]\tvalid_0's multi_logloss: 1.01121\tvalid_0's multi_logloss: 1.01121\n",
            "Training until validation scores don't improve for 300 rounds.\n",
            "[300]\tvalid_0's multi_logloss: 1.04111\tvalid_0's multi_logloss: 1.04111\n",
            "Early stopping, best iteration is:\n",
            "[160]\tvalid_0's multi_logloss: 1.02464\tvalid_0's multi_logloss: 1.02464\n",
            "Training until validation scores don't improve for 300 rounds.\n",
            "[300]\tvalid_0's multi_logloss: 0.944164\tvalid_0's multi_logloss: 0.944164\n",
            "Early stopping, best iteration is:\n",
            "[202]\tvalid_0's multi_logloss: 0.932826\tvalid_0's multi_logloss: 0.932826\n",
            "Training until validation scores don't improve for 300 rounds.\n",
            "[300]\tvalid_0's multi_logloss: 1.08549\tvalid_0's multi_logloss: 1.08549\n",
            "Early stopping, best iteration is:\n",
            "[121]\tvalid_0's multi_logloss: 1.01121\tvalid_0's multi_logloss: 1.01121\n",
            "Training until validation scores don't improve for 300 rounds.\n",
            "[300]\tvalid_0's multi_logloss: 1.04111\tvalid_0's multi_logloss: 1.04111\n",
            "Early stopping, best iteration is:\n",
            "[160]\tvalid_0's multi_logloss: 1.02464\tvalid_0's multi_logloss: 1.02464\n",
            "Training until validation scores don't improve for 300 rounds.\n",
            "[300]\tvalid_0's multi_logloss: 0.944164\tvalid_0's multi_logloss: 0.944164\n",
            "Early stopping, best iteration is:\n",
            "[202]\tvalid_0's multi_logloss: 0.932826\tvalid_0's multi_logloss: 0.932826\n",
            "Training until validation scores don't improve for 300 rounds.\n",
            "[300]\tvalid_0's multi_logloss: 1.08549\tvalid_0's multi_logloss: 1.08549\n",
            "Early stopping, best iteration is:\n",
            "[121]\tvalid_0's multi_logloss: 1.01121\tvalid_0's multi_logloss: 1.01121\n",
            "Training until validation scores don't improve for 300 rounds.\n",
            "[300]\tvalid_0's multi_logloss: 1.04111\tvalid_0's multi_logloss: 1.04111\n",
            "Early stopping, best iteration is:\n",
            "[160]\tvalid_0's multi_logloss: 1.02464\tvalid_0's multi_logloss: 1.02464\n",
            "Training until validation scores don't improve for 300 rounds.\n",
            "[300]\tvalid_0's multi_logloss: 0.944164\tvalid_0's multi_logloss: 0.944164\n",
            "Early stopping, best iteration is:\n",
            "[202]\tvalid_0's multi_logloss: 0.932826\tvalid_0's multi_logloss: 0.932826\n",
            "Training until validation scores don't improve for 300 rounds.\n",
            "[300]\tvalid_0's multi_logloss: 1.08549\tvalid_0's multi_logloss: 1.08549\n",
            "Early stopping, best iteration is:\n",
            "[121]\tvalid_0's multi_logloss: 1.01121\tvalid_0's multi_logloss: 1.01121\n",
            "Training until validation scores don't improve for 300 rounds.\n",
            "[300]\tvalid_0's multi_logloss: 1.04111\tvalid_0's multi_logloss: 1.04111\n",
            "Early stopping, best iteration is:\n",
            "[160]\tvalid_0's multi_logloss: 1.02464\tvalid_0's multi_logloss: 1.02464\n",
            "Training until validation scores don't improve for 300 rounds.\n",
            "[300]\tvalid_0's multi_logloss: 0.944164\tvalid_0's multi_logloss: 0.944164\n",
            "Early stopping, best iteration is:\n",
            "[202]\tvalid_0's multi_logloss: 0.932826\tvalid_0's multi_logloss: 0.932826\n",
            "Training until validation scores don't improve for 300 rounds.\n",
            "[300]\tvalid_0's multi_logloss: 1.06349\tvalid_0's multi_logloss: 1.06349\n",
            "Early stopping, best iteration is:\n",
            "[122]\tvalid_0's multi_logloss: 1.01403\tvalid_0's multi_logloss: 1.01403\n",
            "Training until validation scores don't improve for 300 rounds.\n",
            "[300]\tvalid_0's multi_logloss: 1.03097\tvalid_0's multi_logloss: 1.03097\n",
            "Early stopping, best iteration is:\n",
            "[209]\tvalid_0's multi_logloss: 1.02225\tvalid_0's multi_logloss: 1.02225\n",
            "Training until validation scores don't improve for 300 rounds.\n",
            "[300]\tvalid_0's multi_logloss: 0.93596\tvalid_0's multi_logloss: 0.93596\n",
            "Early stopping, best iteration is:\n",
            "[215]\tvalid_0's multi_logloss: 0.931493\tvalid_0's multi_logloss: 0.931493\n",
            "Training until validation scores don't improve for 300 rounds.\n",
            "[300]\tvalid_0's multi_logloss: 1.06349\tvalid_0's multi_logloss: 1.06349\n",
            "Early stopping, best iteration is:\n",
            "[122]\tvalid_0's multi_logloss: 1.01403\tvalid_0's multi_logloss: 1.01403\n",
            "Training until validation scores don't improve for 300 rounds.\n",
            "[300]\tvalid_0's multi_logloss: 1.03097\tvalid_0's multi_logloss: 1.03097\n",
            "Early stopping, best iteration is:\n",
            "[209]\tvalid_0's multi_logloss: 1.02225\tvalid_0's multi_logloss: 1.02225\n",
            "Training until validation scores don't improve for 300 rounds.\n",
            "[300]\tvalid_0's multi_logloss: 0.93596\tvalid_0's multi_logloss: 0.93596\n",
            "Early stopping, best iteration is:\n",
            "[215]\tvalid_0's multi_logloss: 0.931493\tvalid_0's multi_logloss: 0.931493\n",
            "Training until validation scores don't improve for 300 rounds.\n",
            "[300]\tvalid_0's multi_logloss: 1.06349\tvalid_0's multi_logloss: 1.06349\n",
            "Early stopping, best iteration is:\n",
            "[122]\tvalid_0's multi_logloss: 1.01403\tvalid_0's multi_logloss: 1.01403\n",
            "Training until validation scores don't improve for 300 rounds.\n",
            "[300]\tvalid_0's multi_logloss: 1.03097\tvalid_0's multi_logloss: 1.03097\n",
            "Early stopping, best iteration is:\n",
            "[209]\tvalid_0's multi_logloss: 1.02225\tvalid_0's multi_logloss: 1.02225\n",
            "Training until validation scores don't improve for 300 rounds.\n",
            "[300]\tvalid_0's multi_logloss: 0.93596\tvalid_0's multi_logloss: 0.93596\n",
            "Early stopping, best iteration is:\n",
            "[215]\tvalid_0's multi_logloss: 0.931493\tvalid_0's multi_logloss: 0.931493\n",
            "Training until validation scores don't improve for 300 rounds.\n",
            "[300]\tvalid_0's multi_logloss: 1.06349\tvalid_0's multi_logloss: 1.06349\n",
            "Early stopping, best iteration is:\n",
            "[122]\tvalid_0's multi_logloss: 1.01403\tvalid_0's multi_logloss: 1.01403\n",
            "Training until validation scores don't improve for 300 rounds.\n",
            "[300]\tvalid_0's multi_logloss: 1.03097\tvalid_0's multi_logloss: 1.03097\n",
            "Early stopping, best iteration is:\n",
            "[209]\tvalid_0's multi_logloss: 1.02225\tvalid_0's multi_logloss: 1.02225\n",
            "Training until validation scores don't improve for 300 rounds.\n",
            "[300]\tvalid_0's multi_logloss: 0.93596\tvalid_0's multi_logloss: 0.93596\n",
            "Early stopping, best iteration is:\n",
            "[215]\tvalid_0's multi_logloss: 0.931493\tvalid_0's multi_logloss: 0.931493\n",
            "Training until validation scores don't improve for 300 rounds.\n",
            "[300]\tvalid_0's multi_logloss: 0.873121\tvalid_0's multi_logloss: 0.873121\n",
            "[600]\tvalid_0's multi_logloss: 0.886449\tvalid_0's multi_logloss: 0.886449\n",
            "Early stopping, best iteration is:\n",
            "[327]\tvalid_0's multi_logloss: 0.870693\tvalid_0's multi_logloss: 0.870693\n"
          ],
          "name": "stdout"
        },
        {
          "output_type": "execute_result",
          "data": {
            "text/plain": [
              "GridSearchCV(cv=3, error_score=nan,\n",
              "             estimator=LGBMClassifier(boosting_type='gbdt', class_weight=None,\n",
              "                                      colsample_bytree=1.0,\n",
              "                                      importance_type='split',\n",
              "                                      learning_rate=0.1, max_depth=-1,\n",
              "                                      min_child_samples=20,\n",
              "                                      min_child_weight=0.001,\n",
              "                                      min_split_gain=0.0, n_estimators=100,\n",
              "                                      n_jobs=-1, num_leaves=31, objective=None,\n",
              "                                      random_state=None, reg_alpha=0.0,\n",
              "                                      reg_lambda=0.0, silent=Tru...\n",
              "             iid='deprecated', n_jobs=None,\n",
              "             param_grid={'boosting_type': ['dart', 'goss', 'tweedie'],\n",
              "                         'early_stopping_round': [300],\n",
              "                         'learning_rate': [0.017, 0.014],\n",
              "                         'max_depth': [100, 1000], 'n_estimators': [200],\n",
              "                         'num_iterations': [3000], 'num_leaves': [100],\n",
              "                         'objective': ['multiclass', 'regression']},\n",
              "             pre_dispatch='2*n_jobs', refit=True, return_train_score=False,\n",
              "             scoring=None, verbose=0)"
            ]
          },
          "metadata": {
            "tags": []
          },
          "execution_count": 83
        }
      ]
    },
    {
      "cell_type": "code",
      "metadata": {
        "id": "lJFuXYVH9tlp",
        "colab": {
          "base_uri": "https://localhost:8080/"
        },
        "outputId": "4144ec57-0134-42de-a8ca-81a30acf9a17"
      },
      "source": [
        "from sklearn.metrics import accuracy_score, f1_score, precision_score, recall_score, classification_report\r\n",
        "\r\n",
        "# y_pred = lgbm_wrapper.predict(X_test)\r\n",
        "y_pred = lgbm_go.predict(X_test)\r\n",
        "\r\n",
        "print(classification_report(y_test,y_pred))\r\n",
        "\r\n",
        "print(precision_score(y_test, y_pred,average='macro'))\r\n",
        "print(recall_score(y_test, y_pred,average='macro'))\r\n",
        "print(f1_score(y_test, y_pred,average='macro'))\r\n",
        "print(accuracy_score(y_test, y_pred))\r\n",
        "\r\n",
        "from sklearn.metrics import confusion_matrix\r\n",
        "print(confusion_matrix(y_test, y_pred))"
      ],
      "execution_count": 84,
      "outputs": [
        {
          "output_type": "stream",
          "text": [
            "              precision    recall  f1-score   support\n",
            "\n",
            "           0       0.77      0.84      0.80       277\n",
            "           1       0.61      0.55      0.58       118\n",
            "           2       0.00      0.00      0.00        33\n",
            "           3       0.67      0.80      0.73       169\n",
            "           4       0.00      0.00      0.00        12\n",
            "           5       0.33      0.12      0.18         8\n",
            "\n",
            "    accuracy                           0.70       617\n",
            "   macro avg       0.40      0.39      0.38       617\n",
            "weighted avg       0.65      0.70      0.67       617\n",
            "\n",
            "0.3967749965564113\n",
            "0.3859698767219159\n",
            "0.3820324478062282\n",
            "0.7034035656401945\n",
            "[[233  27   0  17   0   0]\n",
            " [ 35  65   1  17   0   0]\n",
            " [ 14   1   0  18   0   0]\n",
            " [ 18  14   1 135   0   1]\n",
            " [  1   0   1   9   0   1]\n",
            " [  1   0   0   6   0   1]]\n"
          ],
          "name": "stdout"
        }
      ]
    },
    {
      "cell_type": "code",
      "metadata": {
        "colab": {
          "base_uri": "https://localhost:8080/"
        },
        "id": "TkjyEpG8H_1y",
        "outputId": "42c1774f-781d-41e0-952e-d940562f4905"
      },
      "source": [
        "X = features\r\n",
        "y = target.astype(int)\r\n",
        "names = [\"KNN\", \"SVM_Linear\", \"SVM_rbf\", \"DecisionTree\", \"RandomForest\"]\r\n",
        "scoring = {'acc': 'accuracy',\r\n",
        "           'prec_macro': 'precision_macro',\r\n",
        "           'rec_macro': 'recall_macro',\r\n",
        "           'f1_macro' : 'f1_macro'}\r\n",
        "from sklearn.model_selection import StratifiedKFold\r\n",
        "cv = StratifiedKFold(n_splits=5, random_state=0, shuffle=True)\r\n",
        "accuracy_scores = []\r\n",
        "precision_scores = []\r\n",
        "recall_scores = []\r\n",
        "f1_scores = []\r\n",
        "for i, (train, test) in enumerate(cv.split(X, y)):\r\n",
        "    print(\"=================\", str(i) , \" Fold =================\")\r\n",
        "    X_train = X.iloc[train]\r\n",
        "    X_test = X.iloc[test]\r\n",
        "    y_train = y.iloc[train]\r\n",
        "    y_test = y.iloc[test]\r\n",
        "    for col in X_train.columns:\r\n",
        "      X_train[col] = X_train[col].astype(int)\r\n",
        "      y_train = y_train.astype(int)\r\n",
        "    for col in X_test.columns:\r\n",
        "      X_test[col] = X_test[col].astype(int)\r\n",
        "      y_test = y_test.astype(int)\r\n",
        "    model = lgbm_wrapper\r\n",
        "    model.fit(X_train, y_train,\r\n",
        "                 eval_metric='multiclass',\r\n",
        "                 eval_set=[(X_test, y_test)],\r\n",
        "                 verbose=250,)\r\n",
        "    y_pred = lgbm_wrapper.predict(X_test)\r\n",
        "    #print(classification_report(y_test,y_pred))\r\n",
        "    print(\"accuracy_score : \", accuracy_score(y_test, y_pred))\r\n",
        "    print(\"precision_macro : \", precision_score(y_test, y_pred,average='macro'))\r\n",
        "    print(\"recall_macro : \",recall_score(y_test, y_pred,average='macro'))\r\n",
        "    print(\"f1_macro : \",f1_score(y_test, y_pred,average='macro'))\r\n",
        "    accuracy_scores.append(accuracy_score(y_test, y_pred))\r\n",
        "    precision_scores.append(precision_score(y_test, y_pred,average='macro'))\r\n",
        "    recall_scores.append(recall_score(y_test, y_pred,average='macro'))\r\n",
        "    f1_scores.append(f1_score(y_test, y_pred,average='macro'))\r\n",
        "print(\"\")\r\n",
        "print(\"Acc 평균 : \", np.mean(accuracy_scores))\r\n",
        "print(\"prec 평균 : \", np.mean(precision_scores))\r\n",
        "print(\"Recall 평균 : \", np.mean(recall_scores))\r\n",
        "print(\"F1 평균 : \", np.mean(f1_scores))"
      ],
      "execution_count": 77,
      "outputs": [
        {
          "output_type": "stream",
          "text": [
            "================= 0  Fold =================\n",
            "accuracy_score :  0.656957928802589\n",
            "precision_macro :  0.3990829346092504\n",
            "recall_macro :  0.39455418112388396\n",
            "f1_macro :  0.39284343806876837\n",
            "================= 1  Fold =================\n",
            "accuracy_score :  0.6580226904376013\n",
            "precision_macro :  0.3556446540880503\n",
            "recall_macro :  0.3385853173057402\n",
            "f1_macro :  0.33168735586835935\n",
            "================= 2  Fold =================\n",
            "accuracy_score :  0.6888168557536467\n",
            "precision_macro :  0.41755704194391213\n",
            "recall_macro :  0.40014117859860265\n",
            "f1_macro :  0.39981064575861036\n",
            "================= 3  Fold =================\n",
            "accuracy_score :  0.6871961102106969\n",
            "precision_macro :  0.44885482633675\n",
            "recall_macro :  0.43495439190517765\n",
            "f1_macro :  0.43195550109409453\n",
            "================= 4  Fold =================\n",
            "accuracy_score :  0.6855753646677472\n",
            "precision_macro :  0.40616007086595324\n",
            "recall_macro :  0.4020675433906928\n",
            "f1_macro :  0.3986021334626689\n",
            "\n",
            "Acc 평균 :  0.6753137899744561\n",
            "prec 평균 :  0.4054599055687832\n",
            "Recall 평균 :  0.3940605224648195\n",
            "F1 평균 :  0.39097981485050026\n"
          ],
          "name": "stdout"
        }
      ]
    },
    {
      "cell_type": "code",
      "metadata": {
        "id": "ZY55sgnvLwx8"
      },
      "source": [
        ""
      ],
      "execution_count": null,
      "outputs": []
    },
    {
      "cell_type": "code",
      "metadata": {
        "id": "UKMVjzJpQqte"
      },
      "source": [
        "import matplotlib.pyplot as plt\r\n",
        "\r\n",
        "lgbm_result = lgbm_wrapper.fit(X_train, y_train,\r\n",
        "                 eval_metric='multiclass',\r\n",
        "                 eval_set=[(X_test, y_test),(X_train, y_train)],\r\n",
        "                 verbose=100)\r\n",
        "print(classification_report(y_test,y_pred))\r\n",
        "\r\n",
        "\r\n",
        "lgb.plot_metric(lgbm_result,xlim=(0,200))\r\n",
        " "
      ],
      "execution_count": null,
      "outputs": []
    },
    {
      "cell_type": "code",
      "metadata": {
        "id": "33YVzADpLxnC"
      },
      "source": [
        "from matplotlib import pyplot as plt\r\n",
        "from lightgbm import plot_importance\r\n",
        "fig, ax = plt.subplots(figsize=(10,8))\r\n",
        "plot_importance(lgbm_wrapper, ax = ax)"
      ],
      "execution_count": null,
      "outputs": []
    }
  ]
}